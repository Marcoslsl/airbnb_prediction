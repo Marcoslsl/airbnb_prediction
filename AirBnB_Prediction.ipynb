{
 "cells": [
  {
   "cell_type": "markdown",
   "id": "0434295a",
   "metadata": {},
   "source": [
    "# -- Objetivo do problema\n",
    "    \n",
    "    --1.0. Previsão do primeiro destino que um novo usuário irá escolher.\n",
    "    \n",
    "    --Por que?\n",
    "        --Quak tipo de modelo de negócio do Airbnb\n",
    "            --Marketplace( Conecta pessoas que oferecem acamodação, com pessoas que estão procurando acomodação )\n",
    "            --Oferta ( pessoas oferecendo acomodação )\n",
    "                -- Tamanho do portfolio\n",
    "                -- Diversidade/densidade de portfolio.\n",
    "                -- Preço Médio\n",
    "                \n",
    "            -- Demanda ( pessoas procurando acomodação )\n",
    "                -- Numero de Usuários\n",
    "                -- LTV ( Lifetime Value )\n",
    "                -- CAC ( Client acquisition cost )\n",
    "                \n",
    "            -- Gross Revenue = (phi*Numero cliente) - CAC\n",
    "                \n",
    "            -- Demanda ( pessoas procurando acomodação )\n",
    "            \n",
    "--Proposta da solução\n",
    "  - Modelo de previsão do primeiro destino de um novo usuário.\n",
    "  - 1.0. Predições e salvar em uma tabela do banco de dados.\n",
    "  - 2.0. API\n",
    "        - Input: usuário e suas caracteristicas\n",
    "        - output: usuario e suas caracteristicas com a coluna prediction"
   ]
  },
  {
   "cell_type": "markdown",
   "id": "76b1ed8d",
   "metadata": {},
   "source": [
    "# 0.0. Imports "
   ]
  },
  {
   "cell_type": "code",
   "execution_count": 35,
   "id": "7466bba6",
   "metadata": {
    "ExecuteTime": {
     "end_time": "2022-02-04T17:50:38.140030Z",
     "start_time": "2022-02-04T17:50:38.121992Z"
    }
   },
   "outputs": [],
   "source": [
    "import random\n",
    "\n",
    "import pandas  as pd \n",
    "import numpy   as np \n",
    "import seaborn as sns\n",
    "\n",
    "import matplotlib.pyplot as plt\n",
    "\n",
    "from sklearn.model_selection import train_test_split\n",
    "from sklearn.preprocessing   import OneHotEncoder\n",
    "from sklearn.metrics         import classification_report, accuracy_score, balanced_accuracy_score, cohen_kappa_score\n",
    "from scikitplot.metrics      import plot_confusion_matrix\n",
    "\n",
    "from keras import models\n",
    "from keras import layers"
   ]
  },
  {
   "cell_type": "markdown",
   "id": "03534561",
   "metadata": {},
   "source": [
    "## 0.1. Helper Functions "
   ]
  },
  {
   "cell_type": "code",
   "execution_count": 2,
   "id": "1bfe6a96",
   "metadata": {
    "ExecuteTime": {
     "end_time": "2022-02-04T16:13:46.739019Z",
     "start_time": "2022-02-04T16:13:46.717029Z"
    }
   },
   "outputs": [],
   "source": [
    "def numeric_statistics( df ):\n",
    "    \n",
    "    dic = {\n",
    "        \"type\": df.dtypes.values,\n",
    "        \"Unique_Values\": df.nunique().values,\n",
    "        \"Mean\": df.mean(),\n",
    "        \"Median\": df.median(),\n",
    "        \"Std\": df.std(),\n",
    "        \"Min\": df.min(),\n",
    "        \"Max\": df.max(),\n",
    "        \"Range\": df.max() - df.min(),\n",
    "        \"Skew\": df.skew(),\n",
    "        \"Kurtosis\": df.kurtosis()\n",
    "    }\n",
    "    \n",
    "    return pd.DataFrame( dic, index=df.columns )"
   ]
  },
  {
   "cell_type": "markdown",
   "id": "224e4999",
   "metadata": {
    "ExecuteTime": {
     "end_time": "2022-02-03T13:02:27.056350Z",
     "start_time": "2022-02-03T13:02:27.016675Z"
    }
   },
   "source": [
    "# 1.0. Data Description"
   ]
  },
  {
   "cell_type": "code",
   "execution_count": 3,
   "id": "58a0b66d",
   "metadata": {
    "ExecuteTime": {
     "end_time": "2022-02-04T16:13:47.356021Z",
     "start_time": "2022-02-04T16:13:46.742022Z"
    }
   },
   "outputs": [],
   "source": [
    "df_raw = pd.read_csv( 'data/train_users_2.csv', low_memory=True )\n",
    "\n",
    "# df_sessions = pd.read_csv( 'data/sessions.csv', low_memory=True )"
   ]
  },
  {
   "cell_type": "code",
   "execution_count": 4,
   "id": "d2d97270",
   "metadata": {
    "ExecuteTime": {
     "end_time": "2022-02-04T16:13:47.402064Z",
     "start_time": "2022-02-04T16:13:47.359023Z"
    }
   },
   "outputs": [
    {
     "data": {
      "text/html": [
       "<div>\n",
       "<style scoped>\n",
       "    .dataframe tbody tr th:only-of-type {\n",
       "        vertical-align: middle;\n",
       "    }\n",
       "\n",
       "    .dataframe tbody tr th {\n",
       "        vertical-align: top;\n",
       "    }\n",
       "\n",
       "    .dataframe thead th {\n",
       "        text-align: right;\n",
       "    }\n",
       "</style>\n",
       "<table border=\"1\" class=\"dataframe\">\n",
       "  <thead>\n",
       "    <tr style=\"text-align: right;\">\n",
       "      <th></th>\n",
       "      <th>id</th>\n",
       "      <th>date_account_created</th>\n",
       "      <th>timestamp_first_active</th>\n",
       "      <th>date_first_booking</th>\n",
       "      <th>gender</th>\n",
       "      <th>age</th>\n",
       "      <th>signup_method</th>\n",
       "      <th>signup_flow</th>\n",
       "      <th>language</th>\n",
       "      <th>affiliate_channel</th>\n",
       "      <th>affiliate_provider</th>\n",
       "      <th>first_affiliate_tracked</th>\n",
       "      <th>signup_app</th>\n",
       "      <th>first_device_type</th>\n",
       "      <th>first_browser</th>\n",
       "      <th>country_destination</th>\n",
       "    </tr>\n",
       "  </thead>\n",
       "  <tbody>\n",
       "    <tr>\n",
       "      <th>0</th>\n",
       "      <td>gxn3p5htnn</td>\n",
       "      <td>2010-06-28</td>\n",
       "      <td>20090319043255</td>\n",
       "      <td>NaN</td>\n",
       "      <td>-unknown-</td>\n",
       "      <td>NaN</td>\n",
       "      <td>facebook</td>\n",
       "      <td>0</td>\n",
       "      <td>en</td>\n",
       "      <td>direct</td>\n",
       "      <td>direct</td>\n",
       "      <td>untracked</td>\n",
       "      <td>Web</td>\n",
       "      <td>Mac Desktop</td>\n",
       "      <td>Chrome</td>\n",
       "      <td>NDF</td>\n",
       "    </tr>\n",
       "    <tr>\n",
       "      <th>1</th>\n",
       "      <td>820tgsjxq7</td>\n",
       "      <td>2011-05-25</td>\n",
       "      <td>20090523174809</td>\n",
       "      <td>NaN</td>\n",
       "      <td>MALE</td>\n",
       "      <td>38.0</td>\n",
       "      <td>facebook</td>\n",
       "      <td>0</td>\n",
       "      <td>en</td>\n",
       "      <td>seo</td>\n",
       "      <td>google</td>\n",
       "      <td>untracked</td>\n",
       "      <td>Web</td>\n",
       "      <td>Mac Desktop</td>\n",
       "      <td>Chrome</td>\n",
       "      <td>NDF</td>\n",
       "    </tr>\n",
       "    <tr>\n",
       "      <th>2</th>\n",
       "      <td>4ft3gnwmtx</td>\n",
       "      <td>2010-09-28</td>\n",
       "      <td>20090609231247</td>\n",
       "      <td>2010-08-02</td>\n",
       "      <td>FEMALE</td>\n",
       "      <td>56.0</td>\n",
       "      <td>basic</td>\n",
       "      <td>3</td>\n",
       "      <td>en</td>\n",
       "      <td>direct</td>\n",
       "      <td>direct</td>\n",
       "      <td>untracked</td>\n",
       "      <td>Web</td>\n",
       "      <td>Windows Desktop</td>\n",
       "      <td>IE</td>\n",
       "      <td>US</td>\n",
       "    </tr>\n",
       "    <tr>\n",
       "      <th>3</th>\n",
       "      <td>bjjt8pjhuk</td>\n",
       "      <td>2011-12-05</td>\n",
       "      <td>20091031060129</td>\n",
       "      <td>2012-09-08</td>\n",
       "      <td>FEMALE</td>\n",
       "      <td>42.0</td>\n",
       "      <td>facebook</td>\n",
       "      <td>0</td>\n",
       "      <td>en</td>\n",
       "      <td>direct</td>\n",
       "      <td>direct</td>\n",
       "      <td>untracked</td>\n",
       "      <td>Web</td>\n",
       "      <td>Mac Desktop</td>\n",
       "      <td>Firefox</td>\n",
       "      <td>other</td>\n",
       "    </tr>\n",
       "    <tr>\n",
       "      <th>4</th>\n",
       "      <td>87mebub9p4</td>\n",
       "      <td>2010-09-14</td>\n",
       "      <td>20091208061105</td>\n",
       "      <td>2010-02-18</td>\n",
       "      <td>-unknown-</td>\n",
       "      <td>41.0</td>\n",
       "      <td>basic</td>\n",
       "      <td>0</td>\n",
       "      <td>en</td>\n",
       "      <td>direct</td>\n",
       "      <td>direct</td>\n",
       "      <td>untracked</td>\n",
       "      <td>Web</td>\n",
       "      <td>Mac Desktop</td>\n",
       "      <td>Chrome</td>\n",
       "      <td>US</td>\n",
       "    </tr>\n",
       "  </tbody>\n",
       "</table>\n",
       "</div>"
      ],
      "text/plain": [
       "           id date_account_created  timestamp_first_active date_first_booking  \\\n",
       "0  gxn3p5htnn           2010-06-28          20090319043255                NaN   \n",
       "1  820tgsjxq7           2011-05-25          20090523174809                NaN   \n",
       "2  4ft3gnwmtx           2010-09-28          20090609231247         2010-08-02   \n",
       "3  bjjt8pjhuk           2011-12-05          20091031060129         2012-09-08   \n",
       "4  87mebub9p4           2010-09-14          20091208061105         2010-02-18   \n",
       "\n",
       "      gender   age signup_method  signup_flow language affiliate_channel  \\\n",
       "0  -unknown-   NaN      facebook            0       en            direct   \n",
       "1       MALE  38.0      facebook            0       en               seo   \n",
       "2     FEMALE  56.0         basic            3       en            direct   \n",
       "3     FEMALE  42.0      facebook            0       en            direct   \n",
       "4  -unknown-  41.0         basic            0       en            direct   \n",
       "\n",
       "  affiliate_provider first_affiliate_tracked signup_app first_device_type  \\\n",
       "0             direct               untracked        Web       Mac Desktop   \n",
       "1             google               untracked        Web       Mac Desktop   \n",
       "2             direct               untracked        Web   Windows Desktop   \n",
       "3             direct               untracked        Web       Mac Desktop   \n",
       "4             direct               untracked        Web       Mac Desktop   \n",
       "\n",
       "  first_browser country_destination  \n",
       "0        Chrome                 NDF  \n",
       "1        Chrome                 NDF  \n",
       "2            IE                  US  \n",
       "3       Firefox               other  \n",
       "4        Chrome                  US  "
      ]
     },
     "execution_count": 4,
     "metadata": {},
     "output_type": "execute_result"
    }
   ],
   "source": [
    "df_raw.head()"
   ]
  },
  {
   "cell_type": "markdown",
   "id": "987e15db",
   "metadata": {},
   "source": [
    "## 1.1. Data Dimensions  "
   ]
  },
  {
   "cell_type": "code",
   "execution_count": 5,
   "id": "00f23ecf",
   "metadata": {
    "ExecuteTime": {
     "end_time": "2022-02-04T16:13:47.418056Z",
     "start_time": "2022-02-04T16:13:47.405022Z"
    }
   },
   "outputs": [
    {
     "name": "stdout",
     "output_type": "stream",
     "text": [
      "Number of Rows: 213451\n",
      "Number of Columns: 16\n"
     ]
    }
   ],
   "source": [
    "print(f'Number of Rows: {df_raw.shape[0]}') \n",
    "print(f'Number of Columns: {df_raw.shape[1]}') "
   ]
  },
  {
   "cell_type": "markdown",
   "id": "c8bfa350",
   "metadata": {},
   "source": [
    "## 1.2. Data types "
   ]
  },
  {
   "cell_type": "code",
   "execution_count": 6,
   "id": "0e9c9246",
   "metadata": {
    "ExecuteTime": {
     "end_time": "2022-02-04T16:13:47.434018Z",
     "start_time": "2022-02-04T16:13:47.421022Z"
    }
   },
   "outputs": [
    {
     "data": {
      "text/plain": [
       "id                          object\n",
       "date_account_created        object\n",
       "timestamp_first_active       int64\n",
       "date_first_booking          object\n",
       "gender                      object\n",
       "age                        float64\n",
       "signup_method               object\n",
       "signup_flow                  int64\n",
       "language                    object\n",
       "affiliate_channel           object\n",
       "affiliate_provider          object\n",
       "first_affiliate_tracked     object\n",
       "signup_app                  object\n",
       "first_device_type           object\n",
       "first_browser               object\n",
       "country_destination         object\n",
       "dtype: object"
      ]
     },
     "execution_count": 6,
     "metadata": {},
     "output_type": "execute_result"
    }
   ],
   "source": [
    "df_raw.dtypes"
   ]
  },
  {
   "cell_type": "markdown",
   "id": "874215b7",
   "metadata": {},
   "source": [
    "## 1.3. Check NA "
   ]
  },
  {
   "cell_type": "code",
   "execution_count": 7,
   "id": "cf8a7172",
   "metadata": {
    "ExecuteTime": {
     "end_time": "2022-02-04T16:13:47.797474Z",
     "start_time": "2022-02-04T16:13:47.436023Z"
    }
   },
   "outputs": [
    {
     "data": {
      "text/plain": [
       "id                              0\n",
       "date_account_created            0\n",
       "timestamp_first_active          0\n",
       "date_first_booking         124543\n",
       "gender                          0\n",
       "age                         87990\n",
       "signup_method                   0\n",
       "signup_flow                     0\n",
       "language                        0\n",
       "affiliate_channel               0\n",
       "affiliate_provider              0\n",
       "first_affiliate_tracked      6065\n",
       "signup_app                      0\n",
       "first_device_type               0\n",
       "first_browser                   0\n",
       "country_destination             0\n",
       "dtype: int64"
      ]
     },
     "execution_count": 7,
     "metadata": {},
     "output_type": "execute_result"
    }
   ],
   "source": [
    "df_raw.isnull().sum()"
   ]
  },
  {
   "cell_type": "markdown",
   "id": "044a7b8e",
   "metadata": {},
   "source": [
    "## 1.4. Description Analysis "
   ]
  },
  {
   "cell_type": "code",
   "execution_count": 8,
   "id": "e0ce83be",
   "metadata": {
    "ExecuteTime": {
     "end_time": "2022-02-04T16:13:47.812735Z",
     "start_time": "2022-02-04T16:13:47.799472Z"
    }
   },
   "outputs": [],
   "source": [
    "num_attributes = df_raw.select_dtypes( include=['int64','float64'] )\n",
    "cat_attributes = df_raw.select_dtypes( include='object')\n",
    "\n",
    "# num_attributes_sessions = df_raw.select_dtypes( include=['int64','float64'] )\n",
    "# cat_attributes_sessions = df_raw.select_dtypes( include='object' )"
   ]
  },
  {
   "cell_type": "code",
   "execution_count": 9,
   "id": "de276f47",
   "metadata": {
    "ExecuteTime": {
     "end_time": "2022-02-04T16:13:47.940482Z",
     "start_time": "2022-02-04T16:13:47.814471Z"
    }
   },
   "outputs": [
    {
     "data": {
      "text/html": [
       "<div>\n",
       "<style scoped>\n",
       "    .dataframe tbody tr th:only-of-type {\n",
       "        vertical-align: middle;\n",
       "    }\n",
       "\n",
       "    .dataframe tbody tr th {\n",
       "        vertical-align: top;\n",
       "    }\n",
       "\n",
       "    .dataframe thead th {\n",
       "        text-align: right;\n",
       "    }\n",
       "</style>\n",
       "<table border=\"1\" class=\"dataframe\">\n",
       "  <thead>\n",
       "    <tr style=\"text-align: right;\">\n",
       "      <th></th>\n",
       "      <th>type</th>\n",
       "      <th>Unique_Values</th>\n",
       "      <th>Mean</th>\n",
       "      <th>Median</th>\n",
       "      <th>Std</th>\n",
       "      <th>Min</th>\n",
       "      <th>Max</th>\n",
       "      <th>Range</th>\n",
       "      <th>Skew</th>\n",
       "      <th>Kurtosis</th>\n",
       "    </tr>\n",
       "  </thead>\n",
       "  <tbody>\n",
       "    <tr>\n",
       "      <th>timestamp_first_active</th>\n",
       "      <td>int64</td>\n",
       "      <td>213451</td>\n",
       "      <td>2.013085e+13</td>\n",
       "      <td>2.013091e+13</td>\n",
       "      <td>9.253717e+09</td>\n",
       "      <td>2.009032e+13</td>\n",
       "      <td>2.014063e+13</td>\n",
       "      <td>5.031119e+10</td>\n",
       "      <td>-0.861578</td>\n",
       "      <td>0.355882</td>\n",
       "    </tr>\n",
       "    <tr>\n",
       "      <th>age</th>\n",
       "      <td>float64</td>\n",
       "      <td>127</td>\n",
       "      <td>4.966834e+01</td>\n",
       "      <td>3.400000e+01</td>\n",
       "      <td>1.556666e+02</td>\n",
       "      <td>1.000000e+00</td>\n",
       "      <td>2.014000e+03</td>\n",
       "      <td>2.013000e+03</td>\n",
       "      <td>12.422586</td>\n",
       "      <td>153.568929</td>\n",
       "    </tr>\n",
       "    <tr>\n",
       "      <th>signup_flow</th>\n",
       "      <td>int64</td>\n",
       "      <td>17</td>\n",
       "      <td>3.267387e+00</td>\n",
       "      <td>0.000000e+00</td>\n",
       "      <td>7.637707e+00</td>\n",
       "      <td>0.000000e+00</td>\n",
       "      <td>2.500000e+01</td>\n",
       "      <td>2.500000e+01</td>\n",
       "      <td>2.234366</td>\n",
       "      <td>3.324444</td>\n",
       "    </tr>\n",
       "  </tbody>\n",
       "</table>\n",
       "</div>"
      ],
      "text/plain": [
       "                           type  Unique_Values          Mean        Median  \\\n",
       "timestamp_first_active    int64         213451  2.013085e+13  2.013091e+13   \n",
       "age                     float64            127  4.966834e+01  3.400000e+01   \n",
       "signup_flow               int64             17  3.267387e+00  0.000000e+00   \n",
       "\n",
       "                                 Std           Min           Max  \\\n",
       "timestamp_first_active  9.253717e+09  2.009032e+13  2.014063e+13   \n",
       "age                     1.556666e+02  1.000000e+00  2.014000e+03   \n",
       "signup_flow             7.637707e+00  0.000000e+00  2.500000e+01   \n",
       "\n",
       "                               Range       Skew    Kurtosis  \n",
       "timestamp_first_active  5.031119e+10  -0.861578    0.355882  \n",
       "age                     2.013000e+03  12.422586  153.568929  \n",
       "signup_flow             2.500000e+01   2.234366    3.324444  "
      ]
     },
     "execution_count": 9,
     "metadata": {},
     "output_type": "execute_result"
    }
   ],
   "source": [
    "numeric_statistics( num_attributes )"
   ]
  },
  {
   "cell_type": "markdown",
   "id": "cc31863f",
   "metadata": {},
   "source": [
    "# 2.0. Feature Engineering"
   ]
  },
  {
   "cell_type": "code",
   "execution_count": 10,
   "id": "353483ce",
   "metadata": {
    "ExecuteTime": {
     "end_time": "2022-02-04T16:13:47.970479Z",
     "start_time": "2022-02-04T16:13:47.945471Z"
    }
   },
   "outputs": [],
   "source": [
    "df2 = df_raw.copy()"
   ]
  },
  {
   "cell_type": "markdown",
   "id": "6173e31d",
   "metadata": {},
   "source": [
    "## 2.1. FillNA"
   ]
  },
  {
   "cell_type": "code",
   "execution_count": 11,
   "id": "a8a8ecc0",
   "metadata": {
    "ExecuteTime": {
     "end_time": "2022-02-04T16:13:48.351737Z",
     "start_time": "2022-02-04T16:13:47.972472Z"
    }
   },
   "outputs": [],
   "source": [
    "# date_first_booking\n",
    "# age\n",
    "# first_affiliate_tracked\n",
    "\n",
    "#initialy\n",
    "df2 = df2.dropna()"
   ]
  },
  {
   "cell_type": "markdown",
   "id": "e7a4c4d9",
   "metadata": {},
   "source": [
    "## 2.2. Change Data Types "
   ]
  },
  {
   "cell_type": "code",
   "execution_count": 12,
   "id": "de03f787",
   "metadata": {
    "ExecuteTime": {
     "end_time": "2022-02-04T16:13:48.382471Z",
     "start_time": "2022-02-04T16:13:48.355474Z"
    }
   },
   "outputs": [
    {
     "data": {
      "text/html": [
       "<div>\n",
       "<style scoped>\n",
       "    .dataframe tbody tr th:only-of-type {\n",
       "        vertical-align: middle;\n",
       "    }\n",
       "\n",
       "    .dataframe tbody tr th {\n",
       "        vertical-align: top;\n",
       "    }\n",
       "\n",
       "    .dataframe thead th {\n",
       "        text-align: right;\n",
       "    }\n",
       "</style>\n",
       "<table border=\"1\" class=\"dataframe\">\n",
       "  <thead>\n",
       "    <tr style=\"text-align: right;\">\n",
       "      <th></th>\n",
       "      <th>141169</th>\n",
       "      <th>0</th>\n",
       "    </tr>\n",
       "  </thead>\n",
       "  <tbody>\n",
       "    <tr>\n",
       "      <th>id</th>\n",
       "      <td>itptfwlm9c</td>\n",
       "      <td>object</td>\n",
       "    </tr>\n",
       "    <tr>\n",
       "      <th>date_account_created</th>\n",
       "      <td>2014-01-13</td>\n",
       "      <td>object</td>\n",
       "    </tr>\n",
       "    <tr>\n",
       "      <th>timestamp_first_active</th>\n",
       "      <td>20140113135306</td>\n",
       "      <td>int64</td>\n",
       "    </tr>\n",
       "    <tr>\n",
       "      <th>date_first_booking</th>\n",
       "      <td>2014-02-23</td>\n",
       "      <td>object</td>\n",
       "    </tr>\n",
       "    <tr>\n",
       "      <th>gender</th>\n",
       "      <td>FEMALE</td>\n",
       "      <td>object</td>\n",
       "    </tr>\n",
       "    <tr>\n",
       "      <th>age</th>\n",
       "      <td>61.0</td>\n",
       "      <td>float64</td>\n",
       "    </tr>\n",
       "    <tr>\n",
       "      <th>signup_method</th>\n",
       "      <td>basic</td>\n",
       "      <td>object</td>\n",
       "    </tr>\n",
       "    <tr>\n",
       "      <th>signup_flow</th>\n",
       "      <td>25</td>\n",
       "      <td>int64</td>\n",
       "    </tr>\n",
       "    <tr>\n",
       "      <th>language</th>\n",
       "      <td>en</td>\n",
       "      <td>object</td>\n",
       "    </tr>\n",
       "    <tr>\n",
       "      <th>affiliate_channel</th>\n",
       "      <td>direct</td>\n",
       "      <td>object</td>\n",
       "    </tr>\n",
       "    <tr>\n",
       "      <th>affiliate_provider</th>\n",
       "      <td>direct</td>\n",
       "      <td>object</td>\n",
       "    </tr>\n",
       "    <tr>\n",
       "      <th>first_affiliate_tracked</th>\n",
       "      <td>untracked</td>\n",
       "      <td>object</td>\n",
       "    </tr>\n",
       "    <tr>\n",
       "      <th>signup_app</th>\n",
       "      <td>iOS</td>\n",
       "      <td>object</td>\n",
       "    </tr>\n",
       "    <tr>\n",
       "      <th>first_device_type</th>\n",
       "      <td>iPhone</td>\n",
       "      <td>object</td>\n",
       "    </tr>\n",
       "    <tr>\n",
       "      <th>first_browser</th>\n",
       "      <td>-unknown-</td>\n",
       "      <td>object</td>\n",
       "    </tr>\n",
       "    <tr>\n",
       "      <th>country_destination</th>\n",
       "      <td>other</td>\n",
       "      <td>object</td>\n",
       "    </tr>\n",
       "  </tbody>\n",
       "</table>\n",
       "</div>"
      ],
      "text/plain": [
       "                                 141169   0     \n",
       "id                           itptfwlm9c   object\n",
       "date_account_created         2014-01-13   object\n",
       "timestamp_first_active   20140113135306    int64\n",
       "date_first_booking           2014-02-23   object\n",
       "gender                           FEMALE   object\n",
       "age                                61.0  float64\n",
       "signup_method                     basic   object\n",
       "signup_flow                          25    int64\n",
       "language                             en   object\n",
       "affiliate_channel                direct   object\n",
       "affiliate_provider               direct   object\n",
       "first_affiliate_tracked       untracked   object\n",
       "signup_app                          iOS   object\n",
       "first_device_type                iPhone   object\n",
       "first_browser                 -unknown-   object\n",
       "country_destination               other   object"
      ]
     },
     "execution_count": 12,
     "metadata": {},
     "output_type": "execute_result"
    }
   ],
   "source": [
    "aux_01 = df2.sample().T\n",
    "aux_02 = df2.sample().dtypes\n",
    "\n",
    "pd.concat( [aux_01,aux_02], axis=1 )"
   ]
  },
  {
   "cell_type": "code",
   "execution_count": 13,
   "id": "78d0d884",
   "metadata": {
    "ExecuteTime": {
     "end_time": "2022-02-04T16:13:48.700527Z",
     "start_time": "2022-02-04T16:13:48.385475Z"
    }
   },
   "outputs": [],
   "source": [
    "# date_account_created\n",
    "df2['date_account_created'] = pd.to_datetime( df2['date_account_created'] )\n",
    "\n",
    "# timestamp_first_active\n",
    "df2['timestamp_first_active'] = pd.to_datetime( df2['timestamp_first_active'], format='%Y%m%d%H%M%S')\n",
    "\n",
    "# date first_booking \n",
    "df2['date_first_booking'] = pd.to_datetime( df2['date_first_booking'] )  \n",
    "                                           \n",
    "# age \n",
    "df2['age'] = df2['age'].astype( 'int64' )"
   ]
  },
  {
   "cell_type": "markdown",
   "id": "59522019",
   "metadata": {
    "ExecuteTime": {
     "end_time": "2022-02-03T16:28:11.288939Z",
     "start_time": "2022-02-03T16:28:11.267944Z"
    }
   },
   "source": [
    "## 2.3. Check Blanced Data"
   ]
  },
  {
   "cell_type": "code",
   "execution_count": 14,
   "id": "7164fa5b",
   "metadata": {
    "ExecuteTime": {
     "end_time": "2022-02-04T16:13:48.732569Z",
     "start_time": "2022-02-04T16:13:48.702470Z"
    }
   },
   "outputs": [
    {
     "data": {
      "text/plain": [
       "US       0.708864\n",
       "other    0.110854\n",
       "FR       0.054085\n",
       "IT       0.029763\n",
       "GB       0.025935\n",
       "ES       0.024864\n",
       "CA       0.015696\n",
       "DE       0.012454\n",
       "NL       0.008801\n",
       "AU       0.006366\n",
       "PT       0.002318\n",
       "Name: country_destination, dtype: float64"
      ]
     },
     "execution_count": 14,
     "metadata": {},
     "output_type": "execute_result"
    }
   ],
   "source": [
    "df2['country_destination'].value_counts( normalize=True )"
   ]
  },
  {
   "cell_type": "markdown",
   "id": "2698869d",
   "metadata": {},
   "source": [
    "# 3.0. Data Filtering"
   ]
  },
  {
   "cell_type": "code",
   "execution_count": 15,
   "id": "4517750a",
   "metadata": {
    "ExecuteTime": {
     "end_time": "2022-02-04T16:13:48.764575Z",
     "start_time": "2022-02-04T16:13:48.738477Z"
    }
   },
   "outputs": [],
   "source": [
    "df3 = df2.copy()"
   ]
  },
  {
   "cell_type": "markdown",
   "id": "01c5e648",
   "metadata": {},
   "source": [
    "# 4.0. EDA"
   ]
  },
  {
   "cell_type": "code",
   "execution_count": 16,
   "id": "aacc1c35",
   "metadata": {
    "ExecuteTime": {
     "end_time": "2022-02-04T16:13:48.780572Z",
     "start_time": "2022-02-04T16:13:48.766471Z"
    }
   },
   "outputs": [],
   "source": [
    "df4 = df3.copy()"
   ]
  },
  {
   "cell_type": "markdown",
   "id": "c50928b7",
   "metadata": {},
   "source": [
    "# 5.0. Data Preparation "
   ]
  },
  {
   "cell_type": "code",
   "execution_count": 17,
   "id": "a37118a5",
   "metadata": {
    "ExecuteTime": {
     "end_time": "2022-02-04T16:13:48.906481Z",
     "start_time": "2022-02-04T16:13:48.782472Z"
    }
   },
   "outputs": [],
   "source": [
    "df5 = df4.copy()\n",
    "\n",
    "df5_dummys = pd.get_dummies( df5.drop( ['id','country_destination'], axis=1 ) )\n",
    "\n",
    "df5 = pd.concat( [ df5[['id','country_destination']], df5_dummys], axis=1 )"
   ]
  },
  {
   "cell_type": "markdown",
   "id": "e21f6e4c",
   "metadata": {},
   "source": [
    "# 6.0. Feature Selection"
   ]
  },
  {
   "cell_type": "code",
   "execution_count": 18,
   "id": "c0f65313",
   "metadata": {
    "ExecuteTime": {
     "end_time": "2022-02-04T16:13:48.922476Z",
     "start_time": "2022-02-04T16:13:48.908473Z"
    }
   },
   "outputs": [
    {
     "data": {
      "text/plain": [
       "Index(['id', 'country_destination', 'date_account_created',\n",
       "       'timestamp_first_active', 'date_first_booking', 'age', 'signup_flow',\n",
       "       'gender_-unknown-', 'gender_FEMALE', 'gender_MALE',\n",
       "       ...\n",
       "       'first_browser_Safari', 'first_browser_SeaMonkey', 'first_browser_Silk',\n",
       "       'first_browser_SiteKiosk', 'first_browser_SlimBrowser',\n",
       "       'first_browser_Sogou Explorer', 'first_browser_Stainless',\n",
       "       'first_browser_TenFourFox', 'first_browser_TheWorld Browser',\n",
       "       'first_browser_Yandex.Browser'],\n",
       "      dtype='object', length=117)"
      ]
     },
     "execution_count": 18,
     "metadata": {},
     "output_type": "execute_result"
    }
   ],
   "source": [
    "df5.columns"
   ]
  },
  {
   "cell_type": "code",
   "execution_count": 19,
   "id": "2f632fe2",
   "metadata": {
    "ExecuteTime": {
     "end_time": "2022-02-04T16:13:48.953478Z",
     "start_time": "2022-02-04T16:13:48.924479Z"
    }
   },
   "outputs": [],
   "source": [
    "cols_drop = ['date_account_created','timestamp_first_active','date_first_booking']\n",
    "df5 = df5.drop( cols_drop, axis=1 )"
   ]
  },
  {
   "cell_type": "code",
   "execution_count": 20,
   "id": "2aa093a3",
   "metadata": {
    "ExecuteTime": {
     "end_time": "2022-02-04T16:13:48.984472Z",
     "start_time": "2022-02-04T16:13:48.957474Z"
    }
   },
   "outputs": [],
   "source": [
    "X = df5.drop( ['id','country_destination'], axis=1 )\n",
    "y = df5['country_destination'].copy()"
   ]
  },
  {
   "cell_type": "markdown",
   "id": "9849c5c5",
   "metadata": {
    "ExecuteTime": {
     "end_time": "2022-02-03T18:03:58.034759Z",
     "start_time": "2022-02-03T18:03:58.006716Z"
    }
   },
   "source": [
    "# 7.0. Machine Learning"
   ]
  },
  {
   "cell_type": "code",
   "execution_count": 21,
   "id": "b45c1676",
   "metadata": {
    "ExecuteTime": {
     "end_time": "2022-02-04T16:13:49.048471Z",
     "start_time": "2022-02-04T16:13:48.987477Z"
    }
   },
   "outputs": [],
   "source": [
    "X_train, X_val, y_train, y_val = train_test_split( X, y, test_size=0.2, random_state=32 )"
   ]
  },
  {
   "cell_type": "markdown",
   "id": "03d597e5",
   "metadata": {},
   "source": [
    "## 7.1. Baseline model"
   ]
  },
  {
   "cell_type": "code",
   "execution_count": 48,
   "id": "9f3cb2e7",
   "metadata": {
    "ExecuteTime": {
     "end_time": "2022-02-04T18:34:06.950771Z",
     "start_time": "2022-02-04T18:34:06.919739Z"
    }
   },
   "outputs": [],
   "source": [
    "index = df5['country_destination'].value_counts().index\n",
    "values = df5['country_destination'].value_counts( normalize=True ).values"
   ]
  },
  {
   "cell_type": "code",
   "execution_count": 49,
   "id": "356d0737",
   "metadata": {
    "ExecuteTime": {
     "end_time": "2022-02-04T18:34:09.711850Z",
     "start_time": "2022-02-04T18:34:09.683809Z"
    }
   },
   "outputs": [],
   "source": [
    "yhat_random = random.choices( population=index, weights=values, k=y_val.shape[0] )"
   ]
  },
  {
   "cell_type": "code",
   "execution_count": 50,
   "id": "496167cd",
   "metadata": {
    "ExecuteTime": {
     "end_time": "2022-02-04T18:34:11.308224Z",
     "start_time": "2022-02-04T18:34:10.206294Z"
    }
   },
   "outputs": [
    {
     "name": "stdout",
     "output_type": "stream",
     "text": [
      "  model  Accuracy  BalancedAccuracy  KappaScore\n",
      "0    NN  0.519692          0.089961    0.005441\n",
      "              precision    recall  f1-score   support\n",
      "\n",
      "          AU       0.00      0.00      0.00       101\n",
      "          CA       0.01      0.01      0.01       214\n",
      "          DE       0.01      0.01      0.01       170\n",
      "          ES       0.04      0.04      0.04       345\n",
      "          FR       0.05      0.05      0.05       710\n",
      "          GB       0.02      0.02      0.02       344\n",
      "          IT       0.02      0.02      0.02       423\n",
      "          NL       0.00      0.00      0.00       128\n",
      "          PT       0.00      0.00      0.00        36\n",
      "          US       0.71      0.71      0.71      9624\n",
      "       other       0.12      0.12      0.12      1540\n",
      "\n",
      "    accuracy                           0.52     13635\n",
      "   macro avg       0.09      0.09      0.09     13635\n",
      "weighted avg       0.52      0.52      0.52     13635\n",
      "\n"
     ]
    },
    {
     "data": {
      "image/png": "[encoded data removed]",
      "text/plain": [
       "<Figure size 1296x504 with 2 Axes>"
      ]
     },
     "metadata": {
      "needs_background": "light"
     },
     "output_type": "display_data"
    }
   ],
   "source": [
    "# balanced accuracy, accuracy, kappa score \n",
    "dic = {\n",
    "    'model': 'NN',\n",
    "    'Accuracy': accuracy_score( y_val_nn, yhat_random ),\n",
    "    'BalancedAccuracy': balanced_accuracy_score( y_val_nn, yhat_random ),\n",
    "    'KappaScore': cohen_kappa_score( y_val_nn, yhat_random )\n",
    "}\n",
    "print( pd.DataFrame( dic, index=[0] ) )\n",
    "print( classification_report( y_val_nn, yhat_random ) )\n",
    "\n",
    "# confusion matrix\n",
    "plot_confusion_matrix(y_val_nn, yhat_random, figsize=(18,7) );"
   ]
  },
  {
   "cell_type": "markdown",
   "id": "78a6000a",
   "metadata": {},
   "source": [
    "## 7.2. NN "
   ]
  },
  {
   "cell_type": "code",
   "execution_count": 23,
   "id": "bc00beae",
   "metadata": {
    "ExecuteTime": {
     "end_time": "2022-02-04T16:13:49.096480Z",
     "start_time": "2022-02-04T16:13:49.066470Z"
    }
   },
   "outputs": [],
   "source": [
    "on = OneHotEncoder()\n",
    "y_train_nn = on.fit_transform( y_train.values.reshape(-1,1) ).toarray()"
   ]
  },
  {
   "cell_type": "code",
   "execution_count": 24,
   "id": "484371e4",
   "metadata": {
    "ExecuteTime": {
     "end_time": "2022-02-04T16:18:07.041354Z",
     "start_time": "2022-02-04T16:13:49.098473Z"
    }
   },
   "outputs": [
    {
     "name": "stdout",
     "output_type": "stream",
     "text": [
      "Epoch 1/100\n",
      "1705/1705 [==============================] - 3s 2ms/step - loss: 1.3177 - accuracy: 0.7054\n",
      "Epoch 2/100\n",
      "1705/1705 [==============================] - 3s 1ms/step - loss: 1.2520 - accuracy: 0.7081\n",
      "Epoch 3/100\n",
      "1705/1705 [==============================] - 3s 1ms/step - loss: 1.2223 - accuracy: 0.7084\n",
      "Epoch 4/100\n",
      "1705/1705 [==============================] - 3s 1ms/step - loss: 1.2046 - accuracy: 0.7084\n",
      "Epoch 5/100\n",
      "1705/1705 [==============================] - 3s 2ms/step - loss: 1.1824 - accuracy: 0.7085\n",
      "Epoch 6/100\n",
      "1705/1705 [==============================] - 3s 1ms/step - loss: 1.1762 - accuracy: 0.7086\n",
      "Epoch 7/100\n",
      "1705/1705 [==============================] - 3s 1ms/step - loss: 1.1594 - accuracy: 0.7085\n",
      "Epoch 8/100\n",
      "1705/1705 [==============================] - 3s 2ms/step - loss: 1.1512 - accuracy: 0.7087\n",
      "Epoch 9/100\n",
      "1705/1705 [==============================] - 3s 2ms/step - loss: 1.1424 - accuracy: 0.7087\n",
      "Epoch 10/100\n",
      "1705/1705 [==============================] - 3s 2ms/step - loss: 1.1378 - accuracy: 0.7090\n",
      "Epoch 11/100\n",
      "1705/1705 [==============================] - 3s 1ms/step - loss: 1.1364 - accuracy: 0.7091\n",
      "Epoch 12/100\n",
      "1705/1705 [==============================] - 3s 1ms/step - loss: 1.1338 - accuracy: 0.7095\n",
      "Epoch 13/100\n",
      "1705/1705 [==============================] - 3s 1ms/step - loss: 1.1325 - accuracy: 0.7096\n",
      "Epoch 14/100\n",
      "1705/1705 [==============================] - 3s 2ms/step - loss: 1.1306 - accuracy: 0.7096\n",
      "Epoch 15/100\n",
      "1705/1705 [==============================] - 3s 1ms/step - loss: 1.1310 - accuracy: 0.7096\n",
      "Epoch 16/100\n",
      "1705/1705 [==============================] - 3s 1ms/step - loss: 1.1304 - accuracy: 0.7096\n",
      "Epoch 17/100\n",
      "1705/1705 [==============================] - 3s 1ms/step - loss: 1.1289 - accuracy: 0.7096\n",
      "Epoch 18/100\n",
      "1705/1705 [==============================] - 3s 1ms/step - loss: 1.1280 - accuracy: 0.7096\n",
      "Epoch 19/100\n",
      "1705/1705 [==============================] - 3s 1ms/step - loss: 1.1262 - accuracy: 0.7097\n",
      "Epoch 20/100\n",
      "1705/1705 [==============================] - 3s 2ms/step - loss: 1.1261 - accuracy: 0.7097\n",
      "Epoch 21/100\n",
      "1705/1705 [==============================] - 3s 1ms/step - loss: 1.1245 - accuracy: 0.7098\n",
      "Epoch 22/100\n",
      "1705/1705 [==============================] - 3s 2ms/step - loss: 1.1245 - accuracy: 0.7097\n",
      "Epoch 23/100\n",
      "1705/1705 [==============================] - 3s 1ms/step - loss: 1.1240 - accuracy: 0.7098\n",
      "Epoch 24/100\n",
      "1705/1705 [==============================] - 3s 2ms/step - loss: 1.1238 - accuracy: 0.7097\n",
      "Epoch 25/100\n",
      "1705/1705 [==============================] - 3s 1ms/step - loss: 1.1229 - accuracy: 0.7098\n",
      "Epoch 26/100\n",
      "1705/1705 [==============================] - 3s 2ms/step - loss: 1.1216 - accuracy: 0.7098\n",
      "Epoch 27/100\n",
      "1705/1705 [==============================] - 3s 1ms/step - loss: 1.1208 - accuracy: 0.7098\n",
      "Epoch 28/100\n",
      "1705/1705 [==============================] - 3s 2ms/step - loss: 1.1216 - accuracy: 0.7099\n",
      "Epoch 29/100\n",
      "1705/1705 [==============================] - 3s 2ms/step - loss: 1.1198 - accuracy: 0.7099\n",
      "Epoch 30/100\n",
      "1705/1705 [==============================] - 3s 1ms/step - loss: 1.1193 - accuracy: 0.7099\n",
      "Epoch 31/100\n",
      "1705/1705 [==============================] - 3s 1ms/step - loss: 1.1183 - accuracy: 0.7101\n",
      "Epoch 32/100\n",
      "1705/1705 [==============================] - 3s 1ms/step - loss: 1.1196 - accuracy: 0.7100\n",
      "Epoch 33/100\n",
      "1705/1705 [==============================] - 3s 2ms/step - loss: 1.1179 - accuracy: 0.7100\n",
      "Epoch 34/100\n",
      "1705/1705 [==============================] - 3s 2ms/step - loss: 1.1172 - accuracy: 0.7101\n",
      "Epoch 35/100\n",
      "1705/1705 [==============================] - 3s 2ms/step - loss: 1.1173 - accuracy: 0.7100\n",
      "Epoch 36/100\n",
      "1705/1705 [==============================] - 3s 2ms/step - loss: 1.1165 - accuracy: 0.7101\n",
      "Epoch 37/100\n",
      "1705/1705 [==============================] - 3s 1ms/step - loss: 1.1151 - accuracy: 0.7102\n",
      "Epoch 38/100\n",
      "1705/1705 [==============================] - 3s 2ms/step - loss: 1.1146 - accuracy: 0.7102\n",
      "Epoch 39/100\n",
      "1705/1705 [==============================] - 3s 1ms/step - loss: 1.1145 - accuracy: 0.7102\n",
      "Epoch 40/100\n",
      "1705/1705 [==============================] - 3s 1ms/step - loss: 1.1149 - accuracy: 0.7102\n",
      "Epoch 41/100\n",
      "1705/1705 [==============================] - 3s 1ms/step - loss: 1.1128 - accuracy: 0.7104\n",
      "Epoch 42/100\n",
      "1705/1705 [==============================] - 3s 1ms/step - loss: 1.1129 - accuracy: 0.7103\n",
      "Epoch 43/100\n",
      "1705/1705 [==============================] - 3s 2ms/step - loss: 1.1126 - accuracy: 0.7102\n",
      "Epoch 44/100\n",
      "1705/1705 [==============================] - 3s 2ms/step - loss: 1.1125 - accuracy: 0.7103\n",
      "Epoch 45/100\n",
      "1705/1705 [==============================] - 3s 2ms/step - loss: 1.1123 - accuracy: 0.7104\n",
      "Epoch 46/100\n",
      "1705/1705 [==============================] - 3s 1ms/step - loss: 1.1112 - accuracy: 0.7103\n",
      "Epoch 47/100\n",
      "1705/1705 [==============================] - 3s 2ms/step - loss: 1.1109 - accuracy: 0.7104\n",
      "Epoch 48/100\n",
      "1705/1705 [==============================] - 3s 2ms/step - loss: 1.1103 - accuracy: 0.7106\n",
      "Epoch 49/100\n",
      "1705/1705 [==============================] - 3s 1ms/step - loss: 1.1101 - accuracy: 0.7105\n",
      "Epoch 50/100\n",
      "1705/1705 [==============================] - 3s 2ms/step - loss: 1.1110 - accuracy: 0.7106\n",
      "Epoch 51/100\n",
      "1705/1705 [==============================] - 3s 2ms/step - loss: 1.1091 - accuracy: 0.7107\n",
      "Epoch 52/100\n",
      "1705/1705 [==============================] - 3s 2ms/step - loss: 1.1088 - accuracy: 0.7105\n",
      "Epoch 53/100\n",
      "1705/1705 [==============================] - 3s 1ms/step - loss: 1.1084 - accuracy: 0.7105\n",
      "Epoch 54/100\n",
      "1705/1705 [==============================] - 2s 1ms/step - loss: 1.1083 - accuracy: 0.7107\n",
      "Epoch 55/100\n",
      "1705/1705 [==============================] - 3s 2ms/step - loss: 1.1073 - accuracy: 0.7108\n",
      "Epoch 56/100\n",
      "1705/1705 [==============================] - 2s 1ms/step - loss: 1.1068 - accuracy: 0.7107\n",
      "Epoch 57/100\n",
      "1705/1705 [==============================] - 3s 2ms/step - loss: 1.1066 - accuracy: 0.7108\n",
      "Epoch 58/100\n",
      "1705/1705 [==============================] - 2s 1ms/step - loss: 1.1067 - accuracy: 0.7108\n",
      "Epoch 59/100\n",
      "1705/1705 [==============================] - 3s 2ms/step - loss: 1.1057 - accuracy: 0.7110\n",
      "Epoch 60/100\n",
      "1705/1705 [==============================] - 3s 2ms/step - loss: 1.1053 - accuracy: 0.7111\n",
      "Epoch 61/100\n",
      "1705/1705 [==============================] - 3s 2ms/step - loss: 1.1051 - accuracy: 0.7109\n",
      "Epoch 62/100\n",
      "1705/1705 [==============================] - 3s 2ms/step - loss: 1.1055 - accuracy: 0.7107\n",
      "Epoch 63/100\n",
      "1705/1705 [==============================] - 2s 1ms/step - loss: 1.1046 - accuracy: 0.7110\n",
      "Epoch 64/100\n",
      "1705/1705 [==============================] - 3s 1ms/step - loss: 1.1042 - accuracy: 0.7114\n",
      "Epoch 65/100\n",
      "1705/1705 [==============================] - 2s 1ms/step - loss: 1.1040 - accuracy: 0.7111\n",
      "Epoch 66/100\n",
      "1705/1705 [==============================] - 3s 1ms/step - loss: 1.1038 - accuracy: 0.7111\n",
      "Epoch 67/100\n",
      "1705/1705 [==============================] - 3s 1ms/step - loss: 1.1036 - accuracy: 0.7110\n",
      "Epoch 68/100\n",
      "1705/1705 [==============================] - 2s 1ms/step - loss: 1.1033 - accuracy: 0.7110\n",
      "Epoch 69/100\n",
      "1705/1705 [==============================] - 3s 1ms/step - loss: 1.1025 - accuracy: 0.7114\n",
      "Epoch 70/100\n",
      "1705/1705 [==============================] - 3s 1ms/step - loss: 1.1024 - accuracy: 0.7114\n",
      "Epoch 71/100\n",
      "1705/1705 [==============================] - 3s 1ms/step - loss: 1.1019 - accuracy: 0.7114\n",
      "Epoch 72/100\n",
      "1705/1705 [==============================] - 3s 1ms/step - loss: 1.1018 - accuracy: 0.7114\n",
      "Epoch 73/100\n",
      "1705/1705 [==============================] - 2s 1ms/step - loss: 1.1016 - accuracy: 0.7113\n",
      "Epoch 74/100\n",
      "1705/1705 [==============================] - 3s 2ms/step - loss: 1.1009 - accuracy: 0.7112\n",
      "Epoch 75/100\n",
      "1705/1705 [==============================] - 3s 1ms/step - loss: 1.1008 - accuracy: 0.7113\n",
      "Epoch 76/100\n",
      "1705/1705 [==============================] - 3s 1ms/step - loss: 1.1003 - accuracy: 0.7115\n",
      "Epoch 77/100\n",
      "1705/1705 [==============================] - 2s 1ms/step - loss: 1.1006 - accuracy: 0.7113\n",
      "Epoch 78/100\n",
      "1705/1705 [==============================] - 3s 1ms/step - loss: 1.1001 - accuracy: 0.7116\n",
      "Epoch 79/100\n"
     ]
    },
    {
     "name": "stdout",
     "output_type": "stream",
     "text": [
      "1705/1705 [==============================] - 3s 1ms/step - loss: 1.1000 - accuracy: 0.7115\n",
      "Epoch 80/100\n",
      "1705/1705 [==============================] - 3s 1ms/step - loss: 1.1006 - accuracy: 0.7114\n",
      "Epoch 81/100\n",
      "1705/1705 [==============================] - 3s 1ms/step - loss: 1.0997 - accuracy: 0.7115\n",
      "Epoch 82/100\n",
      "1705/1705 [==============================] - 3s 2ms/step - loss: 1.0997 - accuracy: 0.7118\n",
      "Epoch 83/100\n",
      "1705/1705 [==============================] - 3s 1ms/step - loss: 1.0992 - accuracy: 0.7118\n",
      "Epoch 84/100\n",
      "1705/1705 [==============================] - 3s 1ms/step - loss: 1.0989 - accuracy: 0.7116\n",
      "Epoch 85/100\n",
      "1705/1705 [==============================] - 3s 2ms/step - loss: 1.0986 - accuracy: 0.7118\n",
      "Epoch 86/100\n",
      "1705/1705 [==============================] - 3s 2ms/step - loss: 1.0989 - accuracy: 0.7117\n",
      "Epoch 87/100\n",
      "1705/1705 [==============================] - 2s 1ms/step - loss: 1.0989 - accuracy: 0.7117\n",
      "Epoch 88/100\n",
      "1705/1705 [==============================] - 3s 1ms/step - loss: 1.0983 - accuracy: 0.7118\n",
      "Epoch 89/100\n",
      "1705/1705 [==============================] - 3s 1ms/step - loss: 1.0982 - accuracy: 0.7118\n",
      "Epoch 90/100\n",
      "1705/1705 [==============================] - 3s 2ms/step - loss: 1.0971 - accuracy: 0.7119\n",
      "Epoch 91/100\n",
      "1705/1705 [==============================] - 3s 1ms/step - loss: 1.0981 - accuracy: 0.7120\n",
      "Epoch 92/100\n",
      "1705/1705 [==============================] - 3s 1ms/step - loss: 1.0972 - accuracy: 0.7118\n",
      "Epoch 93/100\n",
      "1705/1705 [==============================] - 2s 1ms/step - loss: 1.0971 - accuracy: 0.7121\n",
      "Epoch 94/100\n",
      "1705/1705 [==============================] - 3s 1ms/step - loss: 1.0966 - accuracy: 0.7119\n",
      "Epoch 95/100\n",
      "1705/1705 [==============================] - 3s 1ms/step - loss: 1.0972 - accuracy: 0.7118\n",
      "Epoch 96/100\n",
      "1705/1705 [==============================] - 2s 1ms/step - loss: 1.0964 - accuracy: 0.7121\n",
      "Epoch 97/100\n",
      "1705/1705 [==============================] - 3s 1ms/step - loss: 1.0962 - accuracy: 0.7120\n",
      "Epoch 98/100\n",
      "1705/1705 [==============================] - 3s 1ms/step - loss: 1.0959 - accuracy: 0.7117\n",
      "Epoch 99/100\n",
      "1705/1705 [==============================] - 2s 1ms/step - loss: 1.0960 - accuracy: 0.7122\n",
      "Epoch 100/100\n",
      "1705/1705 [==============================] - 3s 2ms/step - loss: 1.0955 - accuracy: 0.7123\n"
     ]
    },
    {
     "data": {
      "text/plain": [
       "<keras.callbacks.History at 0x2753eab0be0>"
      ]
     },
     "execution_count": 24,
     "metadata": {},
     "output_type": "execute_result"
    }
   ],
   "source": [
    "# model definition\n",
    "model = models.Sequential()\n",
    "model.add( layers.Dense( 128, input_dim=X_train.shape[1], activation='relu' ) )\n",
    "model.add( layers.Dense( 11, activation='softmax' ) )\n",
    "\n",
    "# model compile\n",
    "model.compile( loss='categorical_crossentropy', optimizer='adam', metrics=['accuracy'] )\n",
    "\n",
    "# train model\n",
    "model.fit( X_train, y_train_nn, epochs=100 )"
   ]
  },
  {
   "cell_type": "markdown",
   "id": "9fdfce67",
   "metadata": {},
   "source": [
    "# 8.0. Model Performance "
   ]
  },
  {
   "cell_type": "code",
   "execution_count": 25,
   "id": "b506c570",
   "metadata": {
    "ExecuteTime": {
     "end_time": "2022-02-04T16:18:07.657980Z",
     "start_time": "2022-02-04T16:18:07.045357Z"
    }
   },
   "outputs": [],
   "source": [
    "# prediction\n",
    "pred_nn = model.predict( X_val )\n",
    "\n",
    "# invert prediction\n",
    "yhat_nn =  on.inverse_transform( pred_nn )\n",
    "\n",
    "# prediction prepare\n",
    "y_val_nn = y_val.to_numpy()\n",
    "yhat_nn = yhat_nn.reshape( 1,-1 )[0]"
   ]
  },
  {
   "cell_type": "code",
   "execution_count": 34,
   "id": "3f858d41",
   "metadata": {
    "ExecuteTime": {
     "end_time": "2022-02-04T17:37:25.509002Z",
     "start_time": "2022-02-04T17:37:24.482002Z"
    }
   },
   "outputs": [
    {
     "name": "stdout",
     "output_type": "stream",
     "text": [
      "  model  Accuracy  BalancedAccuracy  KappaScore\n",
      "0    NN  0.703777          0.091323    0.001141\n"
     ]
    },
    {
     "name": "stderr",
     "output_type": "stream",
     "text": [
      "C:\\Users\\Marcos\\Projects\\airbnb_prediction\\venv\\lib\\site-packages\\sklearn\\metrics\\_classification.py:1318: UndefinedMetricWarning: Precision and F-score are ill-defined and being set to 0.0 in labels with no predicted samples. Use `zero_division` parameter to control this behavior.\n",
      "  _warn_prf(average, modifier, msg_start, len(result))\n",
      "C:\\Users\\Marcos\\Projects\\airbnb_prediction\\venv\\lib\\site-packages\\sklearn\\metrics\\_classification.py:1318: UndefinedMetricWarning: Precision and F-score are ill-defined and being set to 0.0 in labels with no predicted samples. Use `zero_division` parameter to control this behavior.\n",
      "  _warn_prf(average, modifier, msg_start, len(result))\n",
      "C:\\Users\\Marcos\\Projects\\airbnb_prediction\\venv\\lib\\site-packages\\sklearn\\metrics\\_classification.py:1318: UndefinedMetricWarning: Precision and F-score are ill-defined and being set to 0.0 in labels with no predicted samples. Use `zero_division` parameter to control this behavior.\n",
      "  _warn_prf(average, modifier, msg_start, len(result))\n"
     ]
    },
    {
     "name": "stdout",
     "output_type": "stream",
     "text": [
      "              precision    recall  f1-score   support\n",
      "\n",
      "          AU       0.00      0.00      0.00       101\n",
      "          CA       0.00      0.00      0.00       214\n",
      "          DE       0.00      0.00      0.00       170\n",
      "          ES       0.00      0.00      0.00       345\n",
      "          FR       0.09      0.00      0.00       710\n",
      "          GB       0.17      0.00      0.01       344\n",
      "          IT       0.25      0.00      0.00       423\n",
      "          NL       0.00      0.00      0.00       128\n",
      "          PT       0.00      0.00      0.00        36\n",
      "          US       0.71      1.00      0.83      9624\n",
      "       other       0.14      0.00      0.00      1540\n",
      "\n",
      "    accuracy                           0.70     13635\n",
      "   macro avg       0.12      0.09      0.08     13635\n",
      "weighted avg       0.53      0.70      0.58     13635\n",
      "\n"
     ]
    },
    {
     "data": {
      "image/png": "[encoded data removed]",
      "text/plain": [
       "<Figure size 1296x504 with 2 Axes>"
      ]
     },
     "metadata": {
      "needs_background": "light"
     },
     "output_type": "display_data"
    }
   ],
   "source": [
    "# balanced accuracy, accuracy, kappa score \n",
    "dic = {\n",
    "    'model': 'NN',\n",
    "    'Accuracy': accuracy_score( y_val_nn, yhat_nn ),\n",
    "    'BalancedAccuracy': balanced_accuracy_score( y_val_nn, yhat_nn ),\n",
    "    'KappaScore': cohen_kappa_score( y_val_nn, yhat_nn )\n",
    "}\n",
    "print( pd.DataFrame( dic, index=[0] ) )\n",
    "print( classification_report( y_val_nn, yhat_nn ) )\n",
    "\n",
    "# confusion matrix\n",
    "plot_confusion_matrix(y_val_nn, yhat_nn, figsize=(18,7) );"
   ]
  },
  {
   "cell_type": "code",
   "execution_count": null,
   "id": "2685d2e2",
   "metadata": {},
   "outputs": [],
   "source": []
  },
  {
   "cell_type": "code",
   "execution_count": null,
   "id": "aec63260",
   "metadata": {},
   "outputs": [],
   "source": []
  }
 ],
 "metadata": {
  "kernelspec": {
   "display_name": "Python 3 (ipykernel)",
   "language": "python",
   "name": "python3"
  },
  "language_info": {
   "codemirror_mode": {
    "name": "ipython",
    "version": 3
   },
   "file_extension": ".py",
   "mimetype": "text/x-python",
   "name": "python",
   "nbconvert_exporter": "python",
   "pygments_lexer": "ipython3",
   "version": "3.9.6"
  },
  "varInspector": {
   "cols": {
    "lenName": 16,
    "lenType": 16,
    "lenVar": 40
   },
   "kernels_config": {
    "python": {
     "delete_cmd_postfix": "",
     "delete_cmd_prefix": "del ",
     "library": "var_list.py",
     "varRefreshCmd": "print(var_dic_list())"
    },
    "r": {
     "delete_cmd_postfix": ") ",
     "delete_cmd_prefix": "rm(",
     "library": "var_list.r",
     "varRefreshCmd": "cat(var_dic_list()) "
    }
   },
   "types_to_exclude": [
    "module",
    "function",
    "builtin_function_or_method",
    "instance",
    "_Feature"
   ],
   "window_display": false
  }
 },
 "nbformat": 4,
 "nbformat_minor": 5
}
