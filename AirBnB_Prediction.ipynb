{
 "cells": [
  {
   "cell_type": "markdown",
   "id": "0434295a",
   "metadata": {},
   "source": [
    "# -- Objetivo do problema\n",
    "    \n",
    "    --1.0. Previsão do primeiro destino que um novo usuário irá escolher.\n",
    "    \n",
    "    --Por que?\n",
    "        --Quak tipo de modelo de negócio do Airbnb\n",
    "            --Marketplace( Conecta pessoas que oferecem acamodação, com pessoas que estão procurando acomodação )\n",
    "            --Oferta ( pessoas oferecendo acomodação )\n",
    "                -- Tamanho do portfolio\n",
    "                -- Diversidade/densidade de portfolio.\n",
    "                -- Preço Médio\n",
    "                \n",
    "            -- Demanda ( pessoas procurando acomodação )\n",
    "                -- Numero de Usuários\n",
    "                -- LTV ( Lifetime Value )\n",
    "                -- CAC ( Client acquisition cost )\n",
    "                \n",
    "            -- Gross Revenue = (phi*Numero cliente) - CAC\n",
    "                \n",
    "            -- Demanda ( pessoas procurando acomodação )\n",
    "            \n",
    "--Proposta da solução\n",
    "  - Modelo de previsão do primeiro destino de um novo usuário.\n",
    "  - 1.0. Predições e salvar em uma tabela do banco de dados.\n",
    "  - 2.0. API\n",
    "        - Input: usuário e suas caracteristicas\n",
    "        - output: usuario e suas caracteristicas com a coluna prediction"
   ]
  },
  {
   "cell_type": "markdown",
   "id": "76b1ed8d",
   "metadata": {},
   "source": [
    "# 0.0. Imports "
   ]
  },
  {
   "cell_type": "code",
   "execution_count": 1,
   "id": "7466bba6",
   "metadata": {
    "ExecuteTime": {
     "end_time": "2022-02-08T21:27:08.636897Z",
     "start_time": "2022-02-08T21:26:52.637368Z"
    }
   },
   "outputs": [],
   "source": [
    "import random\n",
    "\n",
    "import pandas  as pd \n",
    "import numpy   as np \n",
    "import seaborn as sns\n",
    "\n",
    "import matplotlib.pyplot as plt\n",
    "\n",
    "from sklearn.model_selection import train_test_split, StratifiedKFold\n",
    "from sklearn.preprocessing   import OneHotEncoder\n",
    "from sklearn.metrics         import classification_report, accuracy_score, balanced_accuracy_score, cohen_kappa_score\n",
    "from scikitplot.metrics      import plot_confusion_matrix\n",
    "\n",
    "from scipy.stats             import skewnorm\n",
    "from scipy                   import stats\n",
    "\n",
    "\n",
    "from keras import models\n",
    "from keras import layers"
   ]
  },
  {
   "cell_type": "code",
   "execution_count": 2,
   "id": "21ec8196",
   "metadata": {
    "ExecuteTime": {
     "end_time": "2022-02-08T21:27:08.698648Z",
     "start_time": "2022-02-08T21:27:08.684804Z"
    }
   },
   "outputs": [],
   "source": [
    "%matplotlib inline\n",
    "plt.rcParams['figure.figsize'] = [13, 8]\n",
    "\n",
    "sns.set_style('darkgrid')\n",
    "pd.set_option('display.float_format', lambda x: '%.3f' % x)"
   ]
  },
  {
   "cell_type": "markdown",
   "id": "03534561",
   "metadata": {},
   "source": [
    "## 0.1. Helper Functions "
   ]
  },
  {
   "cell_type": "code",
   "execution_count": 3,
   "id": "1bfe6a96",
   "metadata": {
    "ExecuteTime": {
     "end_time": "2022-02-08T21:27:08.758773Z",
     "start_time": "2022-02-08T21:27:08.732673Z"
    }
   },
   "outputs": [],
   "source": [
    "def numeric_statistics( df ):\n",
    "    \n",
    "    dic = {\n",
    "        \"type\": df.dtypes.values,\n",
    "        \"Unique_Values\": df.nunique().values,\n",
    "        \"Mean\": df.mean(),\n",
    "        \"Median\": df.median(),\n",
    "        \"Std\": df.std(),\n",
    "        \"Min\": df.min(),\n",
    "        \"Max\": df.max(),\n",
    "        \"Range\": df.max() - df.min(),\n",
    "        \"Skew\": df.skew(),\n",
    "        \"Kurtosis\": df.kurtosis()\n",
    "    }\n",
    "    \n",
    "    return pd.DataFrame( dic, index=df.columns )\n",
    "\n",
    "def cramer_v( x, y ):\n",
    "    \n",
    "    cm   = pd.crosstab( x, y ).values\n",
    "    n    = cm.sum()\n",
    "    r, k = cm.shape\n",
    "    \n",
    "    chi2 = stats.chi2_contingency( cm )[0]\n",
    "    \n",
    "    chi2corr = max( 0, chi2 - (k-1)*(r-1)/(n-1) )\n",
    "    kcorr    = k - (k-1)**2/(n-1)\n",
    "    rcorr    = r - (r-1)**2/(n-1)\n",
    "    \n",
    "    return np.sqrt( (chi2corr/n) / ( min(kcorr-1,rcorr-1) ) )"
   ]
  },
  {
   "cell_type": "markdown",
   "id": "224e4999",
   "metadata": {
    "ExecuteTime": {
     "end_time": "2022-02-03T13:02:27.056350Z",
     "start_time": "2022-02-03T13:02:27.016675Z"
    }
   },
   "source": [
    "# 1.0. Data Description"
   ]
  },
  {
   "cell_type": "code",
   "execution_count": 4,
   "id": "58a0b66d",
   "metadata": {
    "ExecuteTime": {
     "end_time": "2022-02-08T21:27:48.877117Z",
     "start_time": "2022-02-08T21:27:31.936697Z"
    }
   },
   "outputs": [],
   "source": [
    "# df users\n",
    "df_raw = pd.read_csv( 'data/train_users_2.csv', low_memory=True )\n",
    "\n",
    "# df sessions\n",
    "df_sessions = pd.read_csv( 'data/sessions.csv', low_memory=True )"
   ]
  },
  {
   "cell_type": "markdown",
   "id": "9fd9ee0a",
   "metadata": {},
   "source": [
    "\n",
    "## Users"
   ]
  },
  {
   "cell_type": "code",
   "execution_count": 5,
   "id": "d2d97270",
   "metadata": {
    "ExecuteTime": {
     "end_time": "2022-02-08T21:27:49.019741Z",
     "start_time": "2022-02-08T21:27:48.986093Z"
    }
   },
   "outputs": [
    {
     "data": {
      "text/html": [
       "<div>\n",
       "<style scoped>\n",
       "    .dataframe tbody tr th:only-of-type {\n",
       "        vertical-align: middle;\n",
       "    }\n",
       "\n",
       "    .dataframe tbody tr th {\n",
       "        vertical-align: top;\n",
       "    }\n",
       "\n",
       "    .dataframe thead th {\n",
       "        text-align: right;\n",
       "    }\n",
       "</style>\n",
       "<table border=\"1\" class=\"dataframe\">\n",
       "  <thead>\n",
       "    <tr style=\"text-align: right;\">\n",
       "      <th></th>\n",
       "      <th>id</th>\n",
       "      <th>date_account_created</th>\n",
       "      <th>timestamp_first_active</th>\n",
       "      <th>date_first_booking</th>\n",
       "      <th>gender</th>\n",
       "      <th>age</th>\n",
       "      <th>signup_method</th>\n",
       "      <th>signup_flow</th>\n",
       "      <th>language</th>\n",
       "      <th>affiliate_channel</th>\n",
       "      <th>affiliate_provider</th>\n",
       "      <th>first_affiliate_tracked</th>\n",
       "      <th>signup_app</th>\n",
       "      <th>first_device_type</th>\n",
       "      <th>first_browser</th>\n",
       "      <th>country_destination</th>\n",
       "    </tr>\n",
       "  </thead>\n",
       "  <tbody>\n",
       "    <tr>\n",
       "      <th>0</th>\n",
       "      <td>gxn3p5htnn</td>\n",
       "      <td>2010-06-28</td>\n",
       "      <td>20090319043255</td>\n",
       "      <td>NaN</td>\n",
       "      <td>-unknown-</td>\n",
       "      <td>NaN</td>\n",
       "      <td>facebook</td>\n",
       "      <td>0</td>\n",
       "      <td>en</td>\n",
       "      <td>direct</td>\n",
       "      <td>direct</td>\n",
       "      <td>untracked</td>\n",
       "      <td>Web</td>\n",
       "      <td>Mac Desktop</td>\n",
       "      <td>Chrome</td>\n",
       "      <td>NDF</td>\n",
       "    </tr>\n",
       "    <tr>\n",
       "      <th>1</th>\n",
       "      <td>820tgsjxq7</td>\n",
       "      <td>2011-05-25</td>\n",
       "      <td>20090523174809</td>\n",
       "      <td>NaN</td>\n",
       "      <td>MALE</td>\n",
       "      <td>38.000</td>\n",
       "      <td>facebook</td>\n",
       "      <td>0</td>\n",
       "      <td>en</td>\n",
       "      <td>seo</td>\n",
       "      <td>google</td>\n",
       "      <td>untracked</td>\n",
       "      <td>Web</td>\n",
       "      <td>Mac Desktop</td>\n",
       "      <td>Chrome</td>\n",
       "      <td>NDF</td>\n",
       "    </tr>\n",
       "    <tr>\n",
       "      <th>2</th>\n",
       "      <td>4ft3gnwmtx</td>\n",
       "      <td>2010-09-28</td>\n",
       "      <td>20090609231247</td>\n",
       "      <td>2010-08-02</td>\n",
       "      <td>FEMALE</td>\n",
       "      <td>56.000</td>\n",
       "      <td>basic</td>\n",
       "      <td>3</td>\n",
       "      <td>en</td>\n",
       "      <td>direct</td>\n",
       "      <td>direct</td>\n",
       "      <td>untracked</td>\n",
       "      <td>Web</td>\n",
       "      <td>Windows Desktop</td>\n",
       "      <td>IE</td>\n",
       "      <td>US</td>\n",
       "    </tr>\n",
       "    <tr>\n",
       "      <th>3</th>\n",
       "      <td>bjjt8pjhuk</td>\n",
       "      <td>2011-12-05</td>\n",
       "      <td>20091031060129</td>\n",
       "      <td>2012-09-08</td>\n",
       "      <td>FEMALE</td>\n",
       "      <td>42.000</td>\n",
       "      <td>facebook</td>\n",
       "      <td>0</td>\n",
       "      <td>en</td>\n",
       "      <td>direct</td>\n",
       "      <td>direct</td>\n",
       "      <td>untracked</td>\n",
       "      <td>Web</td>\n",
       "      <td>Mac Desktop</td>\n",
       "      <td>Firefox</td>\n",
       "      <td>other</td>\n",
       "    </tr>\n",
       "    <tr>\n",
       "      <th>4</th>\n",
       "      <td>87mebub9p4</td>\n",
       "      <td>2010-09-14</td>\n",
       "      <td>20091208061105</td>\n",
       "      <td>2010-02-18</td>\n",
       "      <td>-unknown-</td>\n",
       "      <td>41.000</td>\n",
       "      <td>basic</td>\n",
       "      <td>0</td>\n",
       "      <td>en</td>\n",
       "      <td>direct</td>\n",
       "      <td>direct</td>\n",
       "      <td>untracked</td>\n",
       "      <td>Web</td>\n",
       "      <td>Mac Desktop</td>\n",
       "      <td>Chrome</td>\n",
       "      <td>US</td>\n",
       "    </tr>\n",
       "  </tbody>\n",
       "</table>\n",
       "</div>"
      ],
      "text/plain": [
       "           id date_account_created  timestamp_first_active date_first_booking  \\\n",
       "0  gxn3p5htnn           2010-06-28          20090319043255                NaN   \n",
       "1  820tgsjxq7           2011-05-25          20090523174809                NaN   \n",
       "2  4ft3gnwmtx           2010-09-28          20090609231247         2010-08-02   \n",
       "3  bjjt8pjhuk           2011-12-05          20091031060129         2012-09-08   \n",
       "4  87mebub9p4           2010-09-14          20091208061105         2010-02-18   \n",
       "\n",
       "      gender    age signup_method  signup_flow language affiliate_channel  \\\n",
       "0  -unknown-    NaN      facebook            0       en            direct   \n",
       "1       MALE 38.000      facebook            0       en               seo   \n",
       "2     FEMALE 56.000         basic            3       en            direct   \n",
       "3     FEMALE 42.000      facebook            0       en            direct   \n",
       "4  -unknown- 41.000         basic            0       en            direct   \n",
       "\n",
       "  affiliate_provider first_affiliate_tracked signup_app first_device_type  \\\n",
       "0             direct               untracked        Web       Mac Desktop   \n",
       "1             google               untracked        Web       Mac Desktop   \n",
       "2             direct               untracked        Web   Windows Desktop   \n",
       "3             direct               untracked        Web       Mac Desktop   \n",
       "4             direct               untracked        Web       Mac Desktop   \n",
       "\n",
       "  first_browser country_destination  \n",
       "0        Chrome                 NDF  \n",
       "1        Chrome                 NDF  \n",
       "2            IE                  US  \n",
       "3       Firefox               other  \n",
       "4        Chrome                  US  "
      ]
     },
     "execution_count": 5,
     "metadata": {},
     "output_type": "execute_result"
    }
   ],
   "source": [
    "df_raw.head()"
   ]
  },
  {
   "cell_type": "markdown",
   "id": "6dfd45b9",
   "metadata": {},
   "source": [
    "\n",
    "## Sessions"
   ]
  },
  {
   "cell_type": "code",
   "execution_count": 6,
   "id": "ef521de0",
   "metadata": {
    "ExecuteTime": {
     "end_time": "2022-02-08T21:27:49.119118Z",
     "start_time": "2022-02-08T21:27:49.084692Z"
    }
   },
   "outputs": [
    {
     "data": {
      "text/html": [
       "<div>\n",
       "<style scoped>\n",
       "    .dataframe tbody tr th:only-of-type {\n",
       "        vertical-align: middle;\n",
       "    }\n",
       "\n",
       "    .dataframe tbody tr th {\n",
       "        vertical-align: top;\n",
       "    }\n",
       "\n",
       "    .dataframe thead th {\n",
       "        text-align: right;\n",
       "    }\n",
       "</style>\n",
       "<table border=\"1\" class=\"dataframe\">\n",
       "  <thead>\n",
       "    <tr style=\"text-align: right;\">\n",
       "      <th></th>\n",
       "      <th>user_id</th>\n",
       "      <th>action</th>\n",
       "      <th>action_type</th>\n",
       "      <th>action_detail</th>\n",
       "      <th>device_type</th>\n",
       "      <th>secs_elapsed</th>\n",
       "    </tr>\n",
       "  </thead>\n",
       "  <tbody>\n",
       "    <tr>\n",
       "      <th>0</th>\n",
       "      <td>d1mm9tcy42</td>\n",
       "      <td>lookup</td>\n",
       "      <td>NaN</td>\n",
       "      <td>NaN</td>\n",
       "      <td>Windows Desktop</td>\n",
       "      <td>319.000</td>\n",
       "    </tr>\n",
       "    <tr>\n",
       "      <th>1</th>\n",
       "      <td>d1mm9tcy42</td>\n",
       "      <td>search_results</td>\n",
       "      <td>click</td>\n",
       "      <td>view_search_results</td>\n",
       "      <td>Windows Desktop</td>\n",
       "      <td>67753.000</td>\n",
       "    </tr>\n",
       "    <tr>\n",
       "      <th>2</th>\n",
       "      <td>d1mm9tcy42</td>\n",
       "      <td>lookup</td>\n",
       "      <td>NaN</td>\n",
       "      <td>NaN</td>\n",
       "      <td>Windows Desktop</td>\n",
       "      <td>301.000</td>\n",
       "    </tr>\n",
       "    <tr>\n",
       "      <th>3</th>\n",
       "      <td>d1mm9tcy42</td>\n",
       "      <td>search_results</td>\n",
       "      <td>click</td>\n",
       "      <td>view_search_results</td>\n",
       "      <td>Windows Desktop</td>\n",
       "      <td>22141.000</td>\n",
       "    </tr>\n",
       "    <tr>\n",
       "      <th>4</th>\n",
       "      <td>d1mm9tcy42</td>\n",
       "      <td>lookup</td>\n",
       "      <td>NaN</td>\n",
       "      <td>NaN</td>\n",
       "      <td>Windows Desktop</td>\n",
       "      <td>435.000</td>\n",
       "    </tr>\n",
       "  </tbody>\n",
       "</table>\n",
       "</div>"
      ],
      "text/plain": [
       "      user_id          action action_type        action_detail  \\\n",
       "0  d1mm9tcy42          lookup         NaN                  NaN   \n",
       "1  d1mm9tcy42  search_results       click  view_search_results   \n",
       "2  d1mm9tcy42          lookup         NaN                  NaN   \n",
       "3  d1mm9tcy42  search_results       click  view_search_results   \n",
       "4  d1mm9tcy42          lookup         NaN                  NaN   \n",
       "\n",
       "       device_type  secs_elapsed  \n",
       "0  Windows Desktop       319.000  \n",
       "1  Windows Desktop     67753.000  \n",
       "2  Windows Desktop       301.000  \n",
       "3  Windows Desktop     22141.000  \n",
       "4  Windows Desktop       435.000  "
      ]
     },
     "execution_count": 6,
     "metadata": {},
     "output_type": "execute_result"
    }
   ],
   "source": [
    "df_sessions.head()"
   ]
  },
  {
   "cell_type": "markdown",
   "id": "987e15db",
   "metadata": {
    "heading_collapsed": true
   },
   "source": [
    "## 1.1. Data Dimension  "
   ]
  },
  {
   "cell_type": "markdown",
   "id": "c2981a8f",
   "metadata": {
    "hidden": true
   },
   "source": [
    "\n",
    "## Users"
   ]
  },
  {
   "cell_type": "code",
   "execution_count": 49,
   "id": "00f23ecf",
   "metadata": {
    "ExecuteTime": {
     "end_time": "2022-02-08T17:48:02.733045Z",
     "start_time": "2022-02-08T17:48:02.721045Z"
    },
    "hidden": true
   },
   "outputs": [
    {
     "name": "stdout",
     "output_type": "stream",
     "text": [
      "Number of Rows: 213451\n",
      "Number of Columns: 16\n"
     ]
    }
   ],
   "source": [
    "print(f'Number of Rows: {df_raw.shape[0]}') \n",
    "print(f'Number of Columns: {df_raw.shape[1]}') "
   ]
  },
  {
   "cell_type": "markdown",
   "id": "5e357331",
   "metadata": {},
   "source": [
    "\n",
    "## Sessions"
   ]
  },
  {
   "cell_type": "code",
   "execution_count": 50,
   "id": "63d1cf18",
   "metadata": {
    "ExecuteTime": {
     "end_time": "2022-02-08T17:48:02.971044Z",
     "start_time": "2022-02-08T17:48:02.958049Z"
    },
    "hidden": true
   },
   "outputs": [
    {
     "name": "stdout",
     "output_type": "stream",
     "text": [
      "Number of Rows: 10567737\n",
      "Number of Columns: 6\n"
     ]
    }
   ],
   "source": [
    "print(f'Number of Rows: {df_sessions.shape[0]}') \n",
    "print(f'Number of Columns: {df_sessions.shape[1]}') "
   ]
  },
  {
   "cell_type": "markdown",
   "id": "c8bfa350",
   "metadata": {
    "heading_collapsed": true
   },
   "source": [
    "## 1.2. Data types "
   ]
  },
  {
   "cell_type": "markdown",
   "id": "1bd5eacd",
   "metadata": {},
   "source": [
    "\n",
    "## Users"
   ]
  },
  {
   "cell_type": "code",
   "execution_count": 51,
   "id": "0e9c9246",
   "metadata": {
    "ExecuteTime": {
     "end_time": "2022-02-08T17:48:03.161043Z",
     "start_time": "2022-02-08T17:48:03.148048Z"
    },
    "hidden": true
   },
   "outputs": [
    {
     "data": {
      "text/plain": [
       "id                          object\n",
       "date_account_created        object\n",
       "timestamp_first_active       int64\n",
       "date_first_booking          object\n",
       "gender                      object\n",
       "age                        float64\n",
       "signup_method               object\n",
       "signup_flow                  int64\n",
       "language                    object\n",
       "affiliate_channel           object\n",
       "affiliate_provider          object\n",
       "first_affiliate_tracked     object\n",
       "signup_app                  object\n",
       "first_device_type           object\n",
       "first_browser               object\n",
       "country_destination         object\n",
       "dtype: object"
      ]
     },
     "execution_count": 51,
     "metadata": {},
     "output_type": "execute_result"
    }
   ],
   "source": [
    "df_raw.dtypes"
   ]
  },
  {
   "cell_type": "markdown",
   "id": "7e99766c",
   "metadata": {},
   "source": [
    "\n",
    "## Sessions"
   ]
  },
  {
   "cell_type": "code",
   "execution_count": 52,
   "id": "86113c07",
   "metadata": {
    "ExecuteTime": {
     "end_time": "2022-02-08T17:48:03.335045Z",
     "start_time": "2022-02-08T17:48:03.322047Z"
    },
    "hidden": true
   },
   "outputs": [
    {
     "data": {
      "text/plain": [
       "user_id           object\n",
       "action            object\n",
       "action_type       object\n",
       "action_detail     object\n",
       "device_type       object\n",
       "secs_elapsed     float64\n",
       "dtype: object"
      ]
     },
     "execution_count": 52,
     "metadata": {},
     "output_type": "execute_result"
    }
   ],
   "source": [
    "df_sessions.dtypes"
   ]
  },
  {
   "cell_type": "markdown",
   "id": "874215b7",
   "metadata": {},
   "source": [
    "## 1.3. Check NA "
   ]
  },
  {
   "cell_type": "markdown",
   "id": "93982c01",
   "metadata": {},
   "source": [
    "\n",
    "## Users"
   ]
  },
  {
   "cell_type": "code",
   "execution_count": 53,
   "id": "cf8a7172",
   "metadata": {
    "ExecuteTime": {
     "end_time": "2022-02-08T17:48:03.858097Z",
     "start_time": "2022-02-08T17:48:03.512046Z"
    }
   },
   "outputs": [
    {
     "data": {
      "text/plain": [
       "id                        0.000\n",
       "date_account_created      0.000\n",
       "timestamp_first_active    0.000\n",
       "date_first_booking        0.583\n",
       "gender                    0.000\n",
       "age                       0.412\n",
       "signup_method             0.000\n",
       "signup_flow               0.000\n",
       "language                  0.000\n",
       "affiliate_channel         0.000\n",
       "affiliate_provider        0.000\n",
       "first_affiliate_tracked   0.028\n",
       "signup_app                0.000\n",
       "first_device_type         0.000\n",
       "first_browser             0.000\n",
       "country_destination       0.000\n",
       "dtype: float64"
      ]
     },
     "execution_count": 53,
     "metadata": {},
     "output_type": "execute_result"
    }
   ],
   "source": [
    "df_raw.isnull().sum() / len(df_raw)"
   ]
  },
  {
   "cell_type": "markdown",
   "id": "fce7b440",
   "metadata": {},
   "source": [
    "\n",
    "## Sessions"
   ]
  },
  {
   "cell_type": "code",
   "execution_count": 54,
   "id": "6b15e342",
   "metadata": {
    "ExecuteTime": {
     "end_time": "2022-02-08T17:48:10.153390Z",
     "start_time": "2022-02-08T17:48:04.002393Z"
    }
   },
   "outputs": [
    {
     "data": {
      "text/plain": [
       "user_id         0.003\n",
       "action          0.008\n",
       "action_type     0.107\n",
       "action_detail   0.107\n",
       "device_type     0.000\n",
       "secs_elapsed    0.013\n",
       "dtype: float64"
      ]
     },
     "execution_count": 54,
     "metadata": {},
     "output_type": "execute_result"
    }
   ],
   "source": [
    "df_sessions.isnull().sum() / len(df_sessions)"
   ]
  },
  {
   "cell_type": "markdown",
   "id": "b92d0450",
   "metadata": {
    "ExecuteTime": {
     "end_time": "2022-02-03T16:28:11.288939Z",
     "start_time": "2022-02-03T16:28:11.267944Z"
    },
    "heading_collapsed": true
   },
   "source": [
    "## 1.4. Check Blanced Data"
   ]
  },
  {
   "cell_type": "code",
   "execution_count": 9,
   "id": "fb97dbca",
   "metadata": {
    "ExecuteTime": {
     "end_time": "2022-02-08T21:48:32.955948Z",
     "start_time": "2022-02-08T21:48:32.928100Z"
    },
    "hidden": true
   },
   "outputs": [
    {
     "data": {
      "text/plain": [
       "NDF     0.583\n",
       "US      0.292\n",
       "other   0.047\n",
       "FR      0.024\n",
       "IT      0.013\n",
       "GB      0.011\n",
       "ES      0.011\n",
       "CA      0.007\n",
       "DE      0.005\n",
       "NL      0.004\n",
       "AU      0.003\n",
       "PT      0.001\n",
       "Name: country_destination, dtype: float64"
      ]
     },
     "execution_count": 9,
     "metadata": {},
     "output_type": "execute_result"
    }
   ],
   "source": [
    "df_raw['country_destination'].value_counts( normalize=True )"
   ]
  },
  {
   "cell_type": "markdown",
   "id": "044a7b8e",
   "metadata": {
    "heading_collapsed": true
   },
   "source": [
    "## 1.5. Description Analysis "
   ]
  },
  {
   "cell_type": "code",
   "execution_count": 84,
   "id": "e0ce83be",
   "metadata": {
    "ExecuteTime": {
     "end_time": "2022-02-08T18:35:11.299347Z",
     "start_time": "2022-02-08T18:35:11.279302Z"
    },
    "hidden": true
   },
   "outputs": [],
   "source": [
    "num_attributes = df_raw.select_dtypes( include=['int64','float64'] )\n",
    "cat_attributes = df_raw.select_dtypes( include='object')\n",
    "\n",
    "num_attributes_sessions = df_sessions.select_dtypes( include=['int64','float64'] )\n",
    "cat_attributes_sessions = df_sessions.select_dtypes( include='object' )"
   ]
  },
  {
   "cell_type": "markdown",
   "id": "d993cbcb",
   "metadata": {
    "heading_collapsed": true,
    "hidden": true
   },
   "source": [
    "### Categorical Variables "
   ]
  },
  {
   "cell_type": "markdown",
   "id": "27a8a0e0",
   "metadata": {
    "ExecuteTime": {
     "end_time": "2022-02-08T18:57:41.980954Z",
     "start_time": "2022-02-08T18:57:41.961910Z"
    },
    "hidden": true
   },
   "source": [
    "\n",
    "#### Users "
   ]
  },
  {
   "cell_type": "code",
   "execution_count": 106,
   "id": "58cbfc7c",
   "metadata": {
    "ExecuteTime": {
     "end_time": "2022-02-08T18:51:16.461939Z",
     "start_time": "2022-02-08T18:51:16.189665Z"
    },
    "hidden": true
   },
   "outputs": [
    {
     "data": {
      "text/html": [
       "<div>\n",
       "<style scoped>\n",
       "    .dataframe tbody tr th:only-of-type {\n",
       "        vertical-align: middle;\n",
       "    }\n",
       "\n",
       "    .dataframe tbody tr th {\n",
       "        vertical-align: top;\n",
       "    }\n",
       "\n",
       "    .dataframe thead th {\n",
       "        text-align: right;\n",
       "    }\n",
       "</style>\n",
       "<table border=\"1\" class=\"dataframe\">\n",
       "  <thead>\n",
       "    <tr style=\"text-align: right;\">\n",
       "      <th></th>\n",
       "      <th>gender</th>\n",
       "      <th>signup_method</th>\n",
       "      <th>language</th>\n",
       "      <th>affiliate_channel</th>\n",
       "      <th>affiliate_provider</th>\n",
       "      <th>first_affiliate_tracked</th>\n",
       "      <th>signup_app</th>\n",
       "      <th>first_device_type</th>\n",
       "      <th>first_browser</th>\n",
       "      <th>country_destination</th>\n",
       "    </tr>\n",
       "  </thead>\n",
       "  <tbody>\n",
       "    <tr>\n",
       "      <th>count</th>\n",
       "      <td>206468</td>\n",
       "      <td>206468</td>\n",
       "      <td>206468</td>\n",
       "      <td>206468</td>\n",
       "      <td>206468</td>\n",
       "      <td>206468</td>\n",
       "      <td>206468</td>\n",
       "      <td>206468</td>\n",
       "      <td>206468</td>\n",
       "      <td>206468</td>\n",
       "    </tr>\n",
       "    <tr>\n",
       "      <th>unique</th>\n",
       "      <td>4</td>\n",
       "      <td>3</td>\n",
       "      <td>25</td>\n",
       "      <td>8</td>\n",
       "      <td>18</td>\n",
       "      <td>7</td>\n",
       "      <td>4</td>\n",
       "      <td>9</td>\n",
       "      <td>52</td>\n",
       "      <td>12</td>\n",
       "    </tr>\n",
       "    <tr>\n",
       "      <th>top</th>\n",
       "      <td>-unknown-</td>\n",
       "      <td>basic</td>\n",
       "      <td>en</td>\n",
       "      <td>direct</td>\n",
       "      <td>direct</td>\n",
       "      <td>untracked</td>\n",
       "      <td>Web</td>\n",
       "      <td>Mac Desktop</td>\n",
       "      <td>Chrome</td>\n",
       "      <td>NDF</td>\n",
       "    </tr>\n",
       "    <tr>\n",
       "      <th>freq</th>\n",
       "      <td>91591</td>\n",
       "      <td>147511</td>\n",
       "      <td>199516</td>\n",
       "      <td>133605</td>\n",
       "      <td>133366</td>\n",
       "      <td>108766</td>\n",
       "      <td>177492</td>\n",
       "      <td>89210</td>\n",
       "      <td>63586</td>\n",
       "      <td>119715</td>\n",
       "    </tr>\n",
       "  </tbody>\n",
       "</table>\n",
       "</div>"
      ],
      "text/plain": [
       "           gender signup_method language affiliate_channel affiliate_provider  \\\n",
       "count      206468        206468   206468            206468             206468   \n",
       "unique          4             3       25                 8                 18   \n",
       "top     -unknown-         basic       en            direct             direct   \n",
       "freq        91591        147511   199516            133605             133366   \n",
       "\n",
       "       first_affiliate_tracked signup_app first_device_type first_browser  \\\n",
       "count                   206468     206468            206468        206468   \n",
       "unique                       7          4                 9            52   \n",
       "top                  untracked        Web       Mac Desktop        Chrome   \n",
       "freq                    108766     177492             89210         63586   \n",
       "\n",
       "       country_destination  \n",
       "count               206468  \n",
       "unique                  12  \n",
       "top                    NDF  \n",
       "freq                119715  "
      ]
     },
     "execution_count": 106,
     "metadata": {},
     "output_type": "execute_result"
    }
   ],
   "source": [
    "# df2\n",
    "cat_attributes.drop('id', axis=1 ).describe()"
   ]
  },
  {
   "cell_type": "markdown",
   "id": "4bd1b6c7",
   "metadata": {
    "ExecuteTime": {
     "end_time": "2022-02-08T18:57:41.980954Z",
     "start_time": "2022-02-08T18:57:41.961910Z"
    },
    "hidden": true
   },
   "source": [
    "\n",
    "#### Sessions "
   ]
  },
  {
   "cell_type": "code",
   "execution_count": 109,
   "id": "9eddf492",
   "metadata": {
    "ExecuteTime": {
     "end_time": "2022-02-08T18:54:00.588904Z",
     "start_time": "2022-02-08T18:53:56.183271Z"
    },
    "hidden": true
   },
   "outputs": [
    {
     "data": {
      "text/html": [
       "<div>\n",
       "<style scoped>\n",
       "    .dataframe tbody tr th:only-of-type {\n",
       "        vertical-align: middle;\n",
       "    }\n",
       "\n",
       "    .dataframe tbody tr th {\n",
       "        vertical-align: top;\n",
       "    }\n",
       "\n",
       "    .dataframe thead th {\n",
       "        text-align: right;\n",
       "    }\n",
       "</style>\n",
       "<table border=\"1\" class=\"dataframe\">\n",
       "  <thead>\n",
       "    <tr style=\"text-align: right;\">\n",
       "      <th></th>\n",
       "      <th>action</th>\n",
       "      <th>action_type</th>\n",
       "      <th>action_detail</th>\n",
       "      <th>device_type</th>\n",
       "    </tr>\n",
       "  </thead>\n",
       "  <tbody>\n",
       "    <tr>\n",
       "      <th>count</th>\n",
       "      <td>9123594</td>\n",
       "      <td>9123594</td>\n",
       "      <td>9123594</td>\n",
       "      <td>9123594</td>\n",
       "    </tr>\n",
       "    <tr>\n",
       "      <th>unique</th>\n",
       "      <td>347</td>\n",
       "      <td>10</td>\n",
       "      <td>155</td>\n",
       "      <td>14</td>\n",
       "    </tr>\n",
       "    <tr>\n",
       "      <th>top</th>\n",
       "      <td>show</td>\n",
       "      <td>view</td>\n",
       "      <td>view_search_results</td>\n",
       "      <td>Mac Desktop</td>\n",
       "    </tr>\n",
       "    <tr>\n",
       "      <th>freq</th>\n",
       "      <td>2161240</td>\n",
       "      <td>3518629</td>\n",
       "      <td>1754981</td>\n",
       "      <td>2989495</td>\n",
       "    </tr>\n",
       "  </tbody>\n",
       "</table>\n",
       "</div>"
      ],
      "text/plain": [
       "         action action_type        action_detail  device_type\n",
       "count   9123594     9123594              9123594      9123594\n",
       "unique      347          10                  155           14\n",
       "top        show        view  view_search_results  Mac Desktop\n",
       "freq    2161240     3518629              1754981      2989495"
      ]
     },
     "execution_count": 109,
     "metadata": {},
     "output_type": "execute_result"
    }
   ],
   "source": [
    "# df_sessions\n",
    "cat_attributes_sessions.drop( 'user_id', axis=1 ).describe()"
   ]
  },
  {
   "cell_type": "markdown",
   "id": "dc21dcf5",
   "metadata": {
    "heading_collapsed": true,
    "hidden": true
   },
   "source": [
    "### Numerical variables"
   ]
  },
  {
   "cell_type": "markdown",
   "id": "3a8c082d",
   "metadata": {
    "ExecuteTime": {
     "end_time": "2022-02-08T21:36:31.701950Z",
     "start_time": "2022-02-08T21:36:31.693605Z"
    },
    "hidden": true
   },
   "source": [
    "\n",
    "#### Users"
   ]
  },
  {
   "cell_type": "code",
   "execution_count": 85,
   "id": "de276f47",
   "metadata": {
    "ExecuteTime": {
     "end_time": "2022-02-08T18:35:12.355083Z",
     "start_time": "2022-02-08T18:35:12.222080Z"
    },
    "hidden": true
   },
   "outputs": [
    {
     "data": {
      "text/html": [
       "<div>\n",
       "<style scoped>\n",
       "    .dataframe tbody tr th:only-of-type {\n",
       "        vertical-align: middle;\n",
       "    }\n",
       "\n",
       "    .dataframe tbody tr th {\n",
       "        vertical-align: top;\n",
       "    }\n",
       "\n",
       "    .dataframe thead th {\n",
       "        text-align: right;\n",
       "    }\n",
       "</style>\n",
       "<table border=\"1\" class=\"dataframe\">\n",
       "  <thead>\n",
       "    <tr style=\"text-align: right;\">\n",
       "      <th></th>\n",
       "      <th>type</th>\n",
       "      <th>Unique_Values</th>\n",
       "      <th>Mean</th>\n",
       "      <th>Median</th>\n",
       "      <th>Std</th>\n",
       "      <th>Min</th>\n",
       "      <th>Max</th>\n",
       "      <th>Range</th>\n",
       "      <th>Skew</th>\n",
       "      <th>Kurtosis</th>\n",
       "    </tr>\n",
       "  </thead>\n",
       "  <tbody>\n",
       "    <tr>\n",
       "      <th>timestamp_first_active</th>\n",
       "      <td>int64</td>\n",
       "      <td>213451</td>\n",
       "      <td>20130850417367.258</td>\n",
       "      <td>20130911061308.000</td>\n",
       "      <td>9253717046.584</td>\n",
       "      <td>20090319043255.000</td>\n",
       "      <td>20140630235824.000</td>\n",
       "      <td>50311192569.000</td>\n",
       "      <td>-0.862</td>\n",
       "      <td>0.356</td>\n",
       "    </tr>\n",
       "    <tr>\n",
       "      <th>age</th>\n",
       "      <td>float64</td>\n",
       "      <td>127</td>\n",
       "      <td>49.668</td>\n",
       "      <td>34.000</td>\n",
       "      <td>155.667</td>\n",
       "      <td>1.000</td>\n",
       "      <td>2014.000</td>\n",
       "      <td>2013.000</td>\n",
       "      <td>12.423</td>\n",
       "      <td>153.569</td>\n",
       "    </tr>\n",
       "    <tr>\n",
       "      <th>signup_flow</th>\n",
       "      <td>int64</td>\n",
       "      <td>17</td>\n",
       "      <td>3.267</td>\n",
       "      <td>0.000</td>\n",
       "      <td>7.638</td>\n",
       "      <td>0.000</td>\n",
       "      <td>25.000</td>\n",
       "      <td>25.000</td>\n",
       "      <td>2.234</td>\n",
       "      <td>3.324</td>\n",
       "    </tr>\n",
       "  </tbody>\n",
       "</table>\n",
       "</div>"
      ],
      "text/plain": [
       "                           type  Unique_Values               Mean  \\\n",
       "timestamp_first_active    int64         213451 20130850417367.258   \n",
       "age                     float64            127             49.668   \n",
       "signup_flow               int64             17              3.267   \n",
       "\n",
       "                                   Median            Std                Min  \\\n",
       "timestamp_first_active 20130911061308.000 9253717046.584 20090319043255.000   \n",
       "age                                34.000        155.667              1.000   \n",
       "signup_flow                         0.000          7.638              0.000   \n",
       "\n",
       "                                      Max           Range   Skew  Kurtosis  \n",
       "timestamp_first_active 20140630235824.000 50311192569.000 -0.862     0.356  \n",
       "age                              2014.000        2013.000 12.423   153.569  \n",
       "signup_flow                        25.000          25.000  2.234     3.324  "
      ]
     },
     "execution_count": 85,
     "metadata": {},
     "output_type": "execute_result"
    }
   ],
   "source": [
    "numeric_statistics( num_attributes )"
   ]
  },
  {
   "cell_type": "markdown",
   "id": "d17eed21",
   "metadata": {
    "hidden": true
   },
   "source": [
    "\n",
    "#### Sessions "
   ]
  },
  {
   "cell_type": "code",
   "execution_count": 86,
   "id": "73532d93",
   "metadata": {
    "ExecuteTime": {
     "end_time": "2022-02-08T18:35:14.658541Z",
     "start_time": "2022-02-08T18:35:13.486542Z"
    },
    "hidden": true
   },
   "outputs": [
    {
     "data": {
      "text/html": [
       "<div>\n",
       "<style scoped>\n",
       "    .dataframe tbody tr th:only-of-type {\n",
       "        vertical-align: middle;\n",
       "    }\n",
       "\n",
       "    .dataframe tbody tr th {\n",
       "        vertical-align: top;\n",
       "    }\n",
       "\n",
       "    .dataframe thead th {\n",
       "        text-align: right;\n",
       "    }\n",
       "</style>\n",
       "<table border=\"1\" class=\"dataframe\">\n",
       "  <thead>\n",
       "    <tr style=\"text-align: right;\">\n",
       "      <th></th>\n",
       "      <th>type</th>\n",
       "      <th>Unique_Values</th>\n",
       "      <th>Mean</th>\n",
       "      <th>Median</th>\n",
       "      <th>Std</th>\n",
       "      <th>Min</th>\n",
       "      <th>Max</th>\n",
       "      <th>Range</th>\n",
       "      <th>Skew</th>\n",
       "      <th>Kurtosis</th>\n",
       "    </tr>\n",
       "  </thead>\n",
       "  <tbody>\n",
       "    <tr>\n",
       "      <th>secs_elapsed</th>\n",
       "      <td>float64</td>\n",
       "      <td>318230</td>\n",
       "      <td>19961.825</td>\n",
       "      <td>1369.000</td>\n",
       "      <td>88849.393</td>\n",
       "      <td>0.000</td>\n",
       "      <td>1799977.000</td>\n",
       "      <td>1799977.000</td>\n",
       "      <td>11.138</td>\n",
       "      <td>154.843</td>\n",
       "    </tr>\n",
       "  </tbody>\n",
       "</table>\n",
       "</div>"
      ],
      "text/plain": [
       "                 type  Unique_Values      Mean   Median       Std   Min  \\\n",
       "secs_elapsed  float64         318230 19961.825 1369.000 88849.393 0.000   \n",
       "\n",
       "                     Max       Range   Skew  Kurtosis  \n",
       "secs_elapsed 1799977.000 1799977.000 11.138   154.843  "
      ]
     },
     "execution_count": 86,
     "metadata": {},
     "output_type": "execute_result"
    }
   ],
   "source": [
    "numeric_statistics( num_attributes_sessions )"
   ]
  },
  {
   "cell_type": "markdown",
   "id": "cc31863f",
   "metadata": {},
   "source": [
    "# 2.0. Feature Engineering"
   ]
  },
  {
   "cell_type": "code",
   "execution_count": 8,
   "id": "353483ce",
   "metadata": {
    "ExecuteTime": {
     "end_time": "2022-02-08T21:45:10.176347Z",
     "start_time": "2022-02-08T21:45:10.143075Z"
    }
   },
   "outputs": [],
   "source": [
    "df2 = df_raw.copy()"
   ]
  },
  {
   "cell_type": "markdown",
   "id": "6173e31d",
   "metadata": {},
   "source": [
    "## 2.1. FillNA"
   ]
  },
  {
   "cell_type": "markdown",
   "id": "83e3010e",
   "metadata": {
    "heading_collapsed": true
   },
   "source": [
    "### 2.1.1. Users "
   ]
  },
  {
   "cell_type": "markdown",
   "id": "2448add8",
   "metadata": {
    "hidden": true
   },
   "source": [
    "\n",
    "## Costumers\n",
    "If the customer didn't have a country destination, they didn't book an apartment to travel to, my solution to this variable is going to be to exchange the NA values for the max date from a first booking. \n",
    "\n",
    "## Age\n",
    "for this variable I decided to fill the null values with a distribution with the same patterns as the variable age."
   ]
  },
  {
   "cell_type": "code",
   "execution_count": 88,
   "id": "d8911196",
   "metadata": {
    "ExecuteTime": {
     "end_time": "2022-02-08T18:39:14.509587Z",
     "start_time": "2022-02-08T18:39:14.462586Z"
    },
    "hidden": true
   },
   "outputs": [
    {
     "data": {
      "text/plain": [
       "NDF   1.000\n",
       "Name: country_destination, dtype: float64"
      ]
     },
     "execution_count": 88,
     "metadata": {},
     "output_type": "execute_result"
    }
   ],
   "source": [
    "# date_first_booking\n",
    "aux = df2[df2['date_first_booking'].isna()]\n",
    "\n",
    "aux['country_destination'].value_counts( normalize=True )"
   ]
  },
  {
   "cell_type": "code",
   "execution_count": 89,
   "id": "08df5000",
   "metadata": {
    "ExecuteTime": {
     "end_time": "2022-02-08T18:39:16.089212Z",
     "start_time": "2022-02-08T18:39:14.603585Z"
    },
    "cell_style": "center",
    "hidden": true
   },
   "outputs": [
    {
     "name": "stdout",
     "output_type": "stream",
     "text": [
      "NDF     0.768\n",
      "US      0.157\n",
      "other   0.029\n",
      "FR      0.015\n",
      "IT      0.009\n",
      "GB      0.006\n",
      "ES      0.006\n",
      "CA      0.004\n",
      "DE      0.002\n",
      "NL      0.002\n",
      "AU      0.001\n",
      "PT      0.001\n",
      "Name: country_destination, dtype: float64 \n",
      "\n",
      "\n",
      "Skew: 0.820838375560214\n",
      "std: 9.99858442690581\n",
      "mean: 35.45384731341284\n"
     ]
    },
    {
     "data": {
      "image/png": "[encoded data removed]",
      "text/plain": [
       "<Figure size 936x576 with 1 Axes>"
      ]
     },
     "metadata": {},
     "output_type": "display_data"
    }
   ],
   "source": [
    "# age\n",
    "aux = df2[df2['age'].isna()]\n",
    "print( aux['country_destination'].value_counts( normalize=True ), '\\n\\n')\n",
    "\n",
    "skew = df2[df2['age']<65]['age'].skew()\n",
    "print(f'Skew: {skew}')\n",
    "\n",
    "std = df2[df2['age']<65]['age'].std()\n",
    "print(f'std: {std}')\n",
    "\n",
    "mean = df2[df2['age']<65]['age'].mean()\n",
    "print(f'mean: {mean}')\n",
    "\n",
    "sns.histplot( df2[df2['age'] < 65]['age'], kde=True );"
   ]
  },
  {
   "cell_type": "code",
   "execution_count": 90,
   "id": "a8a8ecc0",
   "metadata": {
    "ExecuteTime": {
     "end_time": "2022-02-08T18:39:23.363560Z",
     "start_time": "2022-02-08T18:39:16.096420Z"
    },
    "hidden": true
   },
   "outputs": [],
   "source": [
    "# date_first_booking\n",
    "date_first_booking_max = pd.to_datetime( df2['date_first_booking'] ).max().strftime( '%Y-%m-%d' )\n",
    "df2['date_first_booking'] = df2['date_first_booking'].fillna( date_first_booking_max )\n",
    "\n",
    "# age\n",
    "avg_age = df2['age'].mean().astype( 'int64' )\n",
    "df2['age'] = df2['age'].apply(lambda x: skewnorm.rvs( skew, loc=mean, scale=std ).astype( 'int64' ) if pd.isna(x) else x )\n",
    "\n",
    "# first_affiliate_tracked\n",
    "df2 = df2[~df2['first_affiliate_tracked'].isna()]"
   ]
  },
  {
   "cell_type": "code",
   "execution_count": 91,
   "id": "3626e4bd",
   "metadata": {
    "ExecuteTime": {
     "end_time": "2022-02-08T18:39:25.848559Z",
     "start_time": "2022-02-08T18:39:24.185282Z"
    },
    "cell_style": "center",
    "hidden": true
   },
   "outputs": [
    {
     "data": {
      "image/png": "[encoded data removed]",
      "text/plain": [
       "<Figure size 936x576 with 1 Axes>"
      ]
     },
     "metadata": {},
     "output_type": "display_data"
    }
   ],
   "source": [
    "sns.histplot( df2[df2['age'] < 65]['age'], kde=True );"
   ]
  },
  {
   "cell_type": "markdown",
   "id": "993d6768",
   "metadata": {
    "heading_collapsed": true
   },
   "source": [
    "### 2.1.2. df_sessions"
   ]
  },
  {
   "cell_type": "code",
   "execution_count": 92,
   "id": "8b62d66a",
   "metadata": {
    "ExecuteTime": {
     "end_time": "2022-02-08T18:39:30.633212Z",
     "start_time": "2022-02-08T18:39:26.143747Z"
    },
    "hidden": true
   },
   "outputs": [],
   "source": [
    "# user_id 0.3%\n",
    "df_sessions = df_sessions[~df_sessions['user_id'].isna()]\n",
    "\n",
    "# action - 0.7%\n",
    "df_sessions = df_sessions[~df_sessions['action'].isna()]\n",
    "\n",
    "#action_type - 11%\n",
    "df_sessions = df_sessions[~df_sessions['action_type'].isna()]\n",
    "\n",
    "# action_details - 11%\n",
    "df_sessions = df_sessions[~df_sessions['action_detail'].isna()]\n",
    "\n",
    "# secs_elapsed - 1.2%\n",
    "df_sessions = df_sessions[~df_sessions['secs_elapsed'].isna()]"
   ]
  },
  {
   "cell_type": "markdown",
   "id": "e7a4c4d9",
   "metadata": {
    "heading_collapsed": true
   },
   "source": [
    "## 2.2. Change Data Types "
   ]
  },
  {
   "cell_type": "code",
   "execution_count": 93,
   "id": "de03f787",
   "metadata": {
    "ExecuteTime": {
     "end_time": "2022-02-08T18:39:31.007631Z",
     "start_time": "2022-02-08T18:39:30.953640Z"
    },
    "hidden": true
   },
   "outputs": [
    {
     "data": {
      "text/html": [
       "<div>\n",
       "<style scoped>\n",
       "    .dataframe tbody tr th:only-of-type {\n",
       "        vertical-align: middle;\n",
       "    }\n",
       "\n",
       "    .dataframe tbody tr th {\n",
       "        vertical-align: top;\n",
       "    }\n",
       "\n",
       "    .dataframe thead th {\n",
       "        text-align: right;\n",
       "    }\n",
       "</style>\n",
       "<table border=\"1\" class=\"dataframe\">\n",
       "  <thead>\n",
       "    <tr style=\"text-align: right;\">\n",
       "      <th></th>\n",
       "      <th>207299</th>\n",
       "      <th>0</th>\n",
       "    </tr>\n",
       "  </thead>\n",
       "  <tbody>\n",
       "    <tr>\n",
       "      <th>id</th>\n",
       "      <td>n1eoknyswu</td>\n",
       "      <td>object</td>\n",
       "    </tr>\n",
       "    <tr>\n",
       "      <th>date_account_created</th>\n",
       "      <td>2014-06-19</td>\n",
       "      <td>object</td>\n",
       "    </tr>\n",
       "    <tr>\n",
       "      <th>timestamp_first_active</th>\n",
       "      <td>20140619202834</td>\n",
       "      <td>int64</td>\n",
       "    </tr>\n",
       "    <tr>\n",
       "      <th>date_first_booking</th>\n",
       "      <td>2015-06-29</td>\n",
       "      <td>object</td>\n",
       "    </tr>\n",
       "    <tr>\n",
       "      <th>gender</th>\n",
       "      <td>-unknown-</td>\n",
       "      <td>object</td>\n",
       "    </tr>\n",
       "    <tr>\n",
       "      <th>age</th>\n",
       "      <td>29.000</td>\n",
       "      <td>float64</td>\n",
       "    </tr>\n",
       "    <tr>\n",
       "      <th>signup_method</th>\n",
       "      <td>basic</td>\n",
       "      <td>object</td>\n",
       "    </tr>\n",
       "    <tr>\n",
       "      <th>signup_flow</th>\n",
       "      <td>0</td>\n",
       "      <td>int64</td>\n",
       "    </tr>\n",
       "    <tr>\n",
       "      <th>language</th>\n",
       "      <td>en</td>\n",
       "      <td>object</td>\n",
       "    </tr>\n",
       "    <tr>\n",
       "      <th>affiliate_channel</th>\n",
       "      <td>direct</td>\n",
       "      <td>object</td>\n",
       "    </tr>\n",
       "    <tr>\n",
       "      <th>affiliate_provider</th>\n",
       "      <td>direct</td>\n",
       "      <td>object</td>\n",
       "    </tr>\n",
       "    <tr>\n",
       "      <th>first_affiliate_tracked</th>\n",
       "      <td>untracked</td>\n",
       "      <td>object</td>\n",
       "    </tr>\n",
       "    <tr>\n",
       "      <th>signup_app</th>\n",
       "      <td>Web</td>\n",
       "      <td>object</td>\n",
       "    </tr>\n",
       "    <tr>\n",
       "      <th>first_device_type</th>\n",
       "      <td>Mac Desktop</td>\n",
       "      <td>object</td>\n",
       "    </tr>\n",
       "    <tr>\n",
       "      <th>first_browser</th>\n",
       "      <td>Safari</td>\n",
       "      <td>object</td>\n",
       "    </tr>\n",
       "    <tr>\n",
       "      <th>country_destination</th>\n",
       "      <td>NDF</td>\n",
       "      <td>object</td>\n",
       "    </tr>\n",
       "  </tbody>\n",
       "</table>\n",
       "</div>"
      ],
      "text/plain": [
       "                                 207299   0     \n",
       "id                           n1eoknyswu   object\n",
       "date_account_created         2014-06-19   object\n",
       "timestamp_first_active   20140619202834    int64\n",
       "date_first_booking           2015-06-29   object\n",
       "gender                        -unknown-   object\n",
       "age                              29.000  float64\n",
       "signup_method                     basic   object\n",
       "signup_flow                           0    int64\n",
       "language                             en   object\n",
       "affiliate_channel                direct   object\n",
       "affiliate_provider               direct   object\n",
       "first_affiliate_tracked       untracked   object\n",
       "signup_app                          Web   object\n",
       "first_device_type           Mac Desktop   object\n",
       "first_browser                    Safari   object\n",
       "country_destination                 NDF   object"
      ]
     },
     "execution_count": 93,
     "metadata": {},
     "output_type": "execute_result"
    }
   ],
   "source": [
    "aux_01 = df2.sample().T\n",
    "aux_02 = df2.sample().dtypes\n",
    "\n",
    "pd.concat( [aux_01,aux_02], axis=1 )"
   ]
  },
  {
   "cell_type": "code",
   "execution_count": 94,
   "id": "78d0d884",
   "metadata": {
    "ExecuteTime": {
     "end_time": "2022-02-08T18:39:32.287860Z",
     "start_time": "2022-02-08T18:39:31.326632Z"
    },
    "hidden": true
   },
   "outputs": [],
   "source": [
    "# df2\n",
    "# date_account_created\n",
    "df2['date_account_created'] = pd.to_datetime( df2['date_account_created'] )\n",
    "\n",
    "# timestamp_first_active\n",
    "df2['timestamp_first_active'] = pd.to_datetime( df2['timestamp_first_active'], format='%Y%m%d%H%M%S')\n",
    "\n",
    "# date first_booking \n",
    "df2['date_first_booking'] = pd.to_datetime( df2['date_first_booking'] )  \n",
    "                                           \n",
    "# age \n",
    "df2['age'] = df2['age'].astype( 'int64' )"
   ]
  },
  {
   "cell_type": "markdown",
   "id": "59522019",
   "metadata": {
    "ExecuteTime": {
     "end_time": "2022-02-03T16:28:11.288939Z",
     "start_time": "2022-02-03T16:28:11.267944Z"
    },
    "heading_collapsed": true
   },
   "source": [
    "## 2.3. Check Blanced Data"
   ]
  },
  {
   "cell_type": "code",
   "execution_count": 95,
   "id": "7164fa5b",
   "metadata": {
    "ExecuteTime": {
     "end_time": "2022-02-08T18:39:32.603282Z",
     "start_time": "2022-02-08T18:39:32.575020Z"
    },
    "hidden": true
   },
   "outputs": [
    {
     "data": {
      "text/plain": [
       "NDF     0.580\n",
       "US      0.294\n",
       "other   0.048\n",
       "FR      0.024\n",
       "IT      0.013\n",
       "GB      0.011\n",
       "ES      0.011\n",
       "CA      0.007\n",
       "DE      0.005\n",
       "NL      0.004\n",
       "AU      0.003\n",
       "PT      0.001\n",
       "Name: country_destination, dtype: float64"
      ]
     },
     "execution_count": 95,
     "metadata": {},
     "output_type": "execute_result"
    }
   ],
   "source": [
    "df2['country_destination'].value_counts( normalize=True )"
   ]
  },
  {
   "cell_type": "markdown",
   "id": "3046b3fd",
   "metadata": {
    "heading_collapsed": true
   },
   "source": [
    "## 2.4. Numerical data "
   ]
  },
  {
   "cell_type": "markdown",
   "id": "45b02686",
   "metadata": {
    "ExecuteTime": {
     "end_time": "2022-02-08T18:57:41.980954Z",
     "start_time": "2022-02-08T18:57:41.961910Z"
    },
    "heading_collapsed": true,
    "hidden": true
   },
   "source": [
    "### 2.4.1 Users"
   ]
  },
  {
   "cell_type": "code",
   "execution_count": 102,
   "id": "a4a2c719",
   "metadata": {
    "ExecuteTime": {
     "end_time": "2022-02-08T18:49:56.677005Z",
     "start_time": "2022-02-08T18:49:56.614010Z"
    },
    "hidden": true
   },
   "outputs": [
    {
     "data": {
      "text/html": [
       "<div>\n",
       "<style scoped>\n",
       "    .dataframe tbody tr th:only-of-type {\n",
       "        vertical-align: middle;\n",
       "    }\n",
       "\n",
       "    .dataframe tbody tr th {\n",
       "        vertical-align: top;\n",
       "    }\n",
       "\n",
       "    .dataframe thead th {\n",
       "        text-align: right;\n",
       "    }\n",
       "</style>\n",
       "<table border=\"1\" class=\"dataframe\">\n",
       "  <thead>\n",
       "    <tr style=\"text-align: right;\">\n",
       "      <th></th>\n",
       "      <th>type</th>\n",
       "      <th>Unique_Values</th>\n",
       "      <th>Mean</th>\n",
       "      <th>Median</th>\n",
       "      <th>Std</th>\n",
       "      <th>Min</th>\n",
       "      <th>Max</th>\n",
       "      <th>Range</th>\n",
       "      <th>Skew</th>\n",
       "      <th>Kurtosis</th>\n",
       "    </tr>\n",
       "  </thead>\n",
       "  <tbody>\n",
       "    <tr>\n",
       "      <th>age</th>\n",
       "      <td>int64</td>\n",
       "      <td>99</td>\n",
       "      <td>38.471</td>\n",
       "      <td>37.000</td>\n",
       "      <td>12.112</td>\n",
       "      <td>16</td>\n",
       "      <td>115</td>\n",
       "      <td>99</td>\n",
       "      <td>1.780</td>\n",
       "      <td>6.614</td>\n",
       "    </tr>\n",
       "    <tr>\n",
       "      <th>signup_flow</th>\n",
       "      <td>int64</td>\n",
       "      <td>17</td>\n",
       "      <td>3.156</td>\n",
       "      <td>0.000</td>\n",
       "      <td>7.549</td>\n",
       "      <td>0</td>\n",
       "      <td>25</td>\n",
       "      <td>25</td>\n",
       "      <td>2.284</td>\n",
       "      <td>3.554</td>\n",
       "    </tr>\n",
       "  </tbody>\n",
       "</table>\n",
       "</div>"
      ],
      "text/plain": [
       "              type  Unique_Values   Mean  Median    Std  Min  Max  Range  \\\n",
       "age          int64             99 38.471  37.000 12.112   16  115     99   \n",
       "signup_flow  int64             17  3.156   0.000  7.549    0   25     25   \n",
       "\n",
       "             Skew  Kurtosis  \n",
       "age         1.780     6.614  \n",
       "signup_flow 2.284     3.554  "
      ]
     },
     "execution_count": 102,
     "metadata": {},
     "output_type": "execute_result"
    }
   ],
   "source": [
    "# df2\n",
    "num_attributes = df2.select_dtypes( include=['int64','float64'] )\n",
    "cat_attributes = df2.select_dtypes( include='object')\n",
    "time_attributes = df2.select_dtypes( include='datetime64[ns]')\n",
    "\n",
    "numeric_statistics( num_attributes )"
   ]
  },
  {
   "cell_type": "markdown",
   "id": "0bd9e2b0",
   "metadata": {
    "ExecuteTime": {
     "end_time": "2022-02-08T18:57:41.980954Z",
     "start_time": "2022-02-08T18:57:41.961910Z"
    },
    "heading_collapsed": true,
    "hidden": true
   },
   "source": [
    "### 2.4.2 Sessions"
   ]
  },
  {
   "cell_type": "code",
   "execution_count": 104,
   "id": "e604acd6",
   "metadata": {
    "ExecuteTime": {
     "end_time": "2022-02-08T18:50:19.914375Z",
     "start_time": "2022-02-08T18:50:18.759379Z"
    },
    "hidden": true
   },
   "outputs": [
    {
     "data": {
      "text/html": [
       "<div>\n",
       "<style scoped>\n",
       "    .dataframe tbody tr th:only-of-type {\n",
       "        vertical-align: middle;\n",
       "    }\n",
       "\n",
       "    .dataframe tbody tr th {\n",
       "        vertical-align: top;\n",
       "    }\n",
       "\n",
       "    .dataframe thead th {\n",
       "        text-align: right;\n",
       "    }\n",
       "</style>\n",
       "<table border=\"1\" class=\"dataframe\">\n",
       "  <thead>\n",
       "    <tr style=\"text-align: right;\">\n",
       "      <th></th>\n",
       "      <th>type</th>\n",
       "      <th>Unique_Values</th>\n",
       "      <th>Mean</th>\n",
       "      <th>Median</th>\n",
       "      <th>Std</th>\n",
       "      <th>Min</th>\n",
       "      <th>Max</th>\n",
       "      <th>Range</th>\n",
       "      <th>Skew</th>\n",
       "      <th>Kurtosis</th>\n",
       "    </tr>\n",
       "  </thead>\n",
       "  <tbody>\n",
       "    <tr>\n",
       "      <th>secs_elapsed</th>\n",
       "      <td>float64</td>\n",
       "      <td>318229</td>\n",
       "      <td>20159.474</td>\n",
       "      <td>1409.000</td>\n",
       "      <td>89265.859</td>\n",
       "      <td>1.000</td>\n",
       "      <td>1799977.000</td>\n",
       "      <td>1799976.000</td>\n",
       "      <td>11.085</td>\n",
       "      <td>153.354</td>\n",
       "    </tr>\n",
       "  </tbody>\n",
       "</table>\n",
       "</div>"
      ],
      "text/plain": [
       "                 type  Unique_Values      Mean   Median       Std   Min  \\\n",
       "secs_elapsed  float64         318229 20159.474 1409.000 89265.859 1.000   \n",
       "\n",
       "                     Max       Range   Skew  Kurtosis  \n",
       "secs_elapsed 1799977.000 1799976.000 11.085   153.354  "
      ]
     },
     "execution_count": 104,
     "metadata": {},
     "output_type": "execute_result"
    }
   ],
   "source": [
    "# df_sessions\n",
    "num_attributes_sessions = df_sessions.select_dtypes( include=['int64','float64'] )\n",
    "cat_attributes_sessions = df_sessions.select_dtypes( include='object')\n",
    "time_attributes_sessions = df_sessions.select_dtypes( include='datetime64[ns]')\n",
    "\n",
    "numeric_statistics( num_attributes_sessions )"
   ]
  },
  {
   "cell_type": "markdown",
   "id": "573bc13e",
   "metadata": {},
   "source": [
    "## 2.5. Categorical data "
   ]
  },
  {
   "cell_type": "markdown",
   "id": "b0eb6c72",
   "metadata": {
    "ExecuteTime": {
     "end_time": "2022-02-08T18:57:41.980954Z",
     "start_time": "2022-02-08T18:57:41.961910Z"
    },
    "heading_collapsed": true
   },
   "source": [
    "### 2.5.1 Users "
   ]
  },
  {
   "cell_type": "code",
   "execution_count": 106,
   "id": "f17fc0be",
   "metadata": {
    "ExecuteTime": {
     "end_time": "2022-02-08T18:51:16.461939Z",
     "start_time": "2022-02-08T18:51:16.189665Z"
    },
    "hidden": true
   },
   "outputs": [
    {
     "data": {
      "text/html": [
       "<div>\n",
       "<style scoped>\n",
       "    .dataframe tbody tr th:only-of-type {\n",
       "        vertical-align: middle;\n",
       "    }\n",
       "\n",
       "    .dataframe tbody tr th {\n",
       "        vertical-align: top;\n",
       "    }\n",
       "\n",
       "    .dataframe thead th {\n",
       "        text-align: right;\n",
       "    }\n",
       "</style>\n",
       "<table border=\"1\" class=\"dataframe\">\n",
       "  <thead>\n",
       "    <tr style=\"text-align: right;\">\n",
       "      <th></th>\n",
       "      <th>gender</th>\n",
       "      <th>signup_method</th>\n",
       "      <th>language</th>\n",
       "      <th>affiliate_channel</th>\n",
       "      <th>affiliate_provider</th>\n",
       "      <th>first_affiliate_tracked</th>\n",
       "      <th>signup_app</th>\n",
       "      <th>first_device_type</th>\n",
       "      <th>first_browser</th>\n",
       "      <th>country_destination</th>\n",
       "    </tr>\n",
       "  </thead>\n",
       "  <tbody>\n",
       "    <tr>\n",
       "      <th>count</th>\n",
       "      <td>206468</td>\n",
       "      <td>206468</td>\n",
       "      <td>206468</td>\n",
       "      <td>206468</td>\n",
       "      <td>206468</td>\n",
       "      <td>206468</td>\n",
       "      <td>206468</td>\n",
       "      <td>206468</td>\n",
       "      <td>206468</td>\n",
       "      <td>206468</td>\n",
       "    </tr>\n",
       "    <tr>\n",
       "      <th>unique</th>\n",
       "      <td>4</td>\n",
       "      <td>3</td>\n",
       "      <td>25</td>\n",
       "      <td>8</td>\n",
       "      <td>18</td>\n",
       "      <td>7</td>\n",
       "      <td>4</td>\n",
       "      <td>9</td>\n",
       "      <td>52</td>\n",
       "      <td>12</td>\n",
       "    </tr>\n",
       "    <tr>\n",
       "      <th>top</th>\n",
       "      <td>-unknown-</td>\n",
       "      <td>basic</td>\n",
       "      <td>en</td>\n",
       "      <td>direct</td>\n",
       "      <td>direct</td>\n",
       "      <td>untracked</td>\n",
       "      <td>Web</td>\n",
       "      <td>Mac Desktop</td>\n",
       "      <td>Chrome</td>\n",
       "      <td>NDF</td>\n",
       "    </tr>\n",
       "    <tr>\n",
       "      <th>freq</th>\n",
       "      <td>91591</td>\n",
       "      <td>147511</td>\n",
       "      <td>199516</td>\n",
       "      <td>133605</td>\n",
       "      <td>133366</td>\n",
       "      <td>108766</td>\n",
       "      <td>177492</td>\n",
       "      <td>89210</td>\n",
       "      <td>63586</td>\n",
       "      <td>119715</td>\n",
       "    </tr>\n",
       "  </tbody>\n",
       "</table>\n",
       "</div>"
      ],
      "text/plain": [
       "           gender signup_method language affiliate_channel affiliate_provider  \\\n",
       "count      206468        206468   206468            206468             206468   \n",
       "unique          4             3       25                 8                 18   \n",
       "top     -unknown-         basic       en            direct             direct   \n",
       "freq        91591        147511   199516            133605             133366   \n",
       "\n",
       "       first_affiliate_tracked signup_app first_device_type first_browser  \\\n",
       "count                   206468     206468            206468        206468   \n",
       "unique                       7          4                 9            52   \n",
       "top                  untracked        Web       Mac Desktop        Chrome   \n",
       "freq                    108766     177492             89210         63586   \n",
       "\n",
       "       country_destination  \n",
       "count               206468  \n",
       "unique                  12  \n",
       "top                    NDF  \n",
       "freq                119715  "
      ]
     },
     "execution_count": 106,
     "metadata": {},
     "output_type": "execute_result"
    }
   ],
   "source": [
    "# df2\n",
    "cat_attributes.drop('id', axis=1 ).describe()"
   ]
  },
  {
   "cell_type": "markdown",
   "id": "be309a84",
   "metadata": {
    "ExecuteTime": {
     "end_time": "2022-02-08T18:57:41.980954Z",
     "start_time": "2022-02-08T18:57:41.961910Z"
    },
    "heading_collapsed": true
   },
   "source": [
    "### 2.5.2 Sessions "
   ]
  },
  {
   "cell_type": "code",
   "execution_count": 109,
   "id": "618d2eae",
   "metadata": {
    "ExecuteTime": {
     "end_time": "2022-02-08T18:54:00.588904Z",
     "start_time": "2022-02-08T18:53:56.183271Z"
    },
    "hidden": true
   },
   "outputs": [
    {
     "data": {
      "text/html": [
       "<div>\n",
       "<style scoped>\n",
       "    .dataframe tbody tr th:only-of-type {\n",
       "        vertical-align: middle;\n",
       "    }\n",
       "\n",
       "    .dataframe tbody tr th {\n",
       "        vertical-align: top;\n",
       "    }\n",
       "\n",
       "    .dataframe thead th {\n",
       "        text-align: right;\n",
       "    }\n",
       "</style>\n",
       "<table border=\"1\" class=\"dataframe\">\n",
       "  <thead>\n",
       "    <tr style=\"text-align: right;\">\n",
       "      <th></th>\n",
       "      <th>action</th>\n",
       "      <th>action_type</th>\n",
       "      <th>action_detail</th>\n",
       "      <th>device_type</th>\n",
       "    </tr>\n",
       "  </thead>\n",
       "  <tbody>\n",
       "    <tr>\n",
       "      <th>count</th>\n",
       "      <td>9123594</td>\n",
       "      <td>9123594</td>\n",
       "      <td>9123594</td>\n",
       "      <td>9123594</td>\n",
       "    </tr>\n",
       "    <tr>\n",
       "      <th>unique</th>\n",
       "      <td>347</td>\n",
       "      <td>10</td>\n",
       "      <td>155</td>\n",
       "      <td>14</td>\n",
       "    </tr>\n",
       "    <tr>\n",
       "      <th>top</th>\n",
       "      <td>show</td>\n",
       "      <td>view</td>\n",
       "      <td>view_search_results</td>\n",
       "      <td>Mac Desktop</td>\n",
       "    </tr>\n",
       "    <tr>\n",
       "      <th>freq</th>\n",
       "      <td>2161240</td>\n",
       "      <td>3518629</td>\n",
       "      <td>1754981</td>\n",
       "      <td>2989495</td>\n",
       "    </tr>\n",
       "  </tbody>\n",
       "</table>\n",
       "</div>"
      ],
      "text/plain": [
       "         action action_type        action_detail  device_type\n",
       "count   9123594     9123594              9123594      9123594\n",
       "unique      347          10                  155           14\n",
       "top        show        view  view_search_results  Mac Desktop\n",
       "freq    2161240     3518629              1754981      2989495"
      ]
     },
     "execution_count": 109,
     "metadata": {},
     "output_type": "execute_result"
    }
   ],
   "source": [
    "# df_sessions\n",
    "cat_attributes_sessions.drop( 'user_id', axis=1 ).describe()"
   ]
  },
  {
   "cell_type": "code",
   "execution_count": 120,
   "id": "b4f3a373",
   "metadata": {
    "ExecuteTime": {
     "end_time": "2022-02-08T19:13:33.697398Z",
     "start_time": "2022-02-08T19:12:52.470221Z"
    },
    "code_folding": [],
    "hidden": true
   },
   "outputs": [
    {
     "data": {
      "text/plain": [
       "<AxesSubplot:>"
      ]
     },
     "execution_count": 120,
     "metadata": {},
     "output_type": "execute_result"
    },
    {
     "data": {
      "image/png": "[encoded data removed]",
      "text/plain": [
       "<Figure size 936x576 with 2 Axes>"
      ]
     },
     "metadata": {},
     "output_type": "display_data"
    }
   ],
   "source": [
    "cat_attributes_list = cat_attributes_sessions.drop( 'user_id', axis=1 ).columns.tolist()\n",
    "\n",
    "corr_dict = {}\n",
    "for i in range( len ( cat_attributes_list ) ):\n",
    "    corr_list = []\n",
    "    for j in range( len( cat_attributes_list ) ):\n",
    "        ref = cat_attributes_list[i]\n",
    "        feat = cat_attributes_list[j]\n",
    "        \n",
    "        # correlation\n",
    "        corr = cramer_v( cat_attributes_sessions[ ref ], cat_attributes_sessions[ feat ] )\n",
    "        \n",
    "        # append a list\n",
    "        corr_list.append( corr )\n",
    "    \n",
    "    # appende a correlation list for each ref attributs\n",
    "    corr_dict[ ref ] = corr_list\n",
    "\n",
    "d = pd.DataFrame( corr_dict )\n",
    "d = d.set_index( d.columns)\n",
    "sns.heatmap( d, annot=True )"
   ]
  },
  {
   "cell_type": "markdown",
   "id": "2698869d",
   "metadata": {},
   "source": [
    "# 3.0. Data Filtering"
   ]
  },
  {
   "cell_type": "code",
   "execution_count": 16,
   "id": "4517750a",
   "metadata": {
    "ExecuteTime": {
     "end_time": "2022-02-05T16:13:49.190395Z",
     "start_time": "2022-02-05T16:13:49.166055Z"
    }
   },
   "outputs": [],
   "source": [
    "df3 = df2.copy()"
   ]
  },
  {
   "cell_type": "code",
   "execution_count": 100,
   "id": "1c8ba38f",
   "metadata": {
    "ExecuteTime": {
     "end_time": "2022-02-08T18:40:09.229846Z",
     "start_time": "2022-02-08T18:40:08.666741Z"
    }
   },
   "outputs": [],
   "source": [
    "# there are few people with these ages and inside the dataset there is lots of weird values od age.\n",
    "df3 = df3[( df3['age'] > 15 ) & ( df3['age'] <120 )]\n",
    "\n",
    "df_sessions = df_sessions[df_sessions['secs_elapsed'] > 0]"
   ]
  },
  {
   "cell_type": "code",
   "execution_count": 98,
   "id": "6ef07f88",
   "metadata": {
    "ExecuteTime": {
     "end_time": "2022-02-08T18:39:34.805704Z",
     "start_time": "2022-02-08T18:39:34.744704Z"
    }
   },
   "outputs": [
    {
     "data": {
      "text/plain": [
       "country_destination\n",
       "AU          8\n",
       "CA         23\n",
       "DE         17\n",
       "ES         32\n",
       "FR         64\n",
       "GB         42\n",
       "IT         57\n",
       "NDF      1264\n",
       "NL         13\n",
       "PT          2\n",
       "US       1005\n",
       "other     184\n",
       "dtype: int64"
      ]
     },
     "execution_count": 98,
     "metadata": {},
     "output_type": "execute_result"
    }
   ],
   "source": [
    "aux = df3[df3['age'] > 80][['age','country_destination']]\n",
    "pd.crosstab( aux['age'], aux['country_destination'] ).sum()"
   ]
  },
  {
   "cell_type": "markdown",
   "id": "01c5e648",
   "metadata": {},
   "source": [
    "# 4.0. EDA"
   ]
  },
  {
   "cell_type": "code",
   "execution_count": 17,
   "id": "aacc1c35",
   "metadata": {
    "ExecuteTime": {
     "end_time": "2022-02-05T16:13:49.206434Z",
     "start_time": "2022-02-05T16:13:49.192413Z"
    }
   },
   "outputs": [],
   "source": [
    "df4 = df3.copy()"
   ]
  },
  {
   "cell_type": "markdown",
   "id": "c50928b7",
   "metadata": {},
   "source": [
    "# 5.0. Data Preparation "
   ]
  },
  {
   "cell_type": "code",
   "execution_count": 18,
   "id": "a37118a5",
   "metadata": {
    "ExecuteTime": {
     "end_time": "2022-02-05T16:13:49.332049Z",
     "start_time": "2022-02-05T16:13:49.210435Z"
    }
   },
   "outputs": [],
   "source": [
    "df5 = df4.copy()\n",
    "\n",
    "df5_dummys = pd.get_dummies( df5.drop( ['id','country_destination'], axis=1 ) )\n",
    "\n",
    "df5 = pd.concat( [ df5[['id','country_destination']], df5_dummys], axis=1 )"
   ]
  },
  {
   "cell_type": "markdown",
   "id": "e21f6e4c",
   "metadata": {},
   "source": [
    "# 6.0. Feature Selection"
   ]
  },
  {
   "cell_type": "code",
   "execution_count": 19,
   "id": "c0f65313",
   "metadata": {
    "ExecuteTime": {
     "end_time": "2022-02-05T16:13:49.348100Z",
     "start_time": "2022-02-05T16:13:49.336062Z"
    }
   },
   "outputs": [
    {
     "data": {
      "text/plain": [
       "Index(['id', 'country_destination', 'date_account_created',\n",
       "       'timestamp_first_active', 'date_first_booking', 'age', 'signup_flow',\n",
       "       'gender_-unknown-', 'gender_FEMALE', 'gender_MALE',\n",
       "       ...\n",
       "       'first_browser_Safari', 'first_browser_SeaMonkey', 'first_browser_Silk',\n",
       "       'first_browser_SiteKiosk', 'first_browser_SlimBrowser',\n",
       "       'first_browser_Sogou Explorer', 'first_browser_Stainless',\n",
       "       'first_browser_TenFourFox', 'first_browser_TheWorld Browser',\n",
       "       'first_browser_Yandex.Browser'],\n",
       "      dtype='object', length=117)"
      ]
     },
     "execution_count": 19,
     "metadata": {},
     "output_type": "execute_result"
    }
   ],
   "source": [
    "df5.columns"
   ]
  },
  {
   "cell_type": "code",
   "execution_count": 20,
   "id": "2f632fe2",
   "metadata": {
    "ExecuteTime": {
     "end_time": "2022-02-05T16:13:49.379509Z",
     "start_time": "2022-02-05T16:13:49.351060Z"
    }
   },
   "outputs": [],
   "source": [
    "cols_drop = ['date_account_created','timestamp_first_active','date_first_booking']\n",
    "df5 = df5.drop( cols_drop, axis=1 )"
   ]
  },
  {
   "cell_type": "code",
   "execution_count": 21,
   "id": "2aa093a3",
   "metadata": {
    "ExecuteTime": {
     "end_time": "2022-02-05T16:13:49.395696Z",
     "start_time": "2022-02-05T16:13:49.381435Z"
    }
   },
   "outputs": [],
   "source": [
    "X = df5.drop( ['id','country_destination'], axis=1 )\n",
    "y = df5['country_destination'].copy()"
   ]
  },
  {
   "cell_type": "markdown",
   "id": "9849c5c5",
   "metadata": {
    "ExecuteTime": {
     "end_time": "2022-02-03T18:03:58.034759Z",
     "start_time": "2022-02-03T18:03:58.006716Z"
    }
   },
   "source": [
    "# 7.0. Machine Learning"
   ]
  },
  {
   "cell_type": "code",
   "execution_count": 22,
   "id": "b45c1676",
   "metadata": {
    "ExecuteTime": {
     "end_time": "2022-02-05T16:13:49.459093Z",
     "start_time": "2022-02-05T16:13:49.399438Z"
    }
   },
   "outputs": [],
   "source": [
    "X_train, X_val, y_train, y_val = train_test_split( X, y, test_size=0.2, random_state=32 )"
   ]
  },
  {
   "cell_type": "markdown",
   "id": "03d597e5",
   "metadata": {},
   "source": [
    "## 7.1. Baseline model"
   ]
  },
  {
   "cell_type": "code",
   "execution_count": 23,
   "id": "9f3cb2e7",
   "metadata": {
    "ExecuteTime": {
     "end_time": "2022-02-05T16:13:49.489991Z",
     "start_time": "2022-02-05T16:13:49.470996Z"
    }
   },
   "outputs": [],
   "source": [
    "index = df5['country_destination'].value_counts().index\n",
    "values = df5['country_destination'].value_counts( normalize=True ).values"
   ]
  },
  {
   "cell_type": "code",
   "execution_count": 24,
   "id": "356d0737",
   "metadata": {
    "ExecuteTime": {
     "end_time": "2022-02-05T16:13:49.520424Z",
     "start_time": "2022-02-05T16:13:49.492997Z"
    }
   },
   "outputs": [],
   "source": [
    "yhat_random = random.choices( population=index, weights=values, k=y_val.shape[0] )"
   ]
  },
  {
   "cell_type": "code",
   "execution_count": 25,
   "id": "7f0be112",
   "metadata": {
    "ExecuteTime": {
     "end_time": "2022-02-05T16:13:49.536392Z",
     "start_time": "2022-02-05T16:13:49.529396Z"
    }
   },
   "outputs": [],
   "source": [
    "# prediction prepare\n",
    "y_val_random = y_val.to_numpy()"
   ]
  },
  {
   "cell_type": "code",
   "execution_count": 26,
   "id": "496167cd",
   "metadata": {
    "ExecuteTime": {
     "end_time": "2022-02-05T16:13:50.661561Z",
     "start_time": "2022-02-05T16:13:49.540399Z"
    }
   },
   "outputs": [
    {
     "name": "stdout",
     "output_type": "stream",
     "text": [
      "  model  Accuracy  BalancedAccuracy  KappaScore\n",
      "0    NN  0.523212          0.092667    0.004504\n",
      "              precision    recall  f1-score   support\n",
      "\n",
      "          AU       0.00      0.00      0.00       101\n",
      "          CA       0.02      0.01      0.01       214\n",
      "          DE       0.02      0.02      0.02       170\n",
      "          ES       0.02      0.02      0.02       345\n",
      "          FR       0.06      0.06      0.06       710\n",
      "          GB       0.05      0.05      0.05       344\n",
      "          IT       0.02      0.02      0.02       423\n",
      "          NL       0.00      0.00      0.00       128\n",
      "          PT       0.00      0.00      0.00        36\n",
      "          US       0.71      0.71      0.71      9624\n",
      "       other       0.12      0.11      0.11      1540\n",
      "\n",
      "    accuracy                           0.52     13635\n",
      "   macro avg       0.09      0.09      0.09     13635\n",
      "weighted avg       0.52      0.52      0.52     13635\n",
      "\n"
     ]
    },
    {
     "data": {
      "image/png": "[encoded data removed]",
      "text/plain": [
       "<Figure size 1296x504 with 2 Axes>"
      ]
     },
     "metadata": {
      "needs_background": "light"
     },
     "output_type": "display_data"
    }
   ],
   "source": [
    "# balanced accuracy, accuracy, kappa score \n",
    "dic = {\n",
    "    'model': 'NN',\n",
    "    'Accuracy': accuracy_score( y_val_random, yhat_random ),\n",
    "    'BalancedAccuracy': balanced_accuracy_score( y_val_random, yhat_random ),\n",
    "    'KappaScore': cohen_kappa_score( y_val_random, yhat_random )\n",
    "}\n",
    "print( pd.DataFrame( dic, index=[0] ) )\n",
    "print( classification_report( y_val_random, yhat_random ) )\n",
    "\n",
    "# confusion matrix\n",
    "plot_confusion_matrix(y_val_random, yhat_random, figsize=(18,7) );"
   ]
  },
  {
   "cell_type": "markdown",
   "id": "78a6000a",
   "metadata": {},
   "source": [
    "## 7.2. NN "
   ]
  },
  {
   "cell_type": "code",
   "execution_count": 27,
   "id": "bc00beae",
   "metadata": {
    "ExecuteTime": {
     "end_time": "2022-02-05T16:13:50.692916Z",
     "start_time": "2022-02-05T16:13:50.664557Z"
    }
   },
   "outputs": [],
   "source": [
    "on = OneHotEncoder()\n",
    "y_train_nn = on.fit_transform( y_train.values.reshape(-1,1) ).toarray()"
   ]
  },
  {
   "cell_type": "code",
   "execution_count": 28,
   "id": "484371e4",
   "metadata": {
    "ExecuteTime": {
     "end_time": "2022-02-05T16:17:41.908365Z",
     "start_time": "2022-02-05T16:13:50.696914Z"
    }
   },
   "outputs": [
    {
     "data": {
      "text/plain": [
       "<keras.callbacks.History at 0x1b30338a9d0>"
      ]
     },
     "execution_count": 28,
     "metadata": {},
     "output_type": "execute_result"
    }
   ],
   "source": [
    "# model definition\n",
    "model = models.Sequential()\n",
    "model.add( layers.Dense( 128, input_dim=X_train.shape[1], activation='relu' ) )\n",
    "model.add( layers.Dense( 11, activation='softmax' ) )\n",
    "\n",
    "# model compile\n",
    "model.compile( loss='categorical_crossentropy', optimizer='adam', metrics=['accuracy'] )\n",
    "\n",
    "# train model\n",
    "model.fit( X_train, y_train_nn, epochs=100, verbose=0 )"
   ]
  },
  {
   "cell_type": "markdown",
   "id": "9fdfce67",
   "metadata": {},
   "source": [
    "# 8.0. Model Performance "
   ]
  },
  {
   "cell_type": "code",
   "execution_count": 29,
   "id": "b506c570",
   "metadata": {
    "ExecuteTime": {
     "end_time": "2022-02-05T16:17:42.476017Z",
     "start_time": "2022-02-05T16:17:41.917370Z"
    }
   },
   "outputs": [],
   "source": [
    "# prediction\n",
    "pred_nn = model.predict( X_val )\n",
    "\n",
    "# invert prediction\n",
    "yhat_nn =  on.inverse_transform( pred_nn )\n",
    "\n",
    "# prediction prepare\n",
    "y_val_nn = y_val.to_numpy()\n",
    "yhat_nn = yhat_nn.reshape( 1,-1 )[0]"
   ]
  },
  {
   "cell_type": "code",
   "execution_count": 30,
   "id": "3f858d41",
   "metadata": {
    "ExecuteTime": {
     "end_time": "2022-02-05T16:17:43.600448Z",
     "start_time": "2022-02-05T16:17:42.478411Z"
    }
   },
   "outputs": [
    {
     "name": "stdout",
     "output_type": "stream",
     "text": [
      "  model  Accuracy  BalancedAccuracy  KappaScore\n",
      "0    NN  0.703044          0.091046    0.002663\n",
      "              precision    recall  f1-score   support\n",
      "\n",
      "          AU       0.00      0.00      0.00       101\n",
      "          CA       0.00      0.00      0.00       214\n",
      "          DE       0.00      0.00      0.00       170\n",
      "          ES       0.00      0.00      0.00       345\n",
      "          FR       0.00      0.00      0.00       710\n",
      "          GB       0.00      0.00      0.00       344\n",
      "          IT       0.00      0.00      0.00       423\n",
      "          NL       0.00      0.00      0.00       128\n",
      "          PT       0.00      0.00      0.00        36\n",
      "          US       0.71      1.00      0.83      9624\n",
      "       other       0.21      0.01      0.01      1540\n",
      "\n",
      "    accuracy                           0.70     13635\n",
      "   macro avg       0.08      0.09      0.08     13635\n",
      "weighted avg       0.52      0.70      0.58     13635\n",
      "\n"
     ]
    },
    {
     "data": {
      "image/png": "[encoded data removed]",
      "text/plain": [
       "<Figure size 1296x504 with 2 Axes>"
      ]
     },
     "metadata": {
      "needs_background": "light"
     },
     "output_type": "display_data"
    }
   ],
   "source": [
    "# balanced accuracy, accuracy, kappa score \n",
    "dic = {\n",
    "    'model': 'NN',\n",
    "    'Accuracy': accuracy_score( y_val_nn, yhat_nn ),\n",
    "    'BalancedAccuracy': balanced_accuracy_score( y_val_nn, yhat_nn ),\n",
    "    'KappaScore': cohen_kappa_score( y_val_nn, yhat_nn )\n",
    "}\n",
    "print( pd.DataFrame( dic, index=[0] ) )\n",
    "print( classification_report( y_val_nn, yhat_nn ) )\n",
    "\n",
    "# confusion matrix\n",
    "plot_confusion_matrix(y_val_nn, yhat_nn, figsize=(18,7) );"
   ]
  },
  {
   "cell_type": "markdown",
   "id": "6987d138",
   "metadata": {},
   "source": [
    "## 8.1. Cross Validation "
   ]
  },
  {
   "cell_type": "code",
   "execution_count": 31,
   "id": "aec63260",
   "metadata": {
    "ExecuteTime": {
     "end_time": "2022-02-05T16:34:23.289528Z",
     "start_time": "2022-02-05T16:17:43.604351Z"
    }
   },
   "outputs": [
    {
     "name": "stdout",
     "output_type": "stream",
     "text": [
      "Fold Number: 1/5\n",
      "Fold Number: 2/5\n",
      "Fold Number: 3/5\n",
      "Fold Number: 4/5\n",
      "Fold Number: 5/5\n",
      "Avg Balanced Accuracy: 0.09155718094644394 +/- 0.00022635929012134227\n",
      "Avg Kappa: 0.002817943288701352 +/- 0.0017295300685959945\n"
     ]
    }
   ],
   "source": [
    "# generate k-fold\n",
    "num_folds = 5\n",
    "kfold = StratifiedKFold( n_splits=num_folds, shuffle=True, random_state=32 )\n",
    "\n",
    "balanced_acc_list = []\n",
    "kappa_acc_list = []\n",
    "\n",
    "i = 1\n",
    "\n",
    "for train_ix, val_ix in kfold.split( X_train, y_train ):\n",
    "    print( 'Fold Number: {}/{}'.format( i, num_folds ) )\n",
    "    \n",
    "    # get fold\n",
    "    X_train_fold = X_train.iloc[train_ix]\n",
    "    y_train_fold = y_train.iloc[train_ix]\n",
    "    \n",
    "    x_val_fold = X_train.iloc[val_ix]\n",
    "    y_val_fold = y_train.iloc[val_ix]\n",
    "    \n",
    "    # target hot-encoding\n",
    "    ohe = OneHotEncoder()\n",
    "    y_train_fold_nn = ohe.fit_transform( y_train_fold.values.reshape( -1, 1 ) ).toarray()\n",
    "\n",
    "    # model definition\n",
    "    model = models.Sequential()\n",
    "    model.add( layers.Dense( 256, input_dim=X_train.shape[1], activation='relu' ) )\n",
    "    model.add( layers.Dense( 11, activation='softmax') )\n",
    "\n",
    "    # compile model\n",
    "    model.compile( loss='categorical_crossentropy', optimizer='adam', metrics=['accuracy'] )\n",
    "\n",
    "    # training model\n",
    "    model.fit( X_train_fold, y_train_fold_nn, epochs=100, batch_size=32, verbose=0 )\n",
    "\n",
    "    # prediction\n",
    "    pred_nn = model.predict( x_val_fold )\n",
    "    yhat_nn = ohe.inverse_transform( pred_nn )\n",
    "    \n",
    "    # prepare data\n",
    "    y_test_nn = y_val_fold.to_numpy()\n",
    "    yhat_nn = yhat_nn.reshape( 1, -1 )[0]\n",
    "\n",
    "    # metrics\n",
    "    ## Balanced Accuracy \n",
    "    balanced_acc_nn = balanced_accuracy_score( y_test_nn, yhat_nn )\n",
    "    balanced_acc_list.append( balanced_acc_nn )\n",
    "    \n",
    "    ## Kappa Metrics\n",
    "    kappa_acc_nn = cohen_kappa_score( y_test_nn, yhat_nn )\n",
    "    kappa_acc_list.append( kappa_acc_nn )\n",
    "    \n",
    "    i += 1\n",
    "\n",
    "print(f'Avg Balanced Accuracy: {np.mean( balanced_acc_list )} +/- {np.std( balanced_acc_list )}' )\n",
    "print(f'Avg Kappa: {np.mean( kappa_acc_list )} +/- {np.std( kappa_acc_list )}' )"
   ]
  },
  {
   "cell_type": "code",
   "execution_count": null,
   "id": "848e4d2e",
   "metadata": {},
   "outputs": [],
   "source": []
  },
  {
   "cell_type": "code",
   "execution_count": null,
   "id": "35df6e8e",
   "metadata": {},
   "outputs": [],
   "source": []
  },
  {
   "cell_type": "code",
   "execution_count": null,
   "id": "3b3b0b50",
   "metadata": {},
   "outputs": [],
   "source": []
  },
  {
   "cell_type": "code",
   "execution_count": null,
   "id": "d6b63dd5",
   "metadata": {},
   "outputs": [],
   "source": []
  },
  {
   "cell_type": "code",
   "execution_count": null,
   "id": "d3dca05b",
   "metadata": {},
   "outputs": [],
   "source": []
  },
  {
   "cell_type": "code",
   "execution_count": null,
   "id": "62c8235e",
   "metadata": {},
   "outputs": [],
   "source": []
  },
  {
   "cell_type": "code",
   "execution_count": null,
   "id": "b00e1c55",
   "metadata": {},
   "outputs": [],
   "source": []
  },
  {
   "cell_type": "code",
   "execution_count": null,
   "id": "69c44ebe",
   "metadata": {},
   "outputs": [],
   "source": []
  },
  {
   "cell_type": "code",
   "execution_count": null,
   "id": "a22db6fb",
   "metadata": {},
   "outputs": [],
   "source": []
  },
  {
   "cell_type": "code",
   "execution_count": null,
   "id": "caadc9fa",
   "metadata": {},
   "outputs": [],
   "source": []
  }
 ],
 "metadata": {
  "kernelspec": {
   "display_name": "Python 3 (ipykernel)",
   "language": "python",
   "name": "python3"
  },
  "language_info": {
   "codemirror_mode": {
    "name": "ipython",
    "version": 3
   },
   "file_extension": ".py",
   "mimetype": "text/x-python",
   "name": "python",
   "nbconvert_exporter": "python",
   "pygments_lexer": "ipython3",
   "version": "3.9.6"
  },
  "varInspector": {
   "cols": {
    "lenName": 16,
    "lenType": 16,
    "lenVar": 40
   },
   "kernels_config": {
    "python": {
     "delete_cmd_postfix": "",
     "delete_cmd_prefix": "del ",
     "library": "var_list.py",
     "varRefreshCmd": "print(var_dic_list())"
    },
    "r": {
     "delete_cmd_postfix": ") ",
     "delete_cmd_prefix": "rm(",
     "library": "var_list.r",
     "varRefreshCmd": "cat(var_dic_list()) "
    }
   },
   "types_to_exclude": [
    "module",
    "function",
    "builtin_function_or_method",
    "instance",
    "_Feature"
   ],
   "window_display": false
  }
 },
 "nbformat": 4,
 "nbformat_minor": 5
}
