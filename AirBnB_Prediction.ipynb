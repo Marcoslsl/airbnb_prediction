{
 "cells": [
  {
   "cell_type": "markdown",
   "id": "0434295a",
   "metadata": {},
   "source": [
    "# -- Objetivo do problema\n",
    "    \n",
    "    --1.0. Previsão do primeiro destino que um novo usuário irá escolher.\n",
    "    \n",
    "    --Por que?\n",
    "        --Quak tipo de modelo de negócio do Airbnb\n",
    "            --Marketplace( Conecta pessoas que oferecem acamodação, com pessoas que estão procurando acomodação )\n",
    "            --Oferta ( pessoas oferecendo acomodação )\n",
    "                -- Tamanho do portfolio\n",
    "                -- Diversidade/densidade de portfolio.\n",
    "                -- Preço Médio\n",
    "                \n",
    "            -- Demanda ( pessoas procurando acomodação )\n",
    "                -- Numero de Usuários\n",
    "                -- LTV ( Lifetime Value )\n",
    "                -- CAC ( Client acquisition cost )\n",
    "                \n",
    "            -- Gross Revenue = (phi*Numero cliente) - CAC\n",
    "                \n",
    "            -- Demanda ( pessoas procurando acomodação )\n",
    "            \n",
    "--Proposta da solução\n",
    "  - Modelo de previsão do primeiro destino de um novo usuário.\n",
    "  - 1.0. Predições e salvar em uma tabela do banco de dados.\n",
    "  - 2.0. API\n",
    "        - Input: usuário e suas caracteristicas\n",
    "        - output: usuario e suas caracteristicas com a coluna prediction"
   ]
  },
  {
   "cell_type": "markdown",
   "id": "76b1ed8d",
   "metadata": {},
   "source": [
    "# 0.0. Imports "
   ]
  },
  {
   "cell_type": "code",
   "execution_count": 1,
   "id": "7466bba6",
   "metadata": {
    "ExecuteTime": {
     "end_time": "2022-02-07T18:48:22.553019Z",
     "start_time": "2022-02-07T18:47:57.600435Z"
    }
   },
   "outputs": [],
   "source": [
    "import random\n",
    "\n",
    "import pandas  as pd \n",
    "import numpy   as np \n",
    "import seaborn as sns\n",
    "\n",
    "import matplotlib.pyplot as plt\n",
    "\n",
    "from sklearn.model_selection import train_test_split, StratifiedKFold\n",
    "from sklearn.preprocessing   import OneHotEncoder\n",
    "from sklearn.metrics         import classification_report, accuracy_score, balanced_accuracy_score, cohen_kappa_score\n",
    "from scikitplot.metrics      import plot_confusion_matrix\n",
    "\n",
    "from scipy.stats import skewnorm\n",
    "\n",
    "from keras import models\n",
    "from keras import layers"
   ]
  },
  {
   "cell_type": "markdown",
   "id": "03534561",
   "metadata": {},
   "source": [
    "## 0.1. Helper Functions "
   ]
  },
  {
   "cell_type": "code",
   "execution_count": 2,
   "id": "1bfe6a96",
   "metadata": {
    "ExecuteTime": {
     "end_time": "2022-02-07T18:48:22.611973Z",
     "start_time": "2022-02-07T18:48:22.592136Z"
    }
   },
   "outputs": [],
   "source": [
    "def numeric_statistics( df ):\n",
    "    \n",
    "    dic = {\n",
    "        \"type\": df.dtypes.values,\n",
    "        \"Unique_Values\": df.nunique().values,\n",
    "        \"Mean\": df.mean(),\n",
    "        \"Median\": df.median(),\n",
    "        \"Std\": df.std(),\n",
    "        \"Min\": df.min(),\n",
    "        \"Max\": df.max(),\n",
    "        \"Range\": df.max() - df.min(),\n",
    "        \"Skew\": df.skew(),\n",
    "        \"Kurtosis\": df.kurtosis()\n",
    "    }\n",
    "    \n",
    "    return pd.DataFrame( dic, index=df.columns )"
   ]
  },
  {
   "cell_type": "markdown",
   "id": "224e4999",
   "metadata": {
    "ExecuteTime": {
     "end_time": "2022-02-03T13:02:27.056350Z",
     "start_time": "2022-02-03T13:02:27.016675Z"
    }
   },
   "source": [
    "# 1.0. Data Description"
   ]
  },
  {
   "cell_type": "code",
   "execution_count": 3,
   "id": "58a0b66d",
   "metadata": {
    "ExecuteTime": {
     "end_time": "2022-02-07T18:48:40.302008Z",
     "start_time": "2022-02-07T18:48:22.643668Z"
    }
   },
   "outputs": [],
   "source": [
    "df_raw = pd.read_csv( 'data/train_users_2.csv', low_memory=True )\n",
    "\n",
    "df_sessions = pd.read_csv( 'data/sessions.csv', low_memory=True )"
   ]
  },
  {
   "cell_type": "code",
   "execution_count": 4,
   "id": "d2d97270",
   "metadata": {
    "ExecuteTime": {
     "end_time": "2022-02-07T18:48:40.497418Z",
     "start_time": "2022-02-07T18:48:40.452545Z"
    }
   },
   "outputs": [
    {
     "data": {
      "text/html": [
       "<div>\n",
       "<style scoped>\n",
       "    .dataframe tbody tr th:only-of-type {\n",
       "        vertical-align: middle;\n",
       "    }\n",
       "\n",
       "    .dataframe tbody tr th {\n",
       "        vertical-align: top;\n",
       "    }\n",
       "\n",
       "    .dataframe thead th {\n",
       "        text-align: right;\n",
       "    }\n",
       "</style>\n",
       "<table border=\"1\" class=\"dataframe\">\n",
       "  <thead>\n",
       "    <tr style=\"text-align: right;\">\n",
       "      <th></th>\n",
       "      <th>id</th>\n",
       "      <th>date_account_created</th>\n",
       "      <th>timestamp_first_active</th>\n",
       "      <th>date_first_booking</th>\n",
       "      <th>gender</th>\n",
       "      <th>age</th>\n",
       "      <th>signup_method</th>\n",
       "      <th>signup_flow</th>\n",
       "      <th>language</th>\n",
       "      <th>affiliate_channel</th>\n",
       "      <th>affiliate_provider</th>\n",
       "      <th>first_affiliate_tracked</th>\n",
       "      <th>signup_app</th>\n",
       "      <th>first_device_type</th>\n",
       "      <th>first_browser</th>\n",
       "      <th>country_destination</th>\n",
       "    </tr>\n",
       "  </thead>\n",
       "  <tbody>\n",
       "    <tr>\n",
       "      <th>0</th>\n",
       "      <td>gxn3p5htnn</td>\n",
       "      <td>2010-06-28</td>\n",
       "      <td>20090319043255</td>\n",
       "      <td>NaN</td>\n",
       "      <td>-unknown-</td>\n",
       "      <td>NaN</td>\n",
       "      <td>facebook</td>\n",
       "      <td>0</td>\n",
       "      <td>en</td>\n",
       "      <td>direct</td>\n",
       "      <td>direct</td>\n",
       "      <td>untracked</td>\n",
       "      <td>Web</td>\n",
       "      <td>Mac Desktop</td>\n",
       "      <td>Chrome</td>\n",
       "      <td>NDF</td>\n",
       "    </tr>\n",
       "    <tr>\n",
       "      <th>1</th>\n",
       "      <td>820tgsjxq7</td>\n",
       "      <td>2011-05-25</td>\n",
       "      <td>20090523174809</td>\n",
       "      <td>NaN</td>\n",
       "      <td>MALE</td>\n",
       "      <td>38.0</td>\n",
       "      <td>facebook</td>\n",
       "      <td>0</td>\n",
       "      <td>en</td>\n",
       "      <td>seo</td>\n",
       "      <td>google</td>\n",
       "      <td>untracked</td>\n",
       "      <td>Web</td>\n",
       "      <td>Mac Desktop</td>\n",
       "      <td>Chrome</td>\n",
       "      <td>NDF</td>\n",
       "    </tr>\n",
       "    <tr>\n",
       "      <th>2</th>\n",
       "      <td>4ft3gnwmtx</td>\n",
       "      <td>2010-09-28</td>\n",
       "      <td>20090609231247</td>\n",
       "      <td>2010-08-02</td>\n",
       "      <td>FEMALE</td>\n",
       "      <td>56.0</td>\n",
       "      <td>basic</td>\n",
       "      <td>3</td>\n",
       "      <td>en</td>\n",
       "      <td>direct</td>\n",
       "      <td>direct</td>\n",
       "      <td>untracked</td>\n",
       "      <td>Web</td>\n",
       "      <td>Windows Desktop</td>\n",
       "      <td>IE</td>\n",
       "      <td>US</td>\n",
       "    </tr>\n",
       "    <tr>\n",
       "      <th>3</th>\n",
       "      <td>bjjt8pjhuk</td>\n",
       "      <td>2011-12-05</td>\n",
       "      <td>20091031060129</td>\n",
       "      <td>2012-09-08</td>\n",
       "      <td>FEMALE</td>\n",
       "      <td>42.0</td>\n",
       "      <td>facebook</td>\n",
       "      <td>0</td>\n",
       "      <td>en</td>\n",
       "      <td>direct</td>\n",
       "      <td>direct</td>\n",
       "      <td>untracked</td>\n",
       "      <td>Web</td>\n",
       "      <td>Mac Desktop</td>\n",
       "      <td>Firefox</td>\n",
       "      <td>other</td>\n",
       "    </tr>\n",
       "    <tr>\n",
       "      <th>4</th>\n",
       "      <td>87mebub9p4</td>\n",
       "      <td>2010-09-14</td>\n",
       "      <td>20091208061105</td>\n",
       "      <td>2010-02-18</td>\n",
       "      <td>-unknown-</td>\n",
       "      <td>41.0</td>\n",
       "      <td>basic</td>\n",
       "      <td>0</td>\n",
       "      <td>en</td>\n",
       "      <td>direct</td>\n",
       "      <td>direct</td>\n",
       "      <td>untracked</td>\n",
       "      <td>Web</td>\n",
       "      <td>Mac Desktop</td>\n",
       "      <td>Chrome</td>\n",
       "      <td>US</td>\n",
       "    </tr>\n",
       "  </tbody>\n",
       "</table>\n",
       "</div>"
      ],
      "text/plain": [
       "           id date_account_created  timestamp_first_active date_first_booking  \\\n",
       "0  gxn3p5htnn           2010-06-28          20090319043255                NaN   \n",
       "1  820tgsjxq7           2011-05-25          20090523174809                NaN   \n",
       "2  4ft3gnwmtx           2010-09-28          20090609231247         2010-08-02   \n",
       "3  bjjt8pjhuk           2011-12-05          20091031060129         2012-09-08   \n",
       "4  87mebub9p4           2010-09-14          20091208061105         2010-02-18   \n",
       "\n",
       "      gender   age signup_method  signup_flow language affiliate_channel  \\\n",
       "0  -unknown-   NaN      facebook            0       en            direct   \n",
       "1       MALE  38.0      facebook            0       en               seo   \n",
       "2     FEMALE  56.0         basic            3       en            direct   \n",
       "3     FEMALE  42.0      facebook            0       en            direct   \n",
       "4  -unknown-  41.0         basic            0       en            direct   \n",
       "\n",
       "  affiliate_provider first_affiliate_tracked signup_app first_device_type  \\\n",
       "0             direct               untracked        Web       Mac Desktop   \n",
       "1             google               untracked        Web       Mac Desktop   \n",
       "2             direct               untracked        Web   Windows Desktop   \n",
       "3             direct               untracked        Web       Mac Desktop   \n",
       "4             direct               untracked        Web       Mac Desktop   \n",
       "\n",
       "  first_browser country_destination  \n",
       "0        Chrome                 NDF  \n",
       "1        Chrome                 NDF  \n",
       "2            IE                  US  \n",
       "3       Firefox               other  \n",
       "4        Chrome                  US  "
      ]
     },
     "execution_count": 4,
     "metadata": {},
     "output_type": "execute_result"
    }
   ],
   "source": [
    "df_raw.head()"
   ]
  },
  {
   "cell_type": "code",
   "execution_count": 5,
   "id": "ef521de0",
   "metadata": {
    "ExecuteTime": {
     "end_time": "2022-02-07T18:48:40.598451Z",
     "start_time": "2022-02-07T18:48:40.572402Z"
    }
   },
   "outputs": [
    {
     "data": {
      "text/html": [
       "<div>\n",
       "<style scoped>\n",
       "    .dataframe tbody tr th:only-of-type {\n",
       "        vertical-align: middle;\n",
       "    }\n",
       "\n",
       "    .dataframe tbody tr th {\n",
       "        vertical-align: top;\n",
       "    }\n",
       "\n",
       "    .dataframe thead th {\n",
       "        text-align: right;\n",
       "    }\n",
       "</style>\n",
       "<table border=\"1\" class=\"dataframe\">\n",
       "  <thead>\n",
       "    <tr style=\"text-align: right;\">\n",
       "      <th></th>\n",
       "      <th>user_id</th>\n",
       "      <th>action</th>\n",
       "      <th>action_type</th>\n",
       "      <th>action_detail</th>\n",
       "      <th>device_type</th>\n",
       "      <th>secs_elapsed</th>\n",
       "    </tr>\n",
       "  </thead>\n",
       "  <tbody>\n",
       "    <tr>\n",
       "      <th>0</th>\n",
       "      <td>d1mm9tcy42</td>\n",
       "      <td>lookup</td>\n",
       "      <td>NaN</td>\n",
       "      <td>NaN</td>\n",
       "      <td>Windows Desktop</td>\n",
       "      <td>319.0</td>\n",
       "    </tr>\n",
       "    <tr>\n",
       "      <th>1</th>\n",
       "      <td>d1mm9tcy42</td>\n",
       "      <td>search_results</td>\n",
       "      <td>click</td>\n",
       "      <td>view_search_results</td>\n",
       "      <td>Windows Desktop</td>\n",
       "      <td>67753.0</td>\n",
       "    </tr>\n",
       "    <tr>\n",
       "      <th>2</th>\n",
       "      <td>d1mm9tcy42</td>\n",
       "      <td>lookup</td>\n",
       "      <td>NaN</td>\n",
       "      <td>NaN</td>\n",
       "      <td>Windows Desktop</td>\n",
       "      <td>301.0</td>\n",
       "    </tr>\n",
       "    <tr>\n",
       "      <th>3</th>\n",
       "      <td>d1mm9tcy42</td>\n",
       "      <td>search_results</td>\n",
       "      <td>click</td>\n",
       "      <td>view_search_results</td>\n",
       "      <td>Windows Desktop</td>\n",
       "      <td>22141.0</td>\n",
       "    </tr>\n",
       "    <tr>\n",
       "      <th>4</th>\n",
       "      <td>d1mm9tcy42</td>\n",
       "      <td>lookup</td>\n",
       "      <td>NaN</td>\n",
       "      <td>NaN</td>\n",
       "      <td>Windows Desktop</td>\n",
       "      <td>435.0</td>\n",
       "    </tr>\n",
       "  </tbody>\n",
       "</table>\n",
       "</div>"
      ],
      "text/plain": [
       "      user_id          action action_type        action_detail  \\\n",
       "0  d1mm9tcy42          lookup         NaN                  NaN   \n",
       "1  d1mm9tcy42  search_results       click  view_search_results   \n",
       "2  d1mm9tcy42          lookup         NaN                  NaN   \n",
       "3  d1mm9tcy42  search_results       click  view_search_results   \n",
       "4  d1mm9tcy42          lookup         NaN                  NaN   \n",
       "\n",
       "       device_type  secs_elapsed  \n",
       "0  Windows Desktop         319.0  \n",
       "1  Windows Desktop       67753.0  \n",
       "2  Windows Desktop         301.0  \n",
       "3  Windows Desktop       22141.0  \n",
       "4  Windows Desktop         435.0  "
      ]
     },
     "execution_count": 5,
     "metadata": {},
     "output_type": "execute_result"
    }
   ],
   "source": [
    "df_sessions.head()"
   ]
  },
  {
   "cell_type": "markdown",
   "id": "987e15db",
   "metadata": {},
   "source": [
    "## 1.1. Data Dimension  "
   ]
  },
  {
   "cell_type": "code",
   "execution_count": 6,
   "id": "00f23ecf",
   "metadata": {
    "ExecuteTime": {
     "end_time": "2022-02-07T18:48:40.714033Z",
     "start_time": "2022-02-07T18:48:40.693490Z"
    }
   },
   "outputs": [
    {
     "name": "stdout",
     "output_type": "stream",
     "text": [
      "Number of Rows: 213451\n",
      "Number of Columns: 16\n"
     ]
    }
   ],
   "source": [
    "print(f'Number of Rows: {df_raw.shape[0]}') \n",
    "print(f'Number of Columns: {df_raw.shape[1]}') "
   ]
  },
  {
   "cell_type": "code",
   "execution_count": 7,
   "id": "63d1cf18",
   "metadata": {
    "ExecuteTime": {
     "end_time": "2022-02-07T18:48:40.811231Z",
     "start_time": "2022-02-07T18:48:40.795239Z"
    }
   },
   "outputs": [
    {
     "name": "stdout",
     "output_type": "stream",
     "text": [
      "Number of Rows: 10567737\n",
      "Number of Columns: 6\n"
     ]
    }
   ],
   "source": [
    "print(f'Number of Rows: {df_sessions.shape[0]}') \n",
    "print(f'Number of Columns: {df_sessions.shape[1]}') "
   ]
  },
  {
   "cell_type": "markdown",
   "id": "c8bfa350",
   "metadata": {},
   "source": [
    "## 1.2. Data types "
   ]
  },
  {
   "cell_type": "code",
   "execution_count": 8,
   "id": "0e9c9246",
   "metadata": {
    "ExecuteTime": {
     "end_time": "2022-02-07T18:48:40.901347Z",
     "start_time": "2022-02-07T18:48:40.889697Z"
    }
   },
   "outputs": [
    {
     "data": {
      "text/plain": [
       "id                          object\n",
       "date_account_created        object\n",
       "timestamp_first_active       int64\n",
       "date_first_booking          object\n",
       "gender                      object\n",
       "age                        float64\n",
       "signup_method               object\n",
       "signup_flow                  int64\n",
       "language                    object\n",
       "affiliate_channel           object\n",
       "affiliate_provider          object\n",
       "first_affiliate_tracked     object\n",
       "signup_app                  object\n",
       "first_device_type           object\n",
       "first_browser               object\n",
       "country_destination         object\n",
       "dtype: object"
      ]
     },
     "execution_count": 8,
     "metadata": {},
     "output_type": "execute_result"
    }
   ],
   "source": [
    "df_raw.dtypes"
   ]
  },
  {
   "cell_type": "code",
   "execution_count": 9,
   "id": "86113c07",
   "metadata": {
    "ExecuteTime": {
     "end_time": "2022-02-07T18:48:41.008463Z",
     "start_time": "2022-02-07T18:48:40.987403Z"
    }
   },
   "outputs": [
    {
     "data": {
      "text/plain": [
       "user_id           object\n",
       "action            object\n",
       "action_type       object\n",
       "action_detail     object\n",
       "device_type       object\n",
       "secs_elapsed     float64\n",
       "dtype: object"
      ]
     },
     "execution_count": 9,
     "metadata": {},
     "output_type": "execute_result"
    }
   ],
   "source": [
    "df_sessions.dtypes"
   ]
  },
  {
   "cell_type": "markdown",
   "id": "874215b7",
   "metadata": {},
   "source": [
    "## 1.3. Check NA "
   ]
  },
  {
   "cell_type": "code",
   "execution_count": 10,
   "id": "cf8a7172",
   "metadata": {
    "ExecuteTime": {
     "end_time": "2022-02-07T18:48:41.926131Z",
     "start_time": "2022-02-07T18:48:41.126398Z"
    }
   },
   "outputs": [
    {
     "data": {
      "text/plain": [
       "id                         0.000000\n",
       "date_account_created       0.000000\n",
       "timestamp_first_active     0.000000\n",
       "date_first_booking         0.583473\n",
       "gender                     0.000000\n",
       "age                        0.412226\n",
       "signup_method              0.000000\n",
       "signup_flow                0.000000\n",
       "language                   0.000000\n",
       "affiliate_channel          0.000000\n",
       "affiliate_provider         0.000000\n",
       "first_affiliate_tracked    0.028414\n",
       "signup_app                 0.000000\n",
       "first_device_type          0.000000\n",
       "first_browser              0.000000\n",
       "country_destination        0.000000\n",
       "dtype: float64"
      ]
     },
     "execution_count": 10,
     "metadata": {},
     "output_type": "execute_result"
    }
   ],
   "source": [
    "df_raw.isnull().sum() / len(df_raw)"
   ]
  },
  {
   "cell_type": "code",
   "execution_count": 11,
   "id": "6b15e342",
   "metadata": {
    "ExecuteTime": {
     "end_time": "2022-02-07T18:48:56.296907Z",
     "start_time": "2022-02-07T18:48:42.037443Z"
    }
   },
   "outputs": [
    {
     "data": {
      "text/plain": [
       "user_id          0.003264\n",
       "action           0.007535\n",
       "action_type      0.106570\n",
       "action_detail    0.106570\n",
       "device_type      0.000000\n",
       "secs_elapsed     0.012872\n",
       "dtype: float64"
      ]
     },
     "execution_count": 11,
     "metadata": {},
     "output_type": "execute_result"
    }
   ],
   "source": [
    "df_sessions.isnull().sum() / len(df_sessions)"
   ]
  },
  {
   "cell_type": "markdown",
   "id": "044a7b8e",
   "metadata": {},
   "source": [
    "## 1.4. Description Analysis "
   ]
  },
  {
   "cell_type": "code",
   "execution_count": 12,
   "id": "e0ce83be",
   "metadata": {
    "ExecuteTime": {
     "end_time": "2022-02-07T18:48:56.442248Z",
     "start_time": "2022-02-07T18:48:56.392907Z"
    }
   },
   "outputs": [],
   "source": [
    "num_attributes = df_raw.select_dtypes( include=['int64','float64'] )\n",
    "cat_attributes = df_raw.select_dtypes( include='object')\n",
    "\n",
    "num_attributes_sessions = df_raw.select_dtypes( include=['int64','float64'] )\n",
    "cat_attributes_sessions = df_raw.select_dtypes( include='object' )"
   ]
  },
  {
   "cell_type": "code",
   "execution_count": 13,
   "id": "de276f47",
   "metadata": {
    "ExecuteTime": {
     "end_time": "2022-02-07T18:48:56.657660Z",
     "start_time": "2022-02-07T18:48:56.447580Z"
    }
   },
   "outputs": [
    {
     "data": {
      "text/html": [
       "<div>\n",
       "<style scoped>\n",
       "    .dataframe tbody tr th:only-of-type {\n",
       "        vertical-align: middle;\n",
       "    }\n",
       "\n",
       "    .dataframe tbody tr th {\n",
       "        vertical-align: top;\n",
       "    }\n",
       "\n",
       "    .dataframe thead th {\n",
       "        text-align: right;\n",
       "    }\n",
       "</style>\n",
       "<table border=\"1\" class=\"dataframe\">\n",
       "  <thead>\n",
       "    <tr style=\"text-align: right;\">\n",
       "      <th></th>\n",
       "      <th>type</th>\n",
       "      <th>Unique_Values</th>\n",
       "      <th>Mean</th>\n",
       "      <th>Median</th>\n",
       "      <th>Std</th>\n",
       "      <th>Min</th>\n",
       "      <th>Max</th>\n",
       "      <th>Range</th>\n",
       "      <th>Skew</th>\n",
       "      <th>Kurtosis</th>\n",
       "    </tr>\n",
       "  </thead>\n",
       "  <tbody>\n",
       "    <tr>\n",
       "      <th>timestamp_first_active</th>\n",
       "      <td>int64</td>\n",
       "      <td>213451</td>\n",
       "      <td>2.013085e+13</td>\n",
       "      <td>2.013091e+13</td>\n",
       "      <td>9.253717e+09</td>\n",
       "      <td>2.009032e+13</td>\n",
       "      <td>2.014063e+13</td>\n",
       "      <td>5.031119e+10</td>\n",
       "      <td>-0.861578</td>\n",
       "      <td>0.355882</td>\n",
       "    </tr>\n",
       "    <tr>\n",
       "      <th>age</th>\n",
       "      <td>float64</td>\n",
       "      <td>127</td>\n",
       "      <td>4.966834e+01</td>\n",
       "      <td>3.400000e+01</td>\n",
       "      <td>1.556666e+02</td>\n",
       "      <td>1.000000e+00</td>\n",
       "      <td>2.014000e+03</td>\n",
       "      <td>2.013000e+03</td>\n",
       "      <td>12.422586</td>\n",
       "      <td>153.568929</td>\n",
       "    </tr>\n",
       "    <tr>\n",
       "      <th>signup_flow</th>\n",
       "      <td>int64</td>\n",
       "      <td>17</td>\n",
       "      <td>3.267387e+00</td>\n",
       "      <td>0.000000e+00</td>\n",
       "      <td>7.637707e+00</td>\n",
       "      <td>0.000000e+00</td>\n",
       "      <td>2.500000e+01</td>\n",
       "      <td>2.500000e+01</td>\n",
       "      <td>2.234366</td>\n",
       "      <td>3.324444</td>\n",
       "    </tr>\n",
       "  </tbody>\n",
       "</table>\n",
       "</div>"
      ],
      "text/plain": [
       "                           type  Unique_Values          Mean        Median  \\\n",
       "timestamp_first_active    int64         213451  2.013085e+13  2.013091e+13   \n",
       "age                     float64            127  4.966834e+01  3.400000e+01   \n",
       "signup_flow               int64             17  3.267387e+00  0.000000e+00   \n",
       "\n",
       "                                 Std           Min           Max  \\\n",
       "timestamp_first_active  9.253717e+09  2.009032e+13  2.014063e+13   \n",
       "age                     1.556666e+02  1.000000e+00  2.014000e+03   \n",
       "signup_flow             7.637707e+00  0.000000e+00  2.500000e+01   \n",
       "\n",
       "                               Range       Skew    Kurtosis  \n",
       "timestamp_first_active  5.031119e+10  -0.861578    0.355882  \n",
       "age                     2.013000e+03  12.422586  153.568929  \n",
       "signup_flow             2.500000e+01   2.234366    3.324444  "
      ]
     },
     "execution_count": 13,
     "metadata": {},
     "output_type": "execute_result"
    }
   ],
   "source": [
    "numeric_statistics( num_attributes )"
   ]
  },
  {
   "cell_type": "code",
   "execution_count": 14,
   "id": "73532d93",
   "metadata": {
    "ExecuteTime": {
     "end_time": "2022-02-07T18:48:57.307840Z",
     "start_time": "2022-02-07T18:48:57.082892Z"
    }
   },
   "outputs": [
    {
     "data": {
      "text/html": [
       "<div>\n",
       "<style scoped>\n",
       "    .dataframe tbody tr th:only-of-type {\n",
       "        vertical-align: middle;\n",
       "    }\n",
       "\n",
       "    .dataframe tbody tr th {\n",
       "        vertical-align: top;\n",
       "    }\n",
       "\n",
       "    .dataframe thead th {\n",
       "        text-align: right;\n",
       "    }\n",
       "</style>\n",
       "<table border=\"1\" class=\"dataframe\">\n",
       "  <thead>\n",
       "    <tr style=\"text-align: right;\">\n",
       "      <th></th>\n",
       "      <th>type</th>\n",
       "      <th>Unique_Values</th>\n",
       "      <th>Mean</th>\n",
       "      <th>Median</th>\n",
       "      <th>Std</th>\n",
       "      <th>Min</th>\n",
       "      <th>Max</th>\n",
       "      <th>Range</th>\n",
       "      <th>Skew</th>\n",
       "      <th>Kurtosis</th>\n",
       "    </tr>\n",
       "  </thead>\n",
       "  <tbody>\n",
       "    <tr>\n",
       "      <th>timestamp_first_active</th>\n",
       "      <td>int64</td>\n",
       "      <td>213451</td>\n",
       "      <td>2.013085e+13</td>\n",
       "      <td>2.013091e+13</td>\n",
       "      <td>9.253717e+09</td>\n",
       "      <td>2.009032e+13</td>\n",
       "      <td>2.014063e+13</td>\n",
       "      <td>5.031119e+10</td>\n",
       "      <td>-0.861578</td>\n",
       "      <td>0.355882</td>\n",
       "    </tr>\n",
       "    <tr>\n",
       "      <th>age</th>\n",
       "      <td>float64</td>\n",
       "      <td>127</td>\n",
       "      <td>4.966834e+01</td>\n",
       "      <td>3.400000e+01</td>\n",
       "      <td>1.556666e+02</td>\n",
       "      <td>1.000000e+00</td>\n",
       "      <td>2.014000e+03</td>\n",
       "      <td>2.013000e+03</td>\n",
       "      <td>12.422586</td>\n",
       "      <td>153.568929</td>\n",
       "    </tr>\n",
       "    <tr>\n",
       "      <th>signup_flow</th>\n",
       "      <td>int64</td>\n",
       "      <td>17</td>\n",
       "      <td>3.267387e+00</td>\n",
       "      <td>0.000000e+00</td>\n",
       "      <td>7.637707e+00</td>\n",
       "      <td>0.000000e+00</td>\n",
       "      <td>2.500000e+01</td>\n",
       "      <td>2.500000e+01</td>\n",
       "      <td>2.234366</td>\n",
       "      <td>3.324444</td>\n",
       "    </tr>\n",
       "  </tbody>\n",
       "</table>\n",
       "</div>"
      ],
      "text/plain": [
       "                           type  Unique_Values          Mean        Median  \\\n",
       "timestamp_first_active    int64         213451  2.013085e+13  2.013091e+13   \n",
       "age                     float64            127  4.966834e+01  3.400000e+01   \n",
       "signup_flow               int64             17  3.267387e+00  0.000000e+00   \n",
       "\n",
       "                                 Std           Min           Max  \\\n",
       "timestamp_first_active  9.253717e+09  2.009032e+13  2.014063e+13   \n",
       "age                     1.556666e+02  1.000000e+00  2.014000e+03   \n",
       "signup_flow             7.637707e+00  0.000000e+00  2.500000e+01   \n",
       "\n",
       "                               Range       Skew    Kurtosis  \n",
       "timestamp_first_active  5.031119e+10  -0.861578    0.355882  \n",
       "age                     2.013000e+03  12.422586  153.568929  \n",
       "signup_flow             2.500000e+01   2.234366    3.324444  "
      ]
     },
     "execution_count": 14,
     "metadata": {},
     "output_type": "execute_result"
    }
   ],
   "source": [
    "numeric_statistics( num_attributes_sessions )"
   ]
  },
  {
   "cell_type": "markdown",
   "id": "cc31863f",
   "metadata": {},
   "source": [
    "# 2.0. Feature Engineering"
   ]
  },
  {
   "cell_type": "code",
   "execution_count": 30,
   "id": "353483ce",
   "metadata": {
    "ExecuteTime": {
     "end_time": "2022-02-07T19:01:43.906407Z",
     "start_time": "2022-02-07T19:01:43.870299Z"
    }
   },
   "outputs": [],
   "source": [
    "df2 = df_raw.copy()"
   ]
  },
  {
   "cell_type": "markdown",
   "id": "6173e31d",
   "metadata": {},
   "source": [
    "## 2.1. FillNA"
   ]
  },
  {
   "cell_type": "markdown",
   "id": "2448add8",
   "metadata": {},
   "source": [
    "\n",
    "## Costumers\n",
    "If the customer didn't have a country destination, they didn't book an apartment to travel to, my solution to this variable is going to be to exchange the NA values for the max date from a first booking. \n",
    "\n",
    "## Age\n",
    "for this variable I decided to fill the null values with a distribution with the same patterns as the variable age."
   ]
  },
  {
   "cell_type": "code",
   "execution_count": 31,
   "id": "d8911196",
   "metadata": {
    "ExecuteTime": {
     "end_time": "2022-02-07T19:01:44.690010Z",
     "start_time": "2022-02-07T19:01:44.630842Z"
    }
   },
   "outputs": [
    {
     "data": {
      "text/plain": [
       "NDF    1.0\n",
       "Name: country_destination, dtype: float64"
      ]
     },
     "execution_count": 31,
     "metadata": {},
     "output_type": "execute_result"
    }
   ],
   "source": [
    "# date_first_booking\n",
    "aux = df2[df2['date_first_booking'].isna()]\n",
    "\n",
    "aux['country_destination'].value_counts( normalize=True )"
   ]
  },
  {
   "cell_type": "code",
   "execution_count": 33,
   "id": "08df5000",
   "metadata": {
    "ExecuteTime": {
     "end_time": "2022-02-07T19:02:44.050242Z",
     "start_time": "2022-02-07T19:02:42.125671Z"
    }
   },
   "outputs": [
    {
     "name": "stdout",
     "output_type": "stream",
     "text": [
      "NDF      0.768428\n",
      "US       0.156529\n",
      "other    0.028617\n",
      "FR       0.014888\n",
      "IT       0.009081\n",
      "GB       0.006251\n",
      "ES       0.006171\n",
      "CA       0.003989\n",
      "DE       0.002387\n",
      "NL       0.001818\n",
      "AU       0.001171\n",
      "PT       0.000671\n",
      "Name: country_destination, dtype: float64 \n",
      "\n",
      "\n",
      "Skew: 0.820838375560214\n",
      "std: 9.99858442690581\n",
      "mean: 35.45384731341284\n"
     ]
    },
    {
     "name": "stderr",
     "output_type": "stream",
     "text": [
      "C:\\Users\\Marcos\\Projects\\airbnb_prediction\\venv\\lib\\site-packages\\seaborn\\distributions.py:2619: FutureWarning: `distplot` is a deprecated function and will be removed in a future version. Please adapt your code to use either `displot` (a figure-level function with similar flexibility) or `histplot` (an axes-level function for histograms).\n",
      "  warnings.warn(msg, FutureWarning)\n"
     ]
    },
    {
     "data": {
      "image/png": "[encoded data removed]",
      "text/plain": [
       "<Figure size 432x288 with 1 Axes>"
      ]
     },
     "metadata": {
      "needs_background": "light"
     },
     "output_type": "display_data"
    }
   ],
   "source": [
    "# age\n",
    "aux = df2[df2['age'].isna()]\n",
    "print( aux['country_destination'].value_counts( normalize=True ), '\\n\\n')\n",
    "\n",
    "skew = df2[df2['age']<65]['age'].skew()\n",
    "print(f'Skew: {skew}')\n",
    "\n",
    "std = df2[df2['age']<65]['age'].std()\n",
    "print(f'std: {std}')\n",
    "\n",
    "mean = df2[df2['age']<65]['age'].mean()\n",
    "print(f'mean: {mean}')\n",
    "\n",
    "sns.distplot( df2[df2['age'] < 65]['age'] );"
   ]
  },
  {
   "cell_type": "code",
   "execution_count": 34,
   "id": "a8a8ecc0",
   "metadata": {
    "ExecuteTime": {
     "end_time": "2022-02-07T19:03:02.186586Z",
     "start_time": "2022-02-07T19:02:47.221563Z"
    }
   },
   "outputs": [],
   "source": [
    "# date_first_booking\n",
    "date_first_booking_max = pd.to_datetime( df2['date_first_booking'] ).max().strftime( '%Y-%m-%d' )\n",
    "df2['date_first_booking'] = df2['date_first_booking'].fillna( date_first_booking_max )\n",
    "\n",
    "# age\n",
    "avg_age = df2['age'].mean().astype( 'int64' )\n",
    "df2['age'] = df2['age'].apply(lambda x: skewnorm.rvs( skew, loc=mean, scale=std ).astype( 'int64' ) if pd.isna(x) else x )\n",
    "\n",
    "# first_affiliate_tracked\n",
    "df2 = df2[~df2['first_affiliate_tracked'].isna()]"
   ]
  },
  {
   "cell_type": "markdown",
   "id": "e7a4c4d9",
   "metadata": {},
   "source": [
    "## 2.2. Change Data Types "
   ]
  },
  {
   "cell_type": "code",
   "execution_count": 35,
   "id": "de03f787",
   "metadata": {
    "ExecuteTime": {
     "end_time": "2022-02-07T19:03:02.478729Z",
     "start_time": "2022-02-07T19:03:02.417567Z"
    }
   },
   "outputs": [
    {
     "data": {
      "text/html": [
       "<div>\n",
       "<style scoped>\n",
       "    .dataframe tbody tr th:only-of-type {\n",
       "        vertical-align: middle;\n",
       "    }\n",
       "\n",
       "    .dataframe tbody tr th {\n",
       "        vertical-align: top;\n",
       "    }\n",
       "\n",
       "    .dataframe thead th {\n",
       "        text-align: right;\n",
       "    }\n",
       "</style>\n",
       "<table border=\"1\" class=\"dataframe\">\n",
       "  <thead>\n",
       "    <tr style=\"text-align: right;\">\n",
       "      <th></th>\n",
       "      <th>116007</th>\n",
       "      <th>0</th>\n",
       "    </tr>\n",
       "  </thead>\n",
       "  <tbody>\n",
       "    <tr>\n",
       "      <th>id</th>\n",
       "      <td>1zu9krpn9w</td>\n",
       "      <td>object</td>\n",
       "    </tr>\n",
       "    <tr>\n",
       "      <th>date_account_created</th>\n",
       "      <td>2013-10-11</td>\n",
       "      <td>object</td>\n",
       "    </tr>\n",
       "    <tr>\n",
       "      <th>timestamp_first_active</th>\n",
       "      <td>20131011070412</td>\n",
       "      <td>int64</td>\n",
       "    </tr>\n",
       "    <tr>\n",
       "      <th>date_first_booking</th>\n",
       "      <td>2015-06-29</td>\n",
       "      <td>object</td>\n",
       "    </tr>\n",
       "    <tr>\n",
       "      <th>gender</th>\n",
       "      <td>FEMALE</td>\n",
       "      <td>object</td>\n",
       "    </tr>\n",
       "    <tr>\n",
       "      <th>age</th>\n",
       "      <td>36.0</td>\n",
       "      <td>float64</td>\n",
       "    </tr>\n",
       "    <tr>\n",
       "      <th>signup_method</th>\n",
       "      <td>facebook</td>\n",
       "      <td>object</td>\n",
       "    </tr>\n",
       "    <tr>\n",
       "      <th>signup_flow</th>\n",
       "      <td>12</td>\n",
       "      <td>int64</td>\n",
       "    </tr>\n",
       "    <tr>\n",
       "      <th>language</th>\n",
       "      <td>en</td>\n",
       "      <td>object</td>\n",
       "    </tr>\n",
       "    <tr>\n",
       "      <th>affiliate_channel</th>\n",
       "      <td>api</td>\n",
       "      <td>object</td>\n",
       "    </tr>\n",
       "    <tr>\n",
       "      <th>affiliate_provider</th>\n",
       "      <td>other</td>\n",
       "      <td>object</td>\n",
       "    </tr>\n",
       "    <tr>\n",
       "      <th>first_affiliate_tracked</th>\n",
       "      <td>untracked</td>\n",
       "      <td>object</td>\n",
       "    </tr>\n",
       "    <tr>\n",
       "      <th>signup_app</th>\n",
       "      <td>Moweb</td>\n",
       "      <td>object</td>\n",
       "    </tr>\n",
       "    <tr>\n",
       "      <th>first_device_type</th>\n",
       "      <td>iPhone</td>\n",
       "      <td>object</td>\n",
       "    </tr>\n",
       "    <tr>\n",
       "      <th>first_browser</th>\n",
       "      <td>Mobile Safari</td>\n",
       "      <td>object</td>\n",
       "    </tr>\n",
       "    <tr>\n",
       "      <th>country_destination</th>\n",
       "      <td>NDF</td>\n",
       "      <td>object</td>\n",
       "    </tr>\n",
       "  </tbody>\n",
       "</table>\n",
       "</div>"
      ],
      "text/plain": [
       "                                 116007   0     \n",
       "id                           1zu9krpn9w   object\n",
       "date_account_created         2013-10-11   object\n",
       "timestamp_first_active   20131011070412    int64\n",
       "date_first_booking           2015-06-29   object\n",
       "gender                           FEMALE   object\n",
       "age                                36.0  float64\n",
       "signup_method                  facebook   object\n",
       "signup_flow                          12    int64\n",
       "language                             en   object\n",
       "affiliate_channel                   api   object\n",
       "affiliate_provider                other   object\n",
       "first_affiliate_tracked       untracked   object\n",
       "signup_app                        Moweb   object\n",
       "first_device_type                iPhone   object\n",
       "first_browser             Mobile Safari   object\n",
       "country_destination                 NDF   object"
      ]
     },
     "execution_count": 35,
     "metadata": {},
     "output_type": "execute_result"
    }
   ],
   "source": [
    "aux_01 = df2.sample().T\n",
    "aux_02 = df2.sample().dtypes\n",
    "\n",
    "pd.concat( [aux_01,aux_02], axis=1 )"
   ]
  },
  {
   "cell_type": "code",
   "execution_count": 36,
   "id": "78d0d884",
   "metadata": {
    "ExecuteTime": {
     "end_time": "2022-02-07T19:03:04.988882Z",
     "start_time": "2022-02-07T19:03:02.794157Z"
    }
   },
   "outputs": [],
   "source": [
    "# date_account_created\n",
    "df2['date_account_created'] = pd.to_datetime( df2['date_account_created'] )\n",
    "\n",
    "# timestamp_first_active\n",
    "df2['timestamp_first_active'] = pd.to_datetime( df2['timestamp_first_active'], format='%Y%m%d%H%M%S')\n",
    "\n",
    "# date first_booking \n",
    "df2['date_first_booking'] = pd.to_datetime( df2['date_first_booking'] )  \n",
    "                                           \n",
    "# age \n",
    "df2['age'] = df2['age'].astype( 'int64' )"
   ]
  },
  {
   "cell_type": "markdown",
   "id": "59522019",
   "metadata": {
    "ExecuteTime": {
     "end_time": "2022-02-03T16:28:11.288939Z",
     "start_time": "2022-02-03T16:28:11.267944Z"
    }
   },
   "source": [
    "## 2.3. Check Blanced Data"
   ]
  },
  {
   "cell_type": "code",
   "execution_count": 15,
   "id": "7164fa5b",
   "metadata": {
    "ExecuteTime": {
     "end_time": "2022-02-05T16:13:49.159036Z",
     "start_time": "2022-02-05T16:13:49.124821Z"
    }
   },
   "outputs": [
    {
     "data": {
      "text/plain": [
       "US       0.708864\n",
       "other    0.110854\n",
       "FR       0.054085\n",
       "IT       0.029763\n",
       "GB       0.025935\n",
       "ES       0.024864\n",
       "CA       0.015696\n",
       "DE       0.012454\n",
       "NL       0.008801\n",
       "AU       0.006366\n",
       "PT       0.002318\n",
       "Name: country_destination, dtype: float64"
      ]
     },
     "execution_count": 15,
     "metadata": {},
     "output_type": "execute_result"
    }
   ],
   "source": [
    "df2['country_destination'].value_counts( normalize=True )"
   ]
  },
  {
   "cell_type": "markdown",
   "id": "2698869d",
   "metadata": {},
   "source": [
    "# 3.0. Data Filtering"
   ]
  },
  {
   "cell_type": "code",
   "execution_count": 16,
   "id": "4517750a",
   "metadata": {
    "ExecuteTime": {
     "end_time": "2022-02-05T16:13:49.190395Z",
     "start_time": "2022-02-05T16:13:49.166055Z"
    }
   },
   "outputs": [],
   "source": [
    "df3 = df2.copy()"
   ]
  },
  {
   "cell_type": "markdown",
   "id": "01c5e648",
   "metadata": {},
   "source": [
    "# 4.0. EDA"
   ]
  },
  {
   "cell_type": "code",
   "execution_count": 17,
   "id": "aacc1c35",
   "metadata": {
    "ExecuteTime": {
     "end_time": "2022-02-05T16:13:49.206434Z",
     "start_time": "2022-02-05T16:13:49.192413Z"
    }
   },
   "outputs": [],
   "source": [
    "df4 = df3.copy()"
   ]
  },
  {
   "cell_type": "markdown",
   "id": "c50928b7",
   "metadata": {},
   "source": [
    "# 5.0. Data Preparation "
   ]
  },
  {
   "cell_type": "code",
   "execution_count": 18,
   "id": "a37118a5",
   "metadata": {
    "ExecuteTime": {
     "end_time": "2022-02-05T16:13:49.332049Z",
     "start_time": "2022-02-05T16:13:49.210435Z"
    }
   },
   "outputs": [],
   "source": [
    "df5 = df4.copy()\n",
    "\n",
    "df5_dummys = pd.get_dummies( df5.drop( ['id','country_destination'], axis=1 ) )\n",
    "\n",
    "df5 = pd.concat( [ df5[['id','country_destination']], df5_dummys], axis=1 )"
   ]
  },
  {
   "cell_type": "markdown",
   "id": "e21f6e4c",
   "metadata": {},
   "source": [
    "# 6.0. Feature Selection"
   ]
  },
  {
   "cell_type": "code",
   "execution_count": 19,
   "id": "c0f65313",
   "metadata": {
    "ExecuteTime": {
     "end_time": "2022-02-05T16:13:49.348100Z",
     "start_time": "2022-02-05T16:13:49.336062Z"
    }
   },
   "outputs": [
    {
     "data": {
      "text/plain": [
       "Index(['id', 'country_destination', 'date_account_created',\n",
       "       'timestamp_first_active', 'date_first_booking', 'age', 'signup_flow',\n",
       "       'gender_-unknown-', 'gender_FEMALE', 'gender_MALE',\n",
       "       ...\n",
       "       'first_browser_Safari', 'first_browser_SeaMonkey', 'first_browser_Silk',\n",
       "       'first_browser_SiteKiosk', 'first_browser_SlimBrowser',\n",
       "       'first_browser_Sogou Explorer', 'first_browser_Stainless',\n",
       "       'first_browser_TenFourFox', 'first_browser_TheWorld Browser',\n",
       "       'first_browser_Yandex.Browser'],\n",
       "      dtype='object', length=117)"
      ]
     },
     "execution_count": 19,
     "metadata": {},
     "output_type": "execute_result"
    }
   ],
   "source": [
    "df5.columns"
   ]
  },
  {
   "cell_type": "code",
   "execution_count": 20,
   "id": "2f632fe2",
   "metadata": {
    "ExecuteTime": {
     "end_time": "2022-02-05T16:13:49.379509Z",
     "start_time": "2022-02-05T16:13:49.351060Z"
    }
   },
   "outputs": [],
   "source": [
    "cols_drop = ['date_account_created','timestamp_first_active','date_first_booking']\n",
    "df5 = df5.drop( cols_drop, axis=1 )"
   ]
  },
  {
   "cell_type": "code",
   "execution_count": 21,
   "id": "2aa093a3",
   "metadata": {
    "ExecuteTime": {
     "end_time": "2022-02-05T16:13:49.395696Z",
     "start_time": "2022-02-05T16:13:49.381435Z"
    }
   },
   "outputs": [],
   "source": [
    "X = df5.drop( ['id','country_destination'], axis=1 )\n",
    "y = df5['country_destination'].copy()"
   ]
  },
  {
   "cell_type": "markdown",
   "id": "9849c5c5",
   "metadata": {
    "ExecuteTime": {
     "end_time": "2022-02-03T18:03:58.034759Z",
     "start_time": "2022-02-03T18:03:58.006716Z"
    }
   },
   "source": [
    "# 7.0. Machine Learning"
   ]
  },
  {
   "cell_type": "code",
   "execution_count": 22,
   "id": "b45c1676",
   "metadata": {
    "ExecuteTime": {
     "end_time": "2022-02-05T16:13:49.459093Z",
     "start_time": "2022-02-05T16:13:49.399438Z"
    }
   },
   "outputs": [],
   "source": [
    "X_train, X_val, y_train, y_val = train_test_split( X, y, test_size=0.2, random_state=32 )"
   ]
  },
  {
   "cell_type": "markdown",
   "id": "03d597e5",
   "metadata": {},
   "source": [
    "## 7.1. Baseline model"
   ]
  },
  {
   "cell_type": "code",
   "execution_count": 23,
   "id": "9f3cb2e7",
   "metadata": {
    "ExecuteTime": {
     "end_time": "2022-02-05T16:13:49.489991Z",
     "start_time": "2022-02-05T16:13:49.470996Z"
    }
   },
   "outputs": [],
   "source": [
    "index = df5['country_destination'].value_counts().index\n",
    "values = df5['country_destination'].value_counts( normalize=True ).values"
   ]
  },
  {
   "cell_type": "code",
   "execution_count": 24,
   "id": "356d0737",
   "metadata": {
    "ExecuteTime": {
     "end_time": "2022-02-05T16:13:49.520424Z",
     "start_time": "2022-02-05T16:13:49.492997Z"
    }
   },
   "outputs": [],
   "source": [
    "yhat_random = random.choices( population=index, weights=values, k=y_val.shape[0] )"
   ]
  },
  {
   "cell_type": "code",
   "execution_count": 25,
   "id": "7f0be112",
   "metadata": {
    "ExecuteTime": {
     "end_time": "2022-02-05T16:13:49.536392Z",
     "start_time": "2022-02-05T16:13:49.529396Z"
    }
   },
   "outputs": [],
   "source": [
    "# prediction prepare\n",
    "y_val_random = y_val.to_numpy()"
   ]
  },
  {
   "cell_type": "code",
   "execution_count": 26,
   "id": "496167cd",
   "metadata": {
    "ExecuteTime": {
     "end_time": "2022-02-05T16:13:50.661561Z",
     "start_time": "2022-02-05T16:13:49.540399Z"
    }
   },
   "outputs": [
    {
     "name": "stdout",
     "output_type": "stream",
     "text": [
      "  model  Accuracy  BalancedAccuracy  KappaScore\n",
      "0    NN  0.523212          0.092667    0.004504\n",
      "              precision    recall  f1-score   support\n",
      "\n",
      "          AU       0.00      0.00      0.00       101\n",
      "          CA       0.02      0.01      0.01       214\n",
      "          DE       0.02      0.02      0.02       170\n",
      "          ES       0.02      0.02      0.02       345\n",
      "          FR       0.06      0.06      0.06       710\n",
      "          GB       0.05      0.05      0.05       344\n",
      "          IT       0.02      0.02      0.02       423\n",
      "          NL       0.00      0.00      0.00       128\n",
      "          PT       0.00      0.00      0.00        36\n",
      "          US       0.71      0.71      0.71      9624\n",
      "       other       0.12      0.11      0.11      1540\n",
      "\n",
      "    accuracy                           0.52     13635\n",
      "   macro avg       0.09      0.09      0.09     13635\n",
      "weighted avg       0.52      0.52      0.52     13635\n",
      "\n"
     ]
    },
    {
     "data": {
      "image/png": "[encoded data removed]",
      "text/plain": [
       "<Figure size 1296x504 with 2 Axes>"
      ]
     },
     "metadata": {
      "needs_background": "light"
     },
     "output_type": "display_data"
    }
   ],
   "source": [
    "# balanced accuracy, accuracy, kappa score \n",
    "dic = {\n",
    "    'model': 'NN',\n",
    "    'Accuracy': accuracy_score( y_val_random, yhat_random ),\n",
    "    'BalancedAccuracy': balanced_accuracy_score( y_val_random, yhat_random ),\n",
    "    'KappaScore': cohen_kappa_score( y_val_random, yhat_random )\n",
    "}\n",
    "print( pd.DataFrame( dic, index=[0] ) )\n",
    "print( classification_report( y_val_random, yhat_random ) )\n",
    "\n",
    "# confusion matrix\n",
    "plot_confusion_matrix(y_val_random, yhat_random, figsize=(18,7) );"
   ]
  },
  {
   "cell_type": "markdown",
   "id": "78a6000a",
   "metadata": {},
   "source": [
    "## 7.2. NN "
   ]
  },
  {
   "cell_type": "code",
   "execution_count": 27,
   "id": "bc00beae",
   "metadata": {
    "ExecuteTime": {
     "end_time": "2022-02-05T16:13:50.692916Z",
     "start_time": "2022-02-05T16:13:50.664557Z"
    }
   },
   "outputs": [],
   "source": [
    "on = OneHotEncoder()\n",
    "y_train_nn = on.fit_transform( y_train.values.reshape(-1,1) ).toarray()"
   ]
  },
  {
   "cell_type": "code",
   "execution_count": 28,
   "id": "484371e4",
   "metadata": {
    "ExecuteTime": {
     "end_time": "2022-02-05T16:17:41.908365Z",
     "start_time": "2022-02-05T16:13:50.696914Z"
    }
   },
   "outputs": [
    {
     "data": {
      "text/plain": [
       "<keras.callbacks.History at 0x1b30338a9d0>"
      ]
     },
     "execution_count": 28,
     "metadata": {},
     "output_type": "execute_result"
    }
   ],
   "source": [
    "# model definition\n",
    "model = models.Sequential()\n",
    "model.add( layers.Dense( 128, input_dim=X_train.shape[1], activation='relu' ) )\n",
    "model.add( layers.Dense( 11, activation='softmax' ) )\n",
    "\n",
    "# model compile\n",
    "model.compile( loss='categorical_crossentropy', optimizer='adam', metrics=['accuracy'] )\n",
    "\n",
    "# train model\n",
    "model.fit( X_train, y_train_nn, epochs=100, verbose=0 )"
   ]
  },
  {
   "cell_type": "markdown",
   "id": "9fdfce67",
   "metadata": {},
   "source": [
    "# 8.0. Model Performance "
   ]
  },
  {
   "cell_type": "code",
   "execution_count": 29,
   "id": "b506c570",
   "metadata": {
    "ExecuteTime": {
     "end_time": "2022-02-05T16:17:42.476017Z",
     "start_time": "2022-02-05T16:17:41.917370Z"
    }
   },
   "outputs": [],
   "source": [
    "# prediction\n",
    "pred_nn = model.predict( X_val )\n",
    "\n",
    "# invert prediction\n",
    "yhat_nn =  on.inverse_transform( pred_nn )\n",
    "\n",
    "# prediction prepare\n",
    "y_val_nn = y_val.to_numpy()\n",
    "yhat_nn = yhat_nn.reshape( 1,-1 )[0]"
   ]
  },
  {
   "cell_type": "code",
   "execution_count": 30,
   "id": "3f858d41",
   "metadata": {
    "ExecuteTime": {
     "end_time": "2022-02-05T16:17:43.600448Z",
     "start_time": "2022-02-05T16:17:42.478411Z"
    }
   },
   "outputs": [
    {
     "name": "stdout",
     "output_type": "stream",
     "text": [
      "  model  Accuracy  BalancedAccuracy  KappaScore\n",
      "0    NN  0.703044          0.091046    0.002663\n",
      "              precision    recall  f1-score   support\n",
      "\n",
      "          AU       0.00      0.00      0.00       101\n",
      "          CA       0.00      0.00      0.00       214\n",
      "          DE       0.00      0.00      0.00       170\n",
      "          ES       0.00      0.00      0.00       345\n",
      "          FR       0.00      0.00      0.00       710\n",
      "          GB       0.00      0.00      0.00       344\n",
      "          IT       0.00      0.00      0.00       423\n",
      "          NL       0.00      0.00      0.00       128\n",
      "          PT       0.00      0.00      0.00        36\n",
      "          US       0.71      1.00      0.83      9624\n",
      "       other       0.21      0.01      0.01      1540\n",
      "\n",
      "    accuracy                           0.70     13635\n",
      "   macro avg       0.08      0.09      0.08     13635\n",
      "weighted avg       0.52      0.70      0.58     13635\n",
      "\n"
     ]
    },
    {
     "data": {
      "image/png": "[encoded data removed]",
      "text/plain": [
       "<Figure size 1296x504 with 2 Axes>"
      ]
     },
     "metadata": {
      "needs_background": "light"
     },
     "output_type": "display_data"
    }
   ],
   "source": [
    "# balanced accuracy, accuracy, kappa score \n",
    "dic = {\n",
    "    'model': 'NN',\n",
    "    'Accuracy': accuracy_score( y_val_nn, yhat_nn ),\n",
    "    'BalancedAccuracy': balanced_accuracy_score( y_val_nn, yhat_nn ),\n",
    "    'KappaScore': cohen_kappa_score( y_val_nn, yhat_nn )\n",
    "}\n",
    "print( pd.DataFrame( dic, index=[0] ) )\n",
    "print( classification_report( y_val_nn, yhat_nn ) )\n",
    "\n",
    "# confusion matrix\n",
    "plot_confusion_matrix(y_val_nn, yhat_nn, figsize=(18,7) );"
   ]
  },
  {
   "cell_type": "markdown",
   "id": "6987d138",
   "metadata": {},
   "source": [
    "## 8.1. Cross Validation "
   ]
  },
  {
   "cell_type": "code",
   "execution_count": 31,
   "id": "aec63260",
   "metadata": {
    "ExecuteTime": {
     "end_time": "2022-02-05T16:34:23.289528Z",
     "start_time": "2022-02-05T16:17:43.604351Z"
    }
   },
   "outputs": [
    {
     "name": "stdout",
     "output_type": "stream",
     "text": [
      "Fold Number: 1/5\n",
      "Fold Number: 2/5\n",
      "Fold Number: 3/5\n",
      "Fold Number: 4/5\n",
      "Fold Number: 5/5\n",
      "Avg Balanced Accuracy: 0.09155718094644394 +/- 0.00022635929012134227\n",
      "Avg Kappa: 0.002817943288701352 +/- 0.0017295300685959945\n"
     ]
    }
   ],
   "source": [
    "# generate k-fold\n",
    "num_folds = 5\n",
    "kfold = StratifiedKFold( n_splits=num_folds, shuffle=True, random_state=32 )\n",
    "\n",
    "balanced_acc_list = []\n",
    "kappa_acc_list = []\n",
    "\n",
    "i = 1\n",
    "\n",
    "for train_ix, val_ix in kfold.split( X_train, y_train ):\n",
    "    print( 'Fold Number: {}/{}'.format( i, num_folds ) )\n",
    "    \n",
    "    # get fold\n",
    "    X_train_fold = X_train.iloc[train_ix]\n",
    "    y_train_fold = y_train.iloc[train_ix]\n",
    "    \n",
    "    x_val_fold = X_train.iloc[val_ix]\n",
    "    y_val_fold = y_train.iloc[val_ix]\n",
    "    \n",
    "    # target hot-encoding\n",
    "    ohe = OneHotEncoder()\n",
    "    y_train_fold_nn = ohe.fit_transform( y_train_fold.values.reshape( -1, 1 ) ).toarray()\n",
    "\n",
    "    # model definition\n",
    "    model = models.Sequential()\n",
    "    model.add( layers.Dense( 256, input_dim=X_train.shape[1], activation='relu' ) )\n",
    "    model.add( layers.Dense( 11, activation='softmax') )\n",
    "\n",
    "    # compile model\n",
    "    model.compile( loss='categorical_crossentropy', optimizer='adam', metrics=['accuracy'] )\n",
    "\n",
    "    # training model\n",
    "    model.fit( X_train_fold, y_train_fold_nn, epochs=100, batch_size=32, verbose=0 )\n",
    "\n",
    "    # prediction\n",
    "    pred_nn = model.predict( x_val_fold )\n",
    "    yhat_nn = ohe.inverse_transform( pred_nn )\n",
    "    \n",
    "    # prepare data\n",
    "    y_test_nn = y_val_fold.to_numpy()\n",
    "    yhat_nn = yhat_nn.reshape( 1, -1 )[0]\n",
    "\n",
    "    # metrics\n",
    "    ## Balanced Accuracy \n",
    "    balanced_acc_nn = balanced_accuracy_score( y_test_nn, yhat_nn )\n",
    "    balanced_acc_list.append( balanced_acc_nn )\n",
    "    \n",
    "    ## Kappa Metrics\n",
    "    kappa_acc_nn = cohen_kappa_score( y_test_nn, yhat_nn )\n",
    "    kappa_acc_list.append( kappa_acc_nn )\n",
    "    \n",
    "    i += 1\n",
    "\n",
    "print(f'Avg Balanced Accuracy: {np.mean( balanced_acc_list )} +/- {np.std( balanced_acc_list )}' )\n",
    "print(f'Avg Kappa: {np.mean( kappa_acc_list )} +/- {np.std( kappa_acc_list )}' )"
   ]
  },
  {
   "cell_type": "code",
   "execution_count": null,
   "id": "848e4d2e",
   "metadata": {},
   "outputs": [],
   "source": []
  },
  {
   "cell_type": "code",
   "execution_count": null,
   "id": "35df6e8e",
   "metadata": {},
   "outputs": [],
   "source": []
  },
  {
   "cell_type": "code",
   "execution_count": null,
   "id": "3b3b0b50",
   "metadata": {},
   "outputs": [],
   "source": []
  },
  {
   "cell_type": "code",
   "execution_count": null,
   "id": "d6b63dd5",
   "metadata": {},
   "outputs": [],
   "source": []
  },
  {
   "cell_type": "code",
   "execution_count": null,
   "id": "d3dca05b",
   "metadata": {},
   "outputs": [],
   "source": []
  },
  {
   "cell_type": "code",
   "execution_count": null,
   "id": "62c8235e",
   "metadata": {},
   "outputs": [],
   "source": []
  },
  {
   "cell_type": "code",
   "execution_count": null,
   "id": "b00e1c55",
   "metadata": {},
   "outputs": [],
   "source": []
  },
  {
   "cell_type": "code",
   "execution_count": null,
   "id": "69c44ebe",
   "metadata": {},
   "outputs": [],
   "source": []
  },
  {
   "cell_type": "code",
   "execution_count": null,
   "id": "a22db6fb",
   "metadata": {},
   "outputs": [],
   "source": []
  },
  {
   "cell_type": "code",
   "execution_count": null,
   "id": "caadc9fa",
   "metadata": {},
   "outputs": [],
   "source": []
  }
 ],
 "metadata": {
  "kernelspec": {
   "display_name": "Python 3 (ipykernel)",
   "language": "python",
   "name": "python3"
  },
  "language_info": {
   "codemirror_mode": {
    "name": "ipython",
    "version": 3
   },
   "file_extension": ".py",
   "mimetype": "text/x-python",
   "name": "python",
   "nbconvert_exporter": "python",
   "pygments_lexer": "ipython3",
   "version": "3.9.6"
  },
  "varInspector": {
   "cols": {
    "lenName": 16,
    "lenType": 16,
    "lenVar": 40
   },
   "kernels_config": {
    "python": {
     "delete_cmd_postfix": "",
     "delete_cmd_prefix": "del ",
     "library": "var_list.py",
     "varRefreshCmd": "print(var_dic_list())"
    },
    "r": {
     "delete_cmd_postfix": ") ",
     "delete_cmd_prefix": "rm(",
     "library": "var_list.r",
     "varRefreshCmd": "cat(var_dic_list()) "
    }
   },
   "types_to_exclude": [
    "module",
    "function",
    "builtin_function_or_method",
    "instance",
    "_Feature"
   ],
   "window_display": false
  }
 },
 "nbformat": 4,
 "nbformat_minor": 5
}
