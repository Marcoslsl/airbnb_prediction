{
 "cells": [
  {
   "cell_type": "markdown",
   "id": "0434295a",
   "metadata": {},
   "source": [
    "# -- Objetivo do problema\n",
    "    \n",
    "    --1.0. Previsão do primeiro destino que um novo usuário irá escolher.\n",
    "    \n",
    "    --Por que?\n",
    "        --Quak tipo de modelo de negócio do Airbnb\n",
    "            --Marketplace( Conecta pessoas que oferecem acamodação, com pessoas que estão procurando acomodação )\n",
    "            --Oferta ( pessoas oferecendo acomodação )\n",
    "                -- Tamanho do portfolio\n",
    "                -- Diversidade/densidade de portfolio.\n",
    "                -- Preço Médio\n",
    "                \n",
    "            -- Demanda ( pessoas procurando acomodação )\n",
    "                -- Numero de Usuários\n",
    "                -- LTV ( Lifetime Value )\n",
    "                -- CAC ( Client acquisition cost )\n",
    "                \n",
    "            -- Gross Revenue = (phi*Numero cliente) - CAC\n",
    "                \n",
    "            -- Demanda ( pessoas procurando acomodação )\n",
    "            \n",
    "--Proposta da solução\n",
    "  - Modelo de previsão do primeiro destino de um novo usuário.\n",
    "  - 1.0. Predições e salvar em uma tabela do banco de dados.\n",
    "  - 2.0. API\n",
    "        - Input: usuário e suas caracteristicas\n",
    "        - output: usuario e suas caracteristicas com a coluna prediction"
   ]
  },
  {
   "cell_type": "markdown",
   "id": "76b1ed8d",
   "metadata": {},
   "source": [
    "# 0.0. Imports "
   ]
  },
  {
   "cell_type": "code",
   "execution_count": 64,
   "id": "7466bba6",
   "metadata": {
    "ExecuteTime": {
     "end_time": "2022-02-16T18:11:20.218454Z",
     "start_time": "2022-02-16T18:11:20.196951Z"
    }
   },
   "outputs": [],
   "source": [
    "import random\n",
    "\n",
    "import pandas  as pd \n",
    "import numpy   as np \n",
    "import seaborn as sns\n",
    "\n",
    "import matplotlib.pyplot as plt\n",
    "\n",
    "from sklearn.model_selection import train_test_split, StratifiedKFold\n",
    "from sklearn.preprocessing   import OneHotEncoder\n",
    "from sklearn.metrics         import classification_report, accuracy_score, balanced_accuracy_score, cohen_kappa_score\n",
    "from scikitplot.metrics      import plot_confusion_matrix\n",
    "\n",
    "from imblearn                import under_sampling, over_sampling \n",
    "from imblearn.combine        import SMOTETomek\n",
    "\n",
    "from scipy.stats             import skewnorm\n",
    "from scipy                   import stats\n",
    "\n",
    "from keras import models\n",
    "from keras import layers"
   ]
  },
  {
   "cell_type": "code",
   "execution_count": 2,
   "id": "21ec8196",
   "metadata": {
    "ExecuteTime": {
     "end_time": "2022-02-16T16:06:36.158966Z",
     "start_time": "2022-02-16T16:06:36.147935Z"
    }
   },
   "outputs": [],
   "source": [
    "%matplotlib inline\n",
    "plt.rcParams['figure.figsize'] = [13, 8]\n",
    "\n",
    "sns.set_style('darkgrid')\n",
    "pd.set_option('display.float_format', lambda x: '%.3f' % x)"
   ]
  },
  {
   "cell_type": "markdown",
   "id": "03534561",
   "metadata": {},
   "source": [
    "## 0.1. Helper Functions "
   ]
  },
  {
   "cell_type": "code",
   "execution_count": 3,
   "id": "1bfe6a96",
   "metadata": {
    "ExecuteTime": {
     "end_time": "2022-02-16T16:06:36.220905Z",
     "start_time": "2022-02-16T16:06:36.194461Z"
    }
   },
   "outputs": [],
   "source": [
    "def numeric_statistics( df ):\n",
    "    \n",
    "    dic = {\n",
    "        \"type\": df.dtypes.values,\n",
    "        \"Unique_Values\": df.nunique().values,\n",
    "        \"Mean\": df.mean(),\n",
    "        \"Median\": df.median(),\n",
    "        \"Std\": df.std(),\n",
    "        \"Min\": df.min(),\n",
    "        \"Max\": df.max(),\n",
    "        \"Range\": df.max() - df.min(),\n",
    "        \"Skew\": df.skew(),\n",
    "        \"Kurtosis\": df.kurtosis()\n",
    "    }\n",
    "    \n",
    "    return pd.DataFrame( dic, index=df.columns )\n",
    "\n",
    "def cramer_v( x, y ):\n",
    "    \n",
    "    cm   = pd.crosstab( x, y ).values\n",
    "    n    = cm.sum()\n",
    "    r, k = cm.shape\n",
    "    \n",
    "    chi2 = stats.chi2_contingency( cm )[0]\n",
    "    \n",
    "    chi2corr = max( 0, chi2 - (k-1)*(r-1)/(n-1) )\n",
    "    kcorr    = k - (k-1)**2/(n-1)\n",
    "    rcorr    = r - (r-1)**2/(n-1)\n",
    "    \n",
    "    return np.sqrt( (chi2corr/n) / ( min(kcorr-1,rcorr-1) ) )"
   ]
  },
  {
   "cell_type": "markdown",
   "id": "224e4999",
   "metadata": {
    "ExecuteTime": {
     "end_time": "2022-02-03T13:02:27.056350Z",
     "start_time": "2022-02-03T13:02:27.016675Z"
    }
   },
   "source": [
    "# 1.0. Data Description"
   ]
  },
  {
   "cell_type": "code",
   "execution_count": 4,
   "id": "58a0b66d",
   "metadata": {
    "ExecuteTime": {
     "end_time": "2022-02-16T16:06:54.252262Z",
     "start_time": "2022-02-16T16:06:36.287625Z"
    }
   },
   "outputs": [],
   "source": [
    "# df users\n",
    "df_raw = pd.read_csv( 'data/train_users_2.csv', low_memory=True )\n",
    "\n",
    "# df sessions\n",
    "df_sessions = pd.read_csv( 'data/sessions.csv', low_memory=True )"
   ]
  },
  {
   "cell_type": "markdown",
   "id": "9fd9ee0a",
   "metadata": {},
   "source": [
    "\n",
    "## Users"
   ]
  },
  {
   "cell_type": "code",
   "execution_count": 5,
   "id": "d2d97270",
   "metadata": {
    "ExecuteTime": {
     "end_time": "2022-02-16T16:06:54.440153Z",
     "start_time": "2022-02-16T16:06:54.381953Z"
    }
   },
   "outputs": [
    {
     "data": {
      "text/html": [
       "<div>\n",
       "<style scoped>\n",
       "    .dataframe tbody tr th:only-of-type {\n",
       "        vertical-align: middle;\n",
       "    }\n",
       "\n",
       "    .dataframe tbody tr th {\n",
       "        vertical-align: top;\n",
       "    }\n",
       "\n",
       "    .dataframe thead th {\n",
       "        text-align: right;\n",
       "    }\n",
       "</style>\n",
       "<table border=\"1\" class=\"dataframe\">\n",
       "  <thead>\n",
       "    <tr style=\"text-align: right;\">\n",
       "      <th></th>\n",
       "      <th>id</th>\n",
       "      <th>date_account_created</th>\n",
       "      <th>timestamp_first_active</th>\n",
       "      <th>date_first_booking</th>\n",
       "      <th>gender</th>\n",
       "      <th>age</th>\n",
       "      <th>signup_method</th>\n",
       "      <th>signup_flow</th>\n",
       "      <th>language</th>\n",
       "      <th>affiliate_channel</th>\n",
       "      <th>affiliate_provider</th>\n",
       "      <th>first_affiliate_tracked</th>\n",
       "      <th>signup_app</th>\n",
       "      <th>first_device_type</th>\n",
       "      <th>first_browser</th>\n",
       "      <th>country_destination</th>\n",
       "    </tr>\n",
       "  </thead>\n",
       "  <tbody>\n",
       "    <tr>\n",
       "      <th>0</th>\n",
       "      <td>gxn3p5htnn</td>\n",
       "      <td>2010-06-28</td>\n",
       "      <td>20090319043255</td>\n",
       "      <td>NaN</td>\n",
       "      <td>-unknown-</td>\n",
       "      <td>NaN</td>\n",
       "      <td>facebook</td>\n",
       "      <td>0</td>\n",
       "      <td>en</td>\n",
       "      <td>direct</td>\n",
       "      <td>direct</td>\n",
       "      <td>untracked</td>\n",
       "      <td>Web</td>\n",
       "      <td>Mac Desktop</td>\n",
       "      <td>Chrome</td>\n",
       "      <td>NDF</td>\n",
       "    </tr>\n",
       "    <tr>\n",
       "      <th>1</th>\n",
       "      <td>820tgsjxq7</td>\n",
       "      <td>2011-05-25</td>\n",
       "      <td>20090523174809</td>\n",
       "      <td>NaN</td>\n",
       "      <td>MALE</td>\n",
       "      <td>38.000</td>\n",
       "      <td>facebook</td>\n",
       "      <td>0</td>\n",
       "      <td>en</td>\n",
       "      <td>seo</td>\n",
       "      <td>google</td>\n",
       "      <td>untracked</td>\n",
       "      <td>Web</td>\n",
       "      <td>Mac Desktop</td>\n",
       "      <td>Chrome</td>\n",
       "      <td>NDF</td>\n",
       "    </tr>\n",
       "    <tr>\n",
       "      <th>2</th>\n",
       "      <td>4ft3gnwmtx</td>\n",
       "      <td>2010-09-28</td>\n",
       "      <td>20090609231247</td>\n",
       "      <td>2010-08-02</td>\n",
       "      <td>FEMALE</td>\n",
       "      <td>56.000</td>\n",
       "      <td>basic</td>\n",
       "      <td>3</td>\n",
       "      <td>en</td>\n",
       "      <td>direct</td>\n",
       "      <td>direct</td>\n",
       "      <td>untracked</td>\n",
       "      <td>Web</td>\n",
       "      <td>Windows Desktop</td>\n",
       "      <td>IE</td>\n",
       "      <td>US</td>\n",
       "    </tr>\n",
       "    <tr>\n",
       "      <th>3</th>\n",
       "      <td>bjjt8pjhuk</td>\n",
       "      <td>2011-12-05</td>\n",
       "      <td>20091031060129</td>\n",
       "      <td>2012-09-08</td>\n",
       "      <td>FEMALE</td>\n",
       "      <td>42.000</td>\n",
       "      <td>facebook</td>\n",
       "      <td>0</td>\n",
       "      <td>en</td>\n",
       "      <td>direct</td>\n",
       "      <td>direct</td>\n",
       "      <td>untracked</td>\n",
       "      <td>Web</td>\n",
       "      <td>Mac Desktop</td>\n",
       "      <td>Firefox</td>\n",
       "      <td>other</td>\n",
       "    </tr>\n",
       "    <tr>\n",
       "      <th>4</th>\n",
       "      <td>87mebub9p4</td>\n",
       "      <td>2010-09-14</td>\n",
       "      <td>20091208061105</td>\n",
       "      <td>2010-02-18</td>\n",
       "      <td>-unknown-</td>\n",
       "      <td>41.000</td>\n",
       "      <td>basic</td>\n",
       "      <td>0</td>\n",
       "      <td>en</td>\n",
       "      <td>direct</td>\n",
       "      <td>direct</td>\n",
       "      <td>untracked</td>\n",
       "      <td>Web</td>\n",
       "      <td>Mac Desktop</td>\n",
       "      <td>Chrome</td>\n",
       "      <td>US</td>\n",
       "    </tr>\n",
       "  </tbody>\n",
       "</table>\n",
       "</div>"
      ],
      "text/plain": [
       "           id date_account_created  timestamp_first_active date_first_booking  \\\n",
       "0  gxn3p5htnn           2010-06-28          20090319043255                NaN   \n",
       "1  820tgsjxq7           2011-05-25          20090523174809                NaN   \n",
       "2  4ft3gnwmtx           2010-09-28          20090609231247         2010-08-02   \n",
       "3  bjjt8pjhuk           2011-12-05          20091031060129         2012-09-08   \n",
       "4  87mebub9p4           2010-09-14          20091208061105         2010-02-18   \n",
       "\n",
       "      gender    age signup_method  signup_flow language affiliate_channel  \\\n",
       "0  -unknown-    NaN      facebook            0       en            direct   \n",
       "1       MALE 38.000      facebook            0       en               seo   \n",
       "2     FEMALE 56.000         basic            3       en            direct   \n",
       "3     FEMALE 42.000      facebook            0       en            direct   \n",
       "4  -unknown- 41.000         basic            0       en            direct   \n",
       "\n",
       "  affiliate_provider first_affiliate_tracked signup_app first_device_type  \\\n",
       "0             direct               untracked        Web       Mac Desktop   \n",
       "1             google               untracked        Web       Mac Desktop   \n",
       "2             direct               untracked        Web   Windows Desktop   \n",
       "3             direct               untracked        Web       Mac Desktop   \n",
       "4             direct               untracked        Web       Mac Desktop   \n",
       "\n",
       "  first_browser country_destination  \n",
       "0        Chrome                 NDF  \n",
       "1        Chrome                 NDF  \n",
       "2            IE                  US  \n",
       "3       Firefox               other  \n",
       "4        Chrome                  US  "
      ]
     },
     "execution_count": 5,
     "metadata": {},
     "output_type": "execute_result"
    }
   ],
   "source": [
    "df_raw.head()"
   ]
  },
  {
   "cell_type": "markdown",
   "id": "6dfd45b9",
   "metadata": {},
   "source": [
    "\n",
    "## Sessions"
   ]
  },
  {
   "cell_type": "code",
   "execution_count": 6,
   "id": "ef521de0",
   "metadata": {
    "ExecuteTime": {
     "end_time": "2022-02-16T16:06:54.595028Z",
     "start_time": "2022-02-16T16:06:54.552161Z"
    }
   },
   "outputs": [
    {
     "data": {
      "text/html": [
       "<div>\n",
       "<style scoped>\n",
       "    .dataframe tbody tr th:only-of-type {\n",
       "        vertical-align: middle;\n",
       "    }\n",
       "\n",
       "    .dataframe tbody tr th {\n",
       "        vertical-align: top;\n",
       "    }\n",
       "\n",
       "    .dataframe thead th {\n",
       "        text-align: right;\n",
       "    }\n",
       "</style>\n",
       "<table border=\"1\" class=\"dataframe\">\n",
       "  <thead>\n",
       "    <tr style=\"text-align: right;\">\n",
       "      <th></th>\n",
       "      <th>user_id</th>\n",
       "      <th>action</th>\n",
       "      <th>action_type</th>\n",
       "      <th>action_detail</th>\n",
       "      <th>device_type</th>\n",
       "      <th>secs_elapsed</th>\n",
       "    </tr>\n",
       "  </thead>\n",
       "  <tbody>\n",
       "    <tr>\n",
       "      <th>0</th>\n",
       "      <td>d1mm9tcy42</td>\n",
       "      <td>lookup</td>\n",
       "      <td>NaN</td>\n",
       "      <td>NaN</td>\n",
       "      <td>Windows Desktop</td>\n",
       "      <td>319.000</td>\n",
       "    </tr>\n",
       "    <tr>\n",
       "      <th>1</th>\n",
       "      <td>d1mm9tcy42</td>\n",
       "      <td>search_results</td>\n",
       "      <td>click</td>\n",
       "      <td>view_search_results</td>\n",
       "      <td>Windows Desktop</td>\n",
       "      <td>67753.000</td>\n",
       "    </tr>\n",
       "    <tr>\n",
       "      <th>2</th>\n",
       "      <td>d1mm9tcy42</td>\n",
       "      <td>lookup</td>\n",
       "      <td>NaN</td>\n",
       "      <td>NaN</td>\n",
       "      <td>Windows Desktop</td>\n",
       "      <td>301.000</td>\n",
       "    </tr>\n",
       "    <tr>\n",
       "      <th>3</th>\n",
       "      <td>d1mm9tcy42</td>\n",
       "      <td>search_results</td>\n",
       "      <td>click</td>\n",
       "      <td>view_search_results</td>\n",
       "      <td>Windows Desktop</td>\n",
       "      <td>22141.000</td>\n",
       "    </tr>\n",
       "    <tr>\n",
       "      <th>4</th>\n",
       "      <td>d1mm9tcy42</td>\n",
       "      <td>lookup</td>\n",
       "      <td>NaN</td>\n",
       "      <td>NaN</td>\n",
       "      <td>Windows Desktop</td>\n",
       "      <td>435.000</td>\n",
       "    </tr>\n",
       "  </tbody>\n",
       "</table>\n",
       "</div>"
      ],
      "text/plain": [
       "      user_id          action action_type        action_detail  \\\n",
       "0  d1mm9tcy42          lookup         NaN                  NaN   \n",
       "1  d1mm9tcy42  search_results       click  view_search_results   \n",
       "2  d1mm9tcy42          lookup         NaN                  NaN   \n",
       "3  d1mm9tcy42  search_results       click  view_search_results   \n",
       "4  d1mm9tcy42          lookup         NaN                  NaN   \n",
       "\n",
       "       device_type  secs_elapsed  \n",
       "0  Windows Desktop       319.000  \n",
       "1  Windows Desktop     67753.000  \n",
       "2  Windows Desktop       301.000  \n",
       "3  Windows Desktop     22141.000  \n",
       "4  Windows Desktop       435.000  "
      ]
     },
     "execution_count": 6,
     "metadata": {},
     "output_type": "execute_result"
    }
   ],
   "source": [
    "df_sessions.head()"
   ]
  },
  {
   "cell_type": "markdown",
   "id": "987e15db",
   "metadata": {},
   "source": [
    "## 1.1. Data Dimension  "
   ]
  },
  {
   "cell_type": "markdown",
   "id": "c2981a8f",
   "metadata": {},
   "source": [
    "\n",
    "## Users"
   ]
  },
  {
   "cell_type": "code",
   "execution_count": 7,
   "id": "00f23ecf",
   "metadata": {
    "ExecuteTime": {
     "end_time": "2022-02-16T16:06:54.717519Z",
     "start_time": "2022-02-16T16:06:54.705167Z"
    }
   },
   "outputs": [
    {
     "name": "stdout",
     "output_type": "stream",
     "text": [
      "Number of Rows: 213451\n",
      "Number of Columns: 16\n"
     ]
    }
   ],
   "source": [
    "print(f'Number of Rows: {df_raw.shape[0]}') \n",
    "print(f'Number of Columns: {df_raw.shape[1]}') "
   ]
  },
  {
   "cell_type": "markdown",
   "id": "5e357331",
   "metadata": {},
   "source": [
    "\n",
    "## Sessions"
   ]
  },
  {
   "cell_type": "code",
   "execution_count": 8,
   "id": "63d1cf18",
   "metadata": {
    "ExecuteTime": {
     "end_time": "2022-02-16T16:06:54.826217Z",
     "start_time": "2022-02-16T16:06:54.813884Z"
    }
   },
   "outputs": [
    {
     "name": "stdout",
     "output_type": "stream",
     "text": [
      "Number of Rows: 10567737\n",
      "Number of Columns: 6\n"
     ]
    }
   ],
   "source": [
    "print(f'Number of Rows: {df_sessions.shape[0]}') \n",
    "print(f'Number of Columns: {df_sessions.shape[1]}') "
   ]
  },
  {
   "cell_type": "markdown",
   "id": "c8bfa350",
   "metadata": {},
   "source": [
    "## 1.2. Data types "
   ]
  },
  {
   "cell_type": "markdown",
   "id": "1bd5eacd",
   "metadata": {},
   "source": [
    "\n",
    "## Users"
   ]
  },
  {
   "cell_type": "code",
   "execution_count": 9,
   "id": "0e9c9246",
   "metadata": {
    "ExecuteTime": {
     "end_time": "2022-02-16T16:06:54.920081Z",
     "start_time": "2022-02-16T16:06:54.895982Z"
    }
   },
   "outputs": [
    {
     "data": {
      "text/plain": [
       "id                          object\n",
       "date_account_created        object\n",
       "timestamp_first_active       int64\n",
       "date_first_booking          object\n",
       "gender                      object\n",
       "age                        float64\n",
       "signup_method               object\n",
       "signup_flow                  int64\n",
       "language                    object\n",
       "affiliate_channel           object\n",
       "affiliate_provider          object\n",
       "first_affiliate_tracked     object\n",
       "signup_app                  object\n",
       "first_device_type           object\n",
       "first_browser               object\n",
       "country_destination         object\n",
       "dtype: object"
      ]
     },
     "execution_count": 9,
     "metadata": {},
     "output_type": "execute_result"
    }
   ],
   "source": [
    "df_raw.dtypes"
   ]
  },
  {
   "cell_type": "markdown",
   "id": "7e99766c",
   "metadata": {},
   "source": [
    "\n",
    "## Sessions"
   ]
  },
  {
   "cell_type": "code",
   "execution_count": 10,
   "id": "86113c07",
   "metadata": {
    "ExecuteTime": {
     "end_time": "2022-02-16T16:06:55.059050Z",
     "start_time": "2022-02-16T16:06:55.032003Z"
    }
   },
   "outputs": [
    {
     "data": {
      "text/plain": [
       "user_id           object\n",
       "action            object\n",
       "action_type       object\n",
       "action_detail     object\n",
       "device_type       object\n",
       "secs_elapsed     float64\n",
       "dtype: object"
      ]
     },
     "execution_count": 10,
     "metadata": {},
     "output_type": "execute_result"
    }
   ],
   "source": [
    "df_sessions.dtypes"
   ]
  },
  {
   "cell_type": "markdown",
   "id": "874215b7",
   "metadata": {},
   "source": [
    "## 1.3. Check NA "
   ]
  },
  {
   "cell_type": "markdown",
   "id": "93982c01",
   "metadata": {},
   "source": [
    "\n",
    "## Users"
   ]
  },
  {
   "cell_type": "code",
   "execution_count": 11,
   "id": "cf8a7172",
   "metadata": {
    "ExecuteTime": {
     "end_time": "2022-02-16T16:06:55.947333Z",
     "start_time": "2022-02-16T16:06:55.138853Z"
    }
   },
   "outputs": [
    {
     "data": {
      "text/plain": [
       "id                        0.000\n",
       "date_account_created      0.000\n",
       "timestamp_first_active    0.000\n",
       "date_first_booking        0.583\n",
       "gender                    0.000\n",
       "age                       0.412\n",
       "signup_method             0.000\n",
       "signup_flow               0.000\n",
       "language                  0.000\n",
       "affiliate_channel         0.000\n",
       "affiliate_provider        0.000\n",
       "first_affiliate_tracked   0.028\n",
       "signup_app                0.000\n",
       "first_device_type         0.000\n",
       "first_browser             0.000\n",
       "country_destination       0.000\n",
       "dtype: float64"
      ]
     },
     "execution_count": 11,
     "metadata": {},
     "output_type": "execute_result"
    }
   ],
   "source": [
    "df_raw.isnull().sum() / len(df_raw)"
   ]
  },
  {
   "cell_type": "markdown",
   "id": "d45527c1",
   "metadata": {},
   "source": [
    "\n",
    "## Sessions "
   ]
  },
  {
   "cell_type": "code",
   "execution_count": 12,
   "id": "bf59c7d0",
   "metadata": {
    "ExecuteTime": {
     "end_time": "2022-02-16T16:07:09.632081Z",
     "start_time": "2022-02-16T16:06:56.032595Z"
    }
   },
   "outputs": [
    {
     "data": {
      "text/plain": [
       "user_id         0.003\n",
       "action          0.008\n",
       "action_type     0.107\n",
       "action_detail   0.107\n",
       "device_type     0.000\n",
       "secs_elapsed    0.013\n",
       "dtype: float64"
      ]
     },
     "execution_count": 12,
     "metadata": {},
     "output_type": "execute_result"
    }
   ],
   "source": [
    "df_sessions.isnull().sum() / len(df_sessions)"
   ]
  },
  {
   "cell_type": "markdown",
   "id": "fabd2f41",
   "metadata": {},
   "source": [
    "## 1.4. FillNA"
   ]
  },
  {
   "cell_type": "markdown",
   "id": "339ebce7",
   "metadata": {},
   "source": [
    "### 1.4.1 Users "
   ]
  },
  {
   "cell_type": "markdown",
   "id": "f5e95a92",
   "metadata": {},
   "source": [
    "\n",
    "## Costumers\n",
    "If the customer didn't have a country destination, they didn't book an apartment to travel to, my solution to this variable is going to be to exchange the NA values for the max date from a first booking. \n",
    "\n",
    "## Age\n",
    "for this variable I decided to fill the null values with a distribution with the same patterns as the variable age."
   ]
  },
  {
   "cell_type": "code",
   "execution_count": 13,
   "id": "cb8ba811",
   "metadata": {
    "ExecuteTime": {
     "end_time": "2022-02-16T16:07:09.833067Z",
     "start_time": "2022-02-16T16:07:09.736586Z"
    }
   },
   "outputs": [
    {
     "data": {
      "text/plain": [
       "NDF   1.000\n",
       "Name: country_destination, dtype: float64"
      ]
     },
     "execution_count": 13,
     "metadata": {},
     "output_type": "execute_result"
    }
   ],
   "source": [
    "# date_first_booking\n",
    "aux = df_raw[df_raw['date_first_booking'].isna()]\n",
    "\n",
    "aux['country_destination'].value_counts( normalize=True )"
   ]
  },
  {
   "cell_type": "code",
   "execution_count": 14,
   "id": "f921e05f",
   "metadata": {
    "ExecuteTime": {
     "end_time": "2022-02-16T16:07:16.112032Z",
     "start_time": "2022-02-16T16:07:09.948168Z"
    },
    "cell_style": "center"
   },
   "outputs": [
    {
     "name": "stdout",
     "output_type": "stream",
     "text": [
      "NDF     0.768\n",
      "US      0.157\n",
      "other   0.029\n",
      "FR      0.015\n",
      "IT      0.009\n",
      "GB      0.006\n",
      "ES      0.006\n",
      "CA      0.004\n",
      "DE      0.002\n",
      "NL      0.002\n",
      "AU      0.001\n",
      "PT      0.001\n",
      "Name: country_destination, dtype: float64 \n",
      "\n",
      "\n",
      "Skew: 2.0836975941236724\n",
      "std: 13.937022241038116\n",
      "mean: 37.42839144565261\n"
     ]
    },
    {
     "data": {
      "image/png": "[encoded data removed]",
      "text/plain": [
       "<Figure size 936x576 with 1 Axes>"
      ]
     },
     "metadata": {},
     "output_type": "display_data"
    }
   ],
   "source": [
    "# age\n",
    "aux = df_raw[df_raw['age'].isna()]\n",
    "print( aux['country_destination'].value_counts( normalize=True ), '\\n\\n')\n",
    "\n",
    "aux_02 = df_raw[( df_raw['age'] > 15 ) & ( df_raw['age'] <120 )]['age']\n",
    "skew = aux_02.skew()\n",
    "print(f'Skew: {skew}')\n",
    "\n",
    "std = aux_02.std()\n",
    "print(f'std: {std}')\n",
    "\n",
    "mean = aux_02.mean()\n",
    "print(f'mean: {mean}')\n",
    "\n",
    "sns.histplot( aux_02, kde=True );"
   ]
  },
  {
   "cell_type": "code",
   "execution_count": 15,
   "id": "1d281a4e",
   "metadata": {
    "ExecuteTime": {
     "end_time": "2022-02-16T16:07:32.748250Z",
     "start_time": "2022-02-16T16:07:16.271142Z"
    }
   },
   "outputs": [],
   "source": [
    "# date_first_booking\n",
    "date_first_booking_max = pd.to_datetime( df_raw['date_first_booking'] ).max().strftime( '%Y-%m-%d' )\n",
    "df_raw['date_first_booking'] = df_raw['date_first_booking'].fillna( date_first_booking_max )\n",
    "\n",
    "# age\n",
    "df_raw['age'] = df_raw['age'].apply(lambda x: skewnorm.rvs( skew, loc=mean, scale=std ).astype( 'int64' ) if pd.isna(x) else x )\n",
    "\n",
    "# first_affiliate_tracked\n",
    "df_raw = df_raw[~df_raw['first_affiliate_tracked'].isna()]"
   ]
  },
  {
   "cell_type": "code",
   "execution_count": 16,
   "id": "4ae6c68c",
   "metadata": {
    "ExecuteTime": {
     "end_time": "2022-02-16T16:07:37.085701Z",
     "start_time": "2022-02-16T16:07:32.876085Z"
    },
    "cell_style": "center"
   },
   "outputs": [
    {
     "data": {
      "image/png": "[encoded data removed]",
      "text/plain": [
       "<Figure size 936x576 with 1 Axes>"
      ]
     },
     "metadata": {},
     "output_type": "display_data"
    }
   ],
   "source": [
    "sns.histplot( df_raw[(df_raw['age'] > 15) & (df_raw['age'] <120)]['age'], kde=True );"
   ]
  },
  {
   "cell_type": "markdown",
   "id": "d526f9d2",
   "metadata": {},
   "source": [
    "### 1.4.2 df_sessions"
   ]
  },
  {
   "cell_type": "code",
   "execution_count": 17,
   "id": "83a0e7b5",
   "metadata": {
    "ExecuteTime": {
     "end_time": "2022-02-16T16:07:46.833172Z",
     "start_time": "2022-02-16T16:07:37.198796Z"
    }
   },
   "outputs": [],
   "source": [
    "# user_id 0.3%\n",
    "df_sessions = df_sessions[~df_sessions['user_id'].isna()]\n",
    "\n",
    "# action - 0.7%\n",
    "df_sessions = df_sessions[~df_sessions['action'].isna()]\n",
    "\n",
    "#action_type - 11%\n",
    "df_sessions = df_sessions[~df_sessions['action_type'].isna()]\n",
    "\n",
    "# action_details - 11%\n",
    "df_sessions = df_sessions[~df_sessions['action_detail'].isna()]\n",
    "\n",
    "# secs_elapsed - 1.2%\n",
    "df_sessions = df_sessions[~df_sessions['secs_elapsed'].isna()]"
   ]
  },
  {
   "cell_type": "markdown",
   "id": "c71a1f64",
   "metadata": {},
   "source": [
    "## 1.5. Change Data Types "
   ]
  },
  {
   "cell_type": "code",
   "execution_count": 18,
   "id": "1f3a83f4",
   "metadata": {
    "ExecuteTime": {
     "end_time": "2022-02-16T16:07:47.019140Z",
     "start_time": "2022-02-16T16:07:46.962546Z"
    }
   },
   "outputs": [
    {
     "data": {
      "text/html": [
       "<div>\n",
       "<style scoped>\n",
       "    .dataframe tbody tr th:only-of-type {\n",
       "        vertical-align: middle;\n",
       "    }\n",
       "\n",
       "    .dataframe tbody tr th {\n",
       "        vertical-align: top;\n",
       "    }\n",
       "\n",
       "    .dataframe thead th {\n",
       "        text-align: right;\n",
       "    }\n",
       "</style>\n",
       "<table border=\"1\" class=\"dataframe\">\n",
       "  <thead>\n",
       "    <tr style=\"text-align: right;\">\n",
       "      <th></th>\n",
       "      <th>143610</th>\n",
       "      <th>0</th>\n",
       "    </tr>\n",
       "  </thead>\n",
       "  <tbody>\n",
       "    <tr>\n",
       "      <th>id</th>\n",
       "      <td>6grwoxve4b</td>\n",
       "      <td>object</td>\n",
       "    </tr>\n",
       "    <tr>\n",
       "      <th>date_account_created</th>\n",
       "      <td>2014-01-19</td>\n",
       "      <td>object</td>\n",
       "    </tr>\n",
       "    <tr>\n",
       "      <th>timestamp_first_active</th>\n",
       "      <td>20140119100427</td>\n",
       "      <td>int64</td>\n",
       "    </tr>\n",
       "    <tr>\n",
       "      <th>date_first_booking</th>\n",
       "      <td>2015-06-29</td>\n",
       "      <td>object</td>\n",
       "    </tr>\n",
       "    <tr>\n",
       "      <th>gender</th>\n",
       "      <td>-unknown-</td>\n",
       "      <td>object</td>\n",
       "    </tr>\n",
       "    <tr>\n",
       "      <th>age</th>\n",
       "      <td>54.000</td>\n",
       "      <td>float64</td>\n",
       "    </tr>\n",
       "    <tr>\n",
       "      <th>signup_method</th>\n",
       "      <td>basic</td>\n",
       "      <td>object</td>\n",
       "    </tr>\n",
       "    <tr>\n",
       "      <th>signup_flow</th>\n",
       "      <td>0</td>\n",
       "      <td>int64</td>\n",
       "    </tr>\n",
       "    <tr>\n",
       "      <th>language</th>\n",
       "      <td>en</td>\n",
       "      <td>object</td>\n",
       "    </tr>\n",
       "    <tr>\n",
       "      <th>affiliate_channel</th>\n",
       "      <td>content</td>\n",
       "      <td>object</td>\n",
       "    </tr>\n",
       "    <tr>\n",
       "      <th>affiliate_provider</th>\n",
       "      <td>google</td>\n",
       "      <td>object</td>\n",
       "    </tr>\n",
       "    <tr>\n",
       "      <th>first_affiliate_tracked</th>\n",
       "      <td>omg</td>\n",
       "      <td>object</td>\n",
       "    </tr>\n",
       "    <tr>\n",
       "      <th>signup_app</th>\n",
       "      <td>Web</td>\n",
       "      <td>object</td>\n",
       "    </tr>\n",
       "    <tr>\n",
       "      <th>first_device_type</th>\n",
       "      <td>Windows Desktop</td>\n",
       "      <td>object</td>\n",
       "    </tr>\n",
       "    <tr>\n",
       "      <th>first_browser</th>\n",
       "      <td>IE</td>\n",
       "      <td>object</td>\n",
       "    </tr>\n",
       "    <tr>\n",
       "      <th>country_destination</th>\n",
       "      <td>NDF</td>\n",
       "      <td>object</td>\n",
       "    </tr>\n",
       "  </tbody>\n",
       "</table>\n",
       "</div>"
      ],
      "text/plain": [
       "                                  143610   0     \n",
       "id                            6grwoxve4b   object\n",
       "date_account_created          2014-01-19   object\n",
       "timestamp_first_active    20140119100427    int64\n",
       "date_first_booking            2015-06-29   object\n",
       "gender                         -unknown-   object\n",
       "age                               54.000  float64\n",
       "signup_method                      basic   object\n",
       "signup_flow                            0    int64\n",
       "language                              en   object\n",
       "affiliate_channel                content   object\n",
       "affiliate_provider                google   object\n",
       "first_affiliate_tracked              omg   object\n",
       "signup_app                           Web   object\n",
       "first_device_type        Windows Desktop   object\n",
       "first_browser                         IE   object\n",
       "country_destination                  NDF   object"
      ]
     },
     "execution_count": 18,
     "metadata": {},
     "output_type": "execute_result"
    }
   ],
   "source": [
    "aux_01 = df_raw.sample().T\n",
    "aux_02 = df_raw.sample().dtypes\n",
    "\n",
    "pd.concat( [aux_01,aux_02], axis=1 )"
   ]
  },
  {
   "cell_type": "code",
   "execution_count": 19,
   "id": "7246dc7f",
   "metadata": {
    "ExecuteTime": {
     "end_time": "2022-02-16T16:07:49.553572Z",
     "start_time": "2022-02-16T16:07:47.132670Z"
    }
   },
   "outputs": [],
   "source": [
    "# df_raw\n",
    "# date_account_created\n",
    "df_raw['date_account_created'] = pd.to_datetime( df_raw['date_account_created'] )\n",
    "\n",
    "# timestamp_first_active\n",
    "df_raw['timestamp_first_active'] = pd.to_datetime( df_raw['timestamp_first_active'], format='%Y%m%d%H%M%S')\n",
    "\n",
    "# date first_booking \n",
    "df_raw['date_first_booking'] = pd.to_datetime( df_raw['date_first_booking'] )  \n",
    "# age \n",
    "df_raw['age'] = df_raw['age'].apply( lambda x: x if pd.isna(x) else int(x) )"
   ]
  },
  {
   "cell_type": "markdown",
   "id": "b92d0450",
   "metadata": {
    "ExecuteTime": {
     "end_time": "2022-02-03T16:28:11.288939Z",
     "start_time": "2022-02-03T16:28:11.267944Z"
    }
   },
   "source": [
    "## 1.6. Check Blanced Data"
   ]
  },
  {
   "cell_type": "code",
   "execution_count": 20,
   "id": "fb97dbca",
   "metadata": {
    "ExecuteTime": {
     "end_time": "2022-02-16T16:07:49.786272Z",
     "start_time": "2022-02-16T16:07:49.736693Z"
    }
   },
   "outputs": [
    {
     "data": {
      "text/plain": [
       "NDF      120216\n",
       "US        61067\n",
       "other      9981\n",
       "FR         4899\n",
       "IT         2791\n",
       "GB         2295\n",
       "ES         2213\n",
       "CA         1391\n",
       "DE         1041\n",
       "NL          751\n",
       "AU          527\n",
       "PT          214\n",
       "Name: country_destination, dtype: int64"
      ]
     },
     "execution_count": 20,
     "metadata": {},
     "output_type": "execute_result"
    }
   ],
   "source": [
    "df_raw['country_destination'].value_counts( )"
   ]
  },
  {
   "cell_type": "markdown",
   "id": "86d98c7e",
   "metadata": {
    "heading_collapsed": true
   },
   "source": [
    "## 1.7. Numerical data "
   ]
  },
  {
   "cell_type": "markdown",
   "id": "ff31855f",
   "metadata": {
    "ExecuteTime": {
     "end_time": "2022-02-08T18:57:41.980954Z",
     "start_time": "2022-02-08T18:57:41.961910Z"
    },
    "heading_collapsed": true,
    "hidden": true
   },
   "source": [
    "### 1.7.1 Users"
   ]
  },
  {
   "cell_type": "code",
   "execution_count": 21,
   "id": "85e3e982",
   "metadata": {
    "ExecuteTime": {
     "end_time": "2022-02-16T16:07:50.051787Z",
     "start_time": "2022-02-16T16:07:49.946600Z"
    },
    "hidden": true
   },
   "outputs": [
    {
     "data": {
      "text/html": [
       "<div>\n",
       "<style scoped>\n",
       "    .dataframe tbody tr th:only-of-type {\n",
       "        vertical-align: middle;\n",
       "    }\n",
       "\n",
       "    .dataframe tbody tr th {\n",
       "        vertical-align: top;\n",
       "    }\n",
       "\n",
       "    .dataframe thead th {\n",
       "        text-align: right;\n",
       "    }\n",
       "</style>\n",
       "<table border=\"1\" class=\"dataframe\">\n",
       "  <thead>\n",
       "    <tr style=\"text-align: right;\">\n",
       "      <th></th>\n",
       "      <th>type</th>\n",
       "      <th>Unique_Values</th>\n",
       "      <th>Mean</th>\n",
       "      <th>Median</th>\n",
       "      <th>Std</th>\n",
       "      <th>Min</th>\n",
       "      <th>Max</th>\n",
       "      <th>Range</th>\n",
       "      <th>Skew</th>\n",
       "      <th>Kurtosis</th>\n",
       "    </tr>\n",
       "  </thead>\n",
       "  <tbody>\n",
       "    <tr>\n",
       "      <th>age</th>\n",
       "      <td>int64</td>\n",
       "      <td>129</td>\n",
       "      <td>48.341</td>\n",
       "      <td>40.000</td>\n",
       "      <td>118.589</td>\n",
       "      <td>1</td>\n",
       "      <td>2014</td>\n",
       "      <td>2013</td>\n",
       "      <td>16.286</td>\n",
       "      <td>266.595</td>\n",
       "    </tr>\n",
       "    <tr>\n",
       "      <th>signup_flow</th>\n",
       "      <td>int64</td>\n",
       "      <td>17</td>\n",
       "      <td>3.151</td>\n",
       "      <td>0.000</td>\n",
       "      <td>7.544</td>\n",
       "      <td>0</td>\n",
       "      <td>25</td>\n",
       "      <td>25</td>\n",
       "      <td>2.287</td>\n",
       "      <td>3.568</td>\n",
       "    </tr>\n",
       "  </tbody>\n",
       "</table>\n",
       "</div>"
      ],
      "text/plain": [
       "              type  Unique_Values   Mean  Median     Std  Min   Max  Range  \\\n",
       "age          int64            129 48.341  40.000 118.589    1  2014   2013   \n",
       "signup_flow  int64             17  3.151   0.000   7.544    0    25     25   \n",
       "\n",
       "              Skew  Kurtosis  \n",
       "age         16.286   266.595  \n",
       "signup_flow  2.287     3.568  "
      ]
     },
     "execution_count": 21,
     "metadata": {},
     "output_type": "execute_result"
    }
   ],
   "source": [
    "# df_raw\n",
    "num_attributes = df_raw.select_dtypes( include=['int64','float64'] )\n",
    "cat_attributes = df_raw.select_dtypes( include='object')\n",
    "time_attributes = df_raw.select_dtypes( include='datetime64[ns]')\n",
    "\n",
    "numeric_statistics( num_attributes )"
   ]
  },
  {
   "cell_type": "markdown",
   "id": "75e366f5",
   "metadata": {
    "ExecuteTime": {
     "end_time": "2022-02-08T18:57:41.980954Z",
     "start_time": "2022-02-08T18:57:41.961910Z"
    },
    "hidden": true
   },
   "source": [
    "### 1.7.2 Sessions"
   ]
  },
  {
   "cell_type": "code",
   "execution_count": 22,
   "id": "fde40939",
   "metadata": {
    "ExecuteTime": {
     "end_time": "2022-02-16T16:07:52.342918Z",
     "start_time": "2022-02-16T16:07:50.276694Z"
    },
    "hidden": true
   },
   "outputs": [
    {
     "data": {
      "text/html": [
       "<div>\n",
       "<style scoped>\n",
       "    .dataframe tbody tr th:only-of-type {\n",
       "        vertical-align: middle;\n",
       "    }\n",
       "\n",
       "    .dataframe tbody tr th {\n",
       "        vertical-align: top;\n",
       "    }\n",
       "\n",
       "    .dataframe thead th {\n",
       "        text-align: right;\n",
       "    }\n",
       "</style>\n",
       "<table border=\"1\" class=\"dataframe\">\n",
       "  <thead>\n",
       "    <tr style=\"text-align: right;\">\n",
       "      <th></th>\n",
       "      <th>type</th>\n",
       "      <th>Unique_Values</th>\n",
       "      <th>Mean</th>\n",
       "      <th>Median</th>\n",
       "      <th>Std</th>\n",
       "      <th>Min</th>\n",
       "      <th>Max</th>\n",
       "      <th>Range</th>\n",
       "      <th>Skew</th>\n",
       "      <th>Kurtosis</th>\n",
       "    </tr>\n",
       "  </thead>\n",
       "  <tbody>\n",
       "    <tr>\n",
       "      <th>secs_elapsed</th>\n",
       "      <td>float64</td>\n",
       "      <td>318230</td>\n",
       "      <td>19961.825</td>\n",
       "      <td>1369.000</td>\n",
       "      <td>88849.393</td>\n",
       "      <td>0.000</td>\n",
       "      <td>1799977.000</td>\n",
       "      <td>1799977.000</td>\n",
       "      <td>11.138</td>\n",
       "      <td>154.843</td>\n",
       "    </tr>\n",
       "  </tbody>\n",
       "</table>\n",
       "</div>"
      ],
      "text/plain": [
       "                 type  Unique_Values      Mean   Median       Std   Min  \\\n",
       "secs_elapsed  float64         318230 19961.825 1369.000 88849.393 0.000   \n",
       "\n",
       "                     Max       Range   Skew  Kurtosis  \n",
       "secs_elapsed 1799977.000 1799977.000 11.138   154.843  "
      ]
     },
     "execution_count": 22,
     "metadata": {},
     "output_type": "execute_result"
    }
   ],
   "source": [
    "# df_sessions\n",
    "num_attributes_sessions = df_sessions.select_dtypes( include=['int64','float64'] )\n",
    "cat_attributes_sessions = df_sessions.select_dtypes( include='object')\n",
    "time_attributes_sessions = df_sessions.select_dtypes( include='datetime64[ns]')\n",
    "\n",
    "numeric_statistics( num_attributes_sessions )"
   ]
  },
  {
   "cell_type": "markdown",
   "id": "8cfb86ee",
   "metadata": {
    "heading_collapsed": true
   },
   "source": [
    "## 1.8. Categorical data "
   ]
  },
  {
   "cell_type": "markdown",
   "id": "0cb5fd7a",
   "metadata": {
    "ExecuteTime": {
     "end_time": "2022-02-08T18:57:41.980954Z",
     "start_time": "2022-02-08T18:57:41.961910Z"
    },
    "hidden": true
   },
   "source": [
    "### 1.8.1 Users "
   ]
  },
  {
   "cell_type": "code",
   "execution_count": 23,
   "id": "0e75bf6a",
   "metadata": {
    "ExecuteTime": {
     "end_time": "2022-02-16T16:07:53.313998Z",
     "start_time": "2022-02-16T16:07:52.805105Z"
    },
    "hidden": true
   },
   "outputs": [
    {
     "data": {
      "text/html": [
       "<div>\n",
       "<style scoped>\n",
       "    .dataframe tbody tr th:only-of-type {\n",
       "        vertical-align: middle;\n",
       "    }\n",
       "\n",
       "    .dataframe tbody tr th {\n",
       "        vertical-align: top;\n",
       "    }\n",
       "\n",
       "    .dataframe thead th {\n",
       "        text-align: right;\n",
       "    }\n",
       "</style>\n",
       "<table border=\"1\" class=\"dataframe\">\n",
       "  <thead>\n",
       "    <tr style=\"text-align: right;\">\n",
       "      <th></th>\n",
       "      <th>gender</th>\n",
       "      <th>signup_method</th>\n",
       "      <th>language</th>\n",
       "      <th>affiliate_channel</th>\n",
       "      <th>affiliate_provider</th>\n",
       "      <th>first_affiliate_tracked</th>\n",
       "      <th>signup_app</th>\n",
       "      <th>first_device_type</th>\n",
       "      <th>first_browser</th>\n",
       "      <th>country_destination</th>\n",
       "    </tr>\n",
       "  </thead>\n",
       "  <tbody>\n",
       "    <tr>\n",
       "      <th>count</th>\n",
       "      <td>207386</td>\n",
       "      <td>207386</td>\n",
       "      <td>207386</td>\n",
       "      <td>207386</td>\n",
       "      <td>207386</td>\n",
       "      <td>207386</td>\n",
       "      <td>207386</td>\n",
       "      <td>207386</td>\n",
       "      <td>207386</td>\n",
       "      <td>207386</td>\n",
       "    </tr>\n",
       "    <tr>\n",
       "      <th>unique</th>\n",
       "      <td>4</td>\n",
       "      <td>3</td>\n",
       "      <td>25</td>\n",
       "      <td>8</td>\n",
       "      <td>18</td>\n",
       "      <td>7</td>\n",
       "      <td>4</td>\n",
       "      <td>9</td>\n",
       "      <td>52</td>\n",
       "      <td>12</td>\n",
       "    </tr>\n",
       "    <tr>\n",
       "      <th>top</th>\n",
       "      <td>-unknown-</td>\n",
       "      <td>basic</td>\n",
       "      <td>en</td>\n",
       "      <td>direct</td>\n",
       "      <td>direct</td>\n",
       "      <td>untracked</td>\n",
       "      <td>Web</td>\n",
       "      <td>Mac Desktop</td>\n",
       "      <td>Chrome</td>\n",
       "      <td>NDF</td>\n",
       "    </tr>\n",
       "    <tr>\n",
       "      <th>freq</th>\n",
       "      <td>91783</td>\n",
       "      <td>148297</td>\n",
       "      <td>200415</td>\n",
       "      <td>134179</td>\n",
       "      <td>133935</td>\n",
       "      <td>109232</td>\n",
       "      <td>178334</td>\n",
       "      <td>89600</td>\n",
       "      <td>63845</td>\n",
       "      <td>120216</td>\n",
       "    </tr>\n",
       "  </tbody>\n",
       "</table>\n",
       "</div>"
      ],
      "text/plain": [
       "           gender signup_method language affiliate_channel affiliate_provider  \\\n",
       "count      207386        207386   207386            207386             207386   \n",
       "unique          4             3       25                 8                 18   \n",
       "top     -unknown-         basic       en            direct             direct   \n",
       "freq        91783        148297   200415            134179             133935   \n",
       "\n",
       "       first_affiliate_tracked signup_app first_device_type first_browser  \\\n",
       "count                   207386     207386            207386        207386   \n",
       "unique                       7          4                 9            52   \n",
       "top                  untracked        Web       Mac Desktop        Chrome   \n",
       "freq                    109232     178334             89600         63845   \n",
       "\n",
       "       country_destination  \n",
       "count               207386  \n",
       "unique                  12  \n",
       "top                    NDF  \n",
       "freq                120216  "
      ]
     },
     "execution_count": 23,
     "metadata": {},
     "output_type": "execute_result"
    }
   ],
   "source": [
    "# df2\n",
    "cat_attributes.drop('id', axis=1 ).describe()"
   ]
  },
  {
   "cell_type": "code",
   "execution_count": 24,
   "id": "e06a4e62",
   "metadata": {
    "ExecuteTime": {
     "end_time": "2022-02-16T16:08:05.612879Z",
     "start_time": "2022-02-16T16:07:53.320023Z"
    },
    "code_folding": [],
    "hidden": true
   },
   "outputs": [
    {
     "data": {
      "text/plain": [
       "<AxesSubplot:>"
      ]
     },
     "execution_count": 24,
     "metadata": {},
     "output_type": "execute_result"
    },
    {
     "data": {
      "image/png": "[encoded data removed]",
      "text/plain": [
       "<Figure size 936x576 with 2 Axes>"
      ]
     },
     "metadata": {},
     "output_type": "display_data"
    }
   ],
   "source": [
    "cat_attributes_list = cat_attributes.drop( 'id', axis=1 ).columns.tolist()\n",
    "\n",
    "corr_dict = {}\n",
    "for i in range( len ( cat_attributes_list ) ):\n",
    "    corr_list = []\n",
    "    for j in range( len( cat_attributes_list ) ):\n",
    "        ref = cat_attributes_list[i]\n",
    "        feat = cat_attributes_list[j]\n",
    "        \n",
    "        # correlation\n",
    "        corr = cramer_v( cat_attributes[ ref ], cat_attributes[ feat ] )\n",
    "        \n",
    "        # append a list\n",
    "        corr_list.append( corr )\n",
    "    \n",
    "    # appende a correlation list for each ref attributs\n",
    "    corr_dict[ ref ] = corr_list\n",
    "\n",
    "d = pd.DataFrame( corr_dict )\n",
    "d = d.set_index( d.columns)\n",
    "sns.heatmap( d, annot=True )"
   ]
  },
  {
   "cell_type": "markdown",
   "id": "727bba59",
   "metadata": {
    "ExecuteTime": {
     "end_time": "2022-02-08T18:57:41.980954Z",
     "start_time": "2022-02-08T18:57:41.961910Z"
    },
    "hidden": true
   },
   "source": [
    "### 1.8.2 Sessions "
   ]
  },
  {
   "cell_type": "code",
   "execution_count": 25,
   "id": "dafdfbd0",
   "metadata": {
    "ExecuteTime": {
     "end_time": "2022-02-16T16:08:14.775074Z",
     "start_time": "2022-02-16T16:08:06.532725Z"
    },
    "hidden": true
   },
   "outputs": [
    {
     "data": {
      "text/html": [
       "<div>\n",
       "<style scoped>\n",
       "    .dataframe tbody tr th:only-of-type {\n",
       "        vertical-align: middle;\n",
       "    }\n",
       "\n",
       "    .dataframe tbody tr th {\n",
       "        vertical-align: top;\n",
       "    }\n",
       "\n",
       "    .dataframe thead th {\n",
       "        text-align: right;\n",
       "    }\n",
       "</style>\n",
       "<table border=\"1\" class=\"dataframe\">\n",
       "  <thead>\n",
       "    <tr style=\"text-align: right;\">\n",
       "      <th></th>\n",
       "      <th>action</th>\n",
       "      <th>action_type</th>\n",
       "      <th>action_detail</th>\n",
       "      <th>device_type</th>\n",
       "    </tr>\n",
       "  </thead>\n",
       "  <tbody>\n",
       "    <tr>\n",
       "      <th>count</th>\n",
       "      <td>9213930</td>\n",
       "      <td>9213930</td>\n",
       "      <td>9213930</td>\n",
       "      <td>9213930</td>\n",
       "    </tr>\n",
       "    <tr>\n",
       "      <th>unique</th>\n",
       "      <td>347</td>\n",
       "      <td>10</td>\n",
       "      <td>155</td>\n",
       "      <td>14</td>\n",
       "    </tr>\n",
       "    <tr>\n",
       "      <th>top</th>\n",
       "      <td>show</td>\n",
       "      <td>view</td>\n",
       "      <td>view_search_results</td>\n",
       "      <td>Mac Desktop</td>\n",
       "    </tr>\n",
       "    <tr>\n",
       "      <th>freq</th>\n",
       "      <td>2178382</td>\n",
       "      <td>3545621</td>\n",
       "      <td>1770931</td>\n",
       "      <td>3019523</td>\n",
       "    </tr>\n",
       "  </tbody>\n",
       "</table>\n",
       "</div>"
      ],
      "text/plain": [
       "         action action_type        action_detail  device_type\n",
       "count   9213930     9213930              9213930      9213930\n",
       "unique      347          10                  155           14\n",
       "top        show        view  view_search_results  Mac Desktop\n",
       "freq    2178382     3545621              1770931      3019523"
      ]
     },
     "execution_count": 25,
     "metadata": {},
     "output_type": "execute_result"
    }
   ],
   "source": [
    "# df_sessions\n",
    "cat_attributes_sessions.drop( 'user_id', axis=1 ).describe()"
   ]
  },
  {
   "cell_type": "code",
   "execution_count": 26,
   "id": "1bdb8321",
   "metadata": {
    "ExecuteTime": {
     "end_time": "2022-02-16T16:09:24.758779Z",
     "start_time": "2022-02-16T16:08:15.268009Z"
    },
    "code_folding": [],
    "hidden": true
   },
   "outputs": [
    {
     "data": {
      "text/plain": [
       "<AxesSubplot:>"
      ]
     },
     "execution_count": 26,
     "metadata": {},
     "output_type": "execute_result"
    },
    {
     "data": {
      "image/png": "[encoded data removed]",
      "text/plain": [
       "<Figure size 936x576 with 2 Axes>"
      ]
     },
     "metadata": {},
     "output_type": "display_data"
    }
   ],
   "source": [
    "cat_attributes_list = cat_attributes_sessions.drop( 'user_id', axis=1 ).columns.tolist()\n",
    "\n",
    "corr_dict = {}\n",
    "for i in range( len ( cat_attributes_list ) ):\n",
    "    corr_list = []\n",
    "    for j in range( len( cat_attributes_list ) ):\n",
    "        ref = cat_attributes_list[i]\n",
    "        feat = cat_attributes_list[j]\n",
    "        \n",
    "        # correlation\n",
    "        corr = cramer_v( cat_attributes_sessions[ ref ], cat_attributes_sessions[ feat ] )\n",
    "        \n",
    "        # append a list\n",
    "        corr_list.append( corr )\n",
    "    \n",
    "    # appende a correlation list for each ref attributs\n",
    "    corr_dict[ ref ] = corr_list\n",
    "\n",
    "d = pd.DataFrame( corr_dict )\n",
    "d = d.set_index( d.columns)\n",
    "sns.heatmap( d, annot=True )"
   ]
  },
  {
   "cell_type": "markdown",
   "id": "e53d02e7",
   "metadata": {},
   "source": [
    "# 2.0. Featue Engineeging "
   ]
  },
  {
   "cell_type": "code",
   "execution_count": null,
   "id": "f0861744",
   "metadata": {
    "ExecuteTime": {
     "end_time": "2022-02-16T18:43:02.345295Z",
     "start_time": "2022-02-16T18:43:02.345295Z"
    }
   },
   "outputs": [],
   "source": [
    "df2.shape"
   ]
  },
  {
   "cell_type": "code",
   "execution_count": 27,
   "id": "353483ce",
   "metadata": {
    "ExecuteTime": {
     "end_time": "2022-02-16T16:09:25.331506Z",
     "start_time": "2022-02-16T16:09:25.248146Z"
    }
   },
   "outputs": [],
   "source": [
    "df2 = df_raw.copy()"
   ]
  },
  {
   "cell_type": "code",
   "execution_count": 28,
   "id": "17515213",
   "metadata": {
    "ExecuteTime": {
     "end_time": "2022-02-16T16:09:25.951944Z",
     "start_time": "2022-02-16T16:09:25.927377Z"
    }
   },
   "outputs": [
    {
     "data": {
      "text/plain": [
       "id                                 object\n",
       "date_account_created       datetime64[ns]\n",
       "timestamp_first_active     datetime64[ns]\n",
       "date_first_booking         datetime64[ns]\n",
       "gender                             object\n",
       "age                                 int64\n",
       "signup_method                      object\n",
       "signup_flow                         int64\n",
       "language                           object\n",
       "affiliate_channel                  object\n",
       "affiliate_provider                 object\n",
       "first_affiliate_tracked            object\n",
       "signup_app                         object\n",
       "first_device_type                  object\n",
       "first_browser                      object\n",
       "country_destination                object\n",
       "dtype: object"
      ]
     },
     "execution_count": 28,
     "metadata": {},
     "output_type": "execute_result"
    }
   ],
   "source": [
    "df2.dtypes"
   ]
  },
  {
   "cell_type": "markdown",
   "id": "cbde1898",
   "metadata": {},
   "source": [
    "## 2.1. Create New Features"
   ]
  },
  {
   "cell_type": "code",
   "execution_count": 37,
   "id": "fd21cda4",
   "metadata": {
    "ExecuteTime": {
     "end_time": "2022-02-16T17:27:13.355719Z",
     "start_time": "2022-02-16T17:27:05.024646Z"
    }
   },
   "outputs": [],
   "source": [
    "# days from first active uo to first booking\n",
    "df2['first_active'] = pd.to_datetime( df2['timestamp_first_active'].dt.strftime('%Y-%m-%d' ) )\n",
    "df2['days_from_first_active_until_booking'] = ( df2['date_first_booking'] - df2['first_active'] ).apply( lambda x: x.days )\n",
    "\n",
    "# days from first active up to account created\n",
    "df2['days_from_first_active_until_account_created'] = ( df2['date_account_created'] - df2['first_active'] ).apply( lambda x: x.days )\n",
    "\n",
    "# days from account created up to first booking \n",
    "df2['days_from_account_created_until_first_booking'] = ( df2['date_first_booking'] - df2['date_account_created'] ).apply( lambda x: x.days )\n",
    "\n",
    "# ============== active ==============\n",
    "# year of first active\n",
    "df2['year_first_active'] = df2['first_active'].dt.year\n",
    "\n",
    "# month of first active\n",
    "df2['month_first_active'] = df2['first_active'].dt.month\n",
    "\n",
    "# day of first active\n",
    "df2['day_first_active'] = df2['first_active'].dt.day\n",
    "\n",
    "# day of week\n",
    "df2['day_of_week_first_active'] = df2['first_active'].dt.dayofweek\n",
    "\n",
    "# week of year of first active\n",
    "df2['week_first_active'] = df2['first_active'].dt.isocalendar().week.astype( 'int64' )\n",
    "\n",
    "\n",
    "# ============== booking ==============\n",
    "# year of first booking\n",
    "df2['year_first_booking'] = df2['date_first_booking'].dt.year\n",
    "\n",
    "# month of first booking\n",
    "df2['month_first_booking'] = df2['date_first_booking'].dt.month\n",
    "\n",
    "# day of first booking\n",
    "df2['day_first_booking'] = df2['date_first_booking'].dt.day\n",
    "\n",
    "# day of week\n",
    "df2['day_of_week_first_booking'] = df2['date_first_booking'].dt.dayofweek\n",
    "\n",
    "# week of year of first booking\n",
    "df2['week_first_booking'] = df2['date_first_booking'].dt.isocalendar().week.astype('int64')\n",
    "\n",
    "# ============== Account created ==============\n",
    "# year of  account_created\n",
    "df2['year_account_created'] = df2['date_account_created'].dt.year\n",
    "\n",
    "# month of  account_created\n",
    "df2['month_account_created'] = df2['date_account_created'].dt.month\n",
    "\n",
    "# day of  account_created\n",
    "df2['day_account_created'] = df2['date_account_created'].dt.day\n",
    "\n",
    "# day of week\n",
    "df2['day_of_week_account_created'] = df2['date_account_created'].dt.dayofweek\n",
    "\n",
    "# week of year of  account_created\n",
    "df2['week_account_created'] = df2['date_account_created'].dt.isocalendar().week.astype('int64')"
   ]
  },
  {
   "cell_type": "code",
   "execution_count": 38,
   "id": "fd43e5c4",
   "metadata": {
    "ExecuteTime": {
     "end_time": "2022-02-16T17:27:14.128720Z",
     "start_time": "2022-02-16T17:27:14.106727Z"
    }
   },
   "outputs": [
    {
     "data": {
      "text/plain": [
       "(207386, 35)"
      ]
     },
     "execution_count": 38,
     "metadata": {},
     "output_type": "execute_result"
    }
   ],
   "source": [
    "df2.shape"
   ]
  },
  {
   "cell_type": "markdown",
   "id": "2698869d",
   "metadata": {},
   "source": [
    "# 3.0. Data Filtering"
   ]
  },
  {
   "cell_type": "code",
   "execution_count": 39,
   "id": "4517750a",
   "metadata": {
    "ExecuteTime": {
     "end_time": "2022-02-16T17:27:14.869737Z",
     "start_time": "2022-02-16T17:27:14.784726Z"
    }
   },
   "outputs": [],
   "source": [
    "df3 = df2.copy()"
   ]
  },
  {
   "cell_type": "markdown",
   "id": "651a09bd",
   "metadata": {},
   "source": [
    "## 3.1. Rows"
   ]
  },
  {
   "cell_type": "code",
   "execution_count": 40,
   "id": "1c8ba38f",
   "metadata": {
    "ExecuteTime": {
     "end_time": "2022-02-16T17:27:15.564776Z",
     "start_time": "2022-02-16T17:27:15.505718Z"
    }
   },
   "outputs": [],
   "source": [
    "# there are few people with these ages and inside the dataset there is lots of weird values od age.\n",
    "df3 = df3[( df3['age'] > 15 ) & ( df3['age'] <120 )]\n",
    "\n",
    "# df_sessions = df_sessions[df_sessions['secs_elapsed'] > 0]"
   ]
  },
  {
   "cell_type": "markdown",
   "id": "ed3402e8",
   "metadata": {},
   "source": [
    "## 3.2. Columns "
   ]
  },
  {
   "cell_type": "code",
   "execution_count": 45,
   "id": "75292baf",
   "metadata": {
    "ExecuteTime": {
     "end_time": "2022-02-16T17:30:09.662024Z",
     "start_time": "2022-02-16T17:30:09.609986Z"
    }
   },
   "outputs": [],
   "source": [
    "# dropping columns which was used to create new columns\n",
    "cols = ['date_account_created','timestamp_first_active','date_first_booking','first_active']\n",
    "df3.drop( cols, axis=1, inplace=True )"
   ]
  },
  {
   "cell_type": "markdown",
   "id": "01c5e648",
   "metadata": {},
   "source": [
    "# 4.0. EDA"
   ]
  },
  {
   "cell_type": "code",
   "execution_count": 46,
   "id": "aacc1c35",
   "metadata": {
    "ExecuteTime": {
     "end_time": "2022-02-16T17:30:11.477957Z",
     "start_time": "2022-02-16T17:30:11.431917Z"
    }
   },
   "outputs": [],
   "source": [
    "df4 = df3.copy()"
   ]
  },
  {
   "cell_type": "markdown",
   "id": "c50928b7",
   "metadata": {},
   "source": [
    "# 5.0. Data Preparation "
   ]
  },
  {
   "cell_type": "code",
   "execution_count": 47,
   "id": "a771bc8d",
   "metadata": {
    "ExecuteTime": {
     "end_time": "2022-02-16T17:30:13.015782Z",
     "start_time": "2022-02-16T17:30:12.969775Z"
    }
   },
   "outputs": [],
   "source": [
    "df5 = df4.copy()"
   ]
  },
  {
   "cell_type": "code",
   "execution_count": 69,
   "id": "e29d9ae4",
   "metadata": {
    "ExecuteTime": {
     "end_time": "2022-02-16T18:25:55.997942Z",
     "start_time": "2022-02-16T18:25:54.943922Z"
    }
   },
   "outputs": [],
   "source": [
    "# encoder\n",
    "on = OneHotEncoder()\n",
    "\n",
    "# numerical\n",
    "col_num = df5.select_dtypes( include=['int64','float64'] ).columns.tolist()\n",
    "\n",
    "# categorical\n",
    "col_cat = df5.select_dtypes( exclude=['int64','float64','datetime64[ns]'] ).drop( ['id','country_destination'], axis=1 ).columns.tolist()\n",
    "\n",
    "# encoding\n",
    "df5_dummy = pd.DataFrame( on.fit_transform( df4[col_cat]).toarray(), index=df5.index )\n",
    "\n",
    "# join numerical and categorical\n",
    "df52 = pd.concat( [df5[col_num], df5_dummy], axis=1 )"
   ]
  },
  {
   "cell_type": "markdown",
   "id": "e487012e",
   "metadata": {},
   "source": [
    "## 5.1. Balanced Dataset"
   ]
  },
  {
   "cell_type": "markdown",
   "id": "f232e215",
   "metadata": {
    "heading_collapsed": true
   },
   "source": [
    "### 5.1. Random Undersampling"
   ]
  },
  {
   "cell_type": "code",
   "execution_count": 57,
   "id": "10806752",
   "metadata": {
    "ExecuteTime": {
     "end_time": "2022-02-16T18:01:32.994139Z",
     "start_time": "2022-02-16T18:01:32.066275Z"
    },
    "hidden": true
   },
   "outputs": [],
   "source": [
    "# ratio balanded (it's need to set all the variable to run well)\n",
    "ratio_balanced = {'NDF': 1000}\n",
    "undersampling = under_sampling.RandomUnderSampler( sampling_strategy=ratio_balanced, random_state=32 )\n",
    "\n",
    "# difine sample\n",
    "undersampling = under_sampling.RandomUnderSampler( sampling_strategy='auto', random_state=32 )\n",
    "\n",
    "# apply sampler\n",
    "x_under, y_under = undersampling.fit_resample( df5, df5['country_destination'] )"
   ]
  },
  {
   "cell_type": "markdown",
   "id": "d56a05e9",
   "metadata": {
    "heading_collapsed": true
   },
   "source": [
    "### 5.2. Random Oversampling "
   ]
  },
  {
   "cell_type": "code",
   "execution_count": 59,
   "id": "c02c1d39",
   "metadata": {
    "ExecuteTime": {
     "end_time": "2022-02-16T18:04:07.550750Z",
     "start_time": "2022-02-16T18:04:00.088880Z"
    },
    "hidden": true
   },
   "outputs": [],
   "source": [
    "# difine sample\n",
    "oversampling = over_sampling.RandomOverSampler( sampling_strategy='auto', random_state=32 )\n",
    "\n",
    "# apply sampler\n",
    "x_over, y_over = oversampling.fit_resample( df5, df5['country_destination'] )"
   ]
  },
  {
   "cell_type": "code",
   "execution_count": 60,
   "id": "fa7a4bd5",
   "metadata": {
    "ExecuteTime": {
     "end_time": "2022-02-16T18:05:38.292505Z",
     "start_time": "2022-02-16T18:05:38.269506Z"
    },
    "hidden": true
   },
   "outputs": [
    {
     "data": {
      "text/plain": [
       "NDF      119807\n",
       "US        60800\n",
       "other      9935\n",
       "FR         4881\n",
       "IT         2776\n",
       "GB         2285\n",
       "ES         2203\n",
       "CA         1385\n",
       "DE         1033\n",
       "NL          746\n",
       "AU          526\n",
       "PT          213\n",
       "Name: country_destination, dtype: int64"
      ]
     },
     "execution_count": 60,
     "metadata": {},
     "output_type": "execute_result"
    }
   ],
   "source": [
    "df5['country_destination'].value_counts()"
   ]
  },
  {
   "cell_type": "code",
   "execution_count": 62,
   "id": "3003c463",
   "metadata": {
    "ExecuteTime": {
     "end_time": "2022-02-16T18:05:55.229620Z",
     "start_time": "2022-02-16T18:05:55.110620Z"
    },
    "hidden": true
   },
   "outputs": [
    {
     "data": {
      "text/plain": [
       "NDF      119807\n",
       "US       119807\n",
       "other    119807\n",
       "CA       119807\n",
       "FR       119807\n",
       "ES       119807\n",
       "GB       119807\n",
       "IT       119807\n",
       "PT       119807\n",
       "NL       119807\n",
       "DE       119807\n",
       "AU       119807\n",
       "Name: country_destination, dtype: int64"
      ]
     },
     "execution_count": 62,
     "metadata": {},
     "output_type": "execute_result"
    }
   ],
   "source": [
    "y_over.value_counts()"
   ]
  },
  {
   "cell_type": "markdown",
   "id": "2f849272",
   "metadata": {},
   "source": [
    "### 5.3. SMOTE + Tomeklink"
   ]
  },
  {
   "cell_type": "code",
   "execution_count": 79,
   "id": "a6f2835c",
   "metadata": {
    "ExecuteTime": {
     "end_time": "2022-02-16T18:47:20.061526Z",
     "start_time": "2022-02-16T18:47:20.052525Z"
    }
   },
   "outputs": [
    {
     "data": {
      "text/plain": [
       "4.026170105686965"
      ]
     },
     "execution_count": 79,
     "metadata": {},
     "output_type": "execute_result"
    }
   ],
   "source": [
    "40000/9935"
   ]
  },
  {
   "cell_type": "code",
   "execution_count": 80,
   "id": "fba93340",
   "metadata": {
    "ExecuteTime": {
     "end_time": "2022-02-16T18:48:00.218693Z",
     "start_time": "2022-02-16T18:48:00.193697Z"
    }
   },
   "outputs": [
    {
     "data": {
      "text/plain": [
       "{'NDF': 119807,\n",
       " 'US': 60800,\n",
       " 'other': 9935,\n",
       " 'FR': 4881,\n",
       " 'IT': 2776,\n",
       " 'GB': 2285,\n",
       " 'ES': 2203,\n",
       " 'CA': 1385,\n",
       " 'DE': 1033,\n",
       " 'NL': 746,\n",
       " 'AU': 526,\n",
       " 'PT': 213}"
      ]
     },
     "execution_count": 80,
     "metadata": {},
     "output_type": "execute_result"
    }
   ],
   "source": [
    "df5['country_destination'].value_counts().to_dict()"
   ]
  },
  {
   "cell_type": "code",
   "execution_count": 86,
   "id": "fc76ab38",
   "metadata": {
    "ExecuteTime": {
     "end_time": "2022-02-16T18:52:02.685947Z",
     "start_time": "2022-02-16T18:52:02.669943Z"
    }
   },
   "outputs": [
    {
     "data": {
      "text/plain": [
       "{'NDF': 119807,\n",
       " 'US': 60800,\n",
       " 'other': 59610,\n",
       " 'FR': 58572,\n",
       " 'IT': 55520,\n",
       " 'GB': 68550,\n",
       " 'ES': 66090,\n",
       " 'CA': 55400,\n",
       " 'DE': 46485,\n",
       " 'NL': 59680,\n",
       " 'AU': 44710,\n",
       " 'PT': 42600}"
      ]
     },
     "execution_count": 86,
     "metadata": {},
     "output_type": "execute_result"
    }
   ],
   "source": [
    "ratio = {'NDF': 119807,\n",
    " 'US': 60800,\n",
    " 'other': 6*9935,\n",
    " 'FR': 12*4881,\n",
    " 'IT': 20*2776,\n",
    " 'GB': 30*2285,\n",
    " 'ES': 30*2203,\n",
    " 'CA': 40*1385,\n",
    " 'DE': 45*1033,\n",
    " 'NL': 80*746,\n",
    " 'AU': 85*526,\n",
    " 'PT': 200*213}\n",
    "\n",
    "ratio"
   ]
  },
  {
   "cell_type": "code",
   "execution_count": null,
   "id": "83820cf9",
   "metadata": {
    "ExecuteTime": {
     "start_time": "2022-02-16T18:52:03.639Z"
    }
   },
   "outputs": [
    {
     "name": "stderr",
     "output_type": "stream",
     "text": [
      "C:\\Users\\Marcos\\Projects\\airbnb_prediction\\venv\\lib\\site-packages\\sklearn\\utils\\validation.py:1688: FutureWarning: Feature names only support names that are all strings. Got feature names with dtypes: ['int', 'str']. An error will be raised in 1.2.\n",
      "  warnings.warn(\n"
     ]
    }
   ],
   "source": [
    "# difine\n",
    "smt = SMOTETomek( sampling_strategy=ratio, random_state=32, n_jobs=-1 )\n",
    "\n",
    "# apply\n",
    "x_smt, y_smt = smt.fit_resample( df52, df4['country_destination'] )"
   ]
  },
  {
   "cell_type": "code",
   "execution_count": null,
   "id": "56f60087",
   "metadata": {
    "ExecuteTime": {
     "start_time": "2022-02-16T18:52:06.448Z"
    }
   },
   "outputs": [],
   "source": [
    "# numerical data\n",
    "df53 = x_smt[ col_num ]\n",
    "\n",
    "# categorical data\n",
    "df54 = x_smt.drop( col_num, axis=1 )\n",
    "df55 = pd.DataFrame( ohe.inverse_transform( df44 ), columns=col_cat, index=df44.index )\n",
    "\n",
    "# join numerical categorical\n",
    "df56 = pd.concat( [df52, df55], axis=1 )\n",
    "df56['country_destination'] = y_smt"
   ]
  },
  {
   "cell_type": "code",
   "execution_count": null,
   "id": "a9471ca7",
   "metadata": {},
   "outputs": [],
   "source": []
  },
  {
   "cell_type": "code",
   "execution_count": null,
   "id": "6509a1b0",
   "metadata": {},
   "outputs": [],
   "source": []
  },
  {
   "cell_type": "code",
   "execution_count": 141,
   "id": "a37118a5",
   "metadata": {
    "ExecuteTime": {
     "end_time": "2022-02-10T16:47:59.359417Z",
     "start_time": "2022-02-10T16:47:58.964264Z"
    }
   },
   "outputs": [],
   "source": [
    "df5_dummys = pd.get_dummies( df5.drop( ['id','country_destination'], axis=1 ) )\n",
    "\n",
    "df5 = pd.concat( [ df5[['id','country_destination']], df5_dummys], axis=1 )"
   ]
  },
  {
   "cell_type": "code",
   "execution_count": 142,
   "id": "923e960b",
   "metadata": {
    "ExecuteTime": {
     "end_time": "2022-02-10T16:48:01.599126Z",
     "start_time": "2022-02-10T16:48:01.585881Z"
    }
   },
   "outputs": [
    {
     "data": {
      "text/plain": [
       "(206593, 156)"
      ]
     },
     "execution_count": 142,
     "metadata": {},
     "output_type": "execute_result"
    }
   ],
   "source": [
    "df5.shape"
   ]
  },
  {
   "cell_type": "markdown",
   "id": "e21f6e4c",
   "metadata": {
    "heading_collapsed": true
   },
   "source": [
    "# 6.0. Feature Selection"
   ]
  },
  {
   "cell_type": "code",
   "execution_count": 143,
   "id": "6463348b",
   "metadata": {
    "ExecuteTime": {
     "end_time": "2022-02-10T16:48:03.747532Z",
     "start_time": "2022-02-10T16:48:03.687028Z"
    },
    "hidden": true
   },
   "outputs": [],
   "source": [
    "df6 = df5.copy()"
   ]
  },
  {
   "cell_type": "code",
   "execution_count": 144,
   "id": "c0f65313",
   "metadata": {
    "ExecuteTime": {
     "end_time": "2022-02-10T16:48:05.827070Z",
     "start_time": "2022-02-10T16:48:05.814053Z"
    },
    "hidden": true
   },
   "outputs": [
    {
     "data": {
      "text/plain": [
       "Index(['id', 'country_destination', 'date_account_created',\n",
       "       'timestamp_first_active', 'date_first_booking', 'age', 'signup_flow',\n",
       "       'first_active', 'days_from_frist_active_until_booking',\n",
       "       'days_from_first_active_until_account_created',\n",
       "       ...\n",
       "       'first_browser_SeaMonkey', 'first_browser_Silk',\n",
       "       'first_browser_SiteKiosk', 'first_browser_SlimBrowser',\n",
       "       'first_browser_Sogou Explorer', 'first_browser_Stainless',\n",
       "       'first_browser_TenFourFox', 'first_browser_TheWorld Browser',\n",
       "       'first_browser_Yandex.Browser', 'first_browser_wOSBrowser'],\n",
       "      dtype='object', length=156)"
      ]
     },
     "execution_count": 144,
     "metadata": {},
     "output_type": "execute_result"
    }
   ],
   "source": [
    "df6.columns"
   ]
  },
  {
   "cell_type": "code",
   "execution_count": 146,
   "id": "2aa093a3",
   "metadata": {
    "ExecuteTime": {
     "end_time": "2022-02-10T16:48:10.310781Z",
     "start_time": "2022-02-10T16:48:10.247672Z"
    },
    "hidden": true
   },
   "outputs": [],
   "source": [
    "X = df6.drop( ['id','country_destination'], axis=1 )\n",
    "y = df6['country_destination'].copy()"
   ]
  },
  {
   "cell_type": "markdown",
   "id": "9849c5c5",
   "metadata": {
    "ExecuteTime": {
     "end_time": "2022-02-03T18:03:58.034759Z",
     "start_time": "2022-02-03T18:03:58.006716Z"
    },
    "heading_collapsed": true
   },
   "source": [
    "# 7.0. Machine Learning"
   ]
  },
  {
   "cell_type": "code",
   "execution_count": 147,
   "id": "b45c1676",
   "metadata": {
    "ExecuteTime": {
     "end_time": "2022-02-10T16:48:26.436791Z",
     "start_time": "2022-02-10T16:48:26.193621Z"
    },
    "hidden": true
   },
   "outputs": [],
   "source": [
    "X_train, X_val, y_train, y_val = train_test_split( X, y, test_size=0.2, random_state=32 )"
   ]
  },
  {
   "cell_type": "markdown",
   "id": "03d597e5",
   "metadata": {
    "heading_collapsed": true,
    "hidden": true
   },
   "source": [
    "## 7.1. Baseline model"
   ]
  },
  {
   "cell_type": "code",
   "execution_count": 148,
   "id": "9f3cb2e7",
   "metadata": {
    "ExecuteTime": {
     "end_time": "2022-02-10T16:48:42.176643Z",
     "start_time": "2022-02-10T16:48:42.134647Z"
    },
    "hidden": true
   },
   "outputs": [],
   "source": [
    "index = df5['country_destination'].value_counts().index\n",
    "values = df5['country_destination'].value_counts( normalize=True ).values"
   ]
  },
  {
   "cell_type": "code",
   "execution_count": 149,
   "id": "356d0737",
   "metadata": {
    "ExecuteTime": {
     "end_time": "2022-02-10T16:48:48.478449Z",
     "start_time": "2022-02-10T16:48:48.423411Z"
    },
    "hidden": true
   },
   "outputs": [],
   "source": [
    "yhat_random = random.choices( population=index, weights=values, k=y_val.shape[0] )"
   ]
  },
  {
   "cell_type": "code",
   "execution_count": 150,
   "id": "7f0be112",
   "metadata": {
    "ExecuteTime": {
     "end_time": "2022-02-10T16:48:50.729396Z",
     "start_time": "2022-02-10T16:48:50.705407Z"
    },
    "hidden": true
   },
   "outputs": [],
   "source": [
    "# prediction prepare\n",
    "y_val_random = y_val.to_numpy()"
   ]
  },
  {
   "cell_type": "code",
   "execution_count": 151,
   "id": "496167cd",
   "metadata": {
    "ExecuteTime": {
     "end_time": "2022-02-10T16:48:55.004867Z",
     "start_time": "2022-02-10T16:48:52.851056Z"
    },
    "hidden": true
   },
   "outputs": [
    {
     "name": "stdout",
     "output_type": "stream",
     "text": [
      "  model  Accuracy  BalancedAccuracy  KappaScore\n",
      "0    NN     0.426             0.082       0.001\n",
      "              precision    recall  f1-score   support\n",
      "\n",
      "          AU       0.00      0.00      0.00       101\n",
      "          CA       0.00      0.00      0.00       265\n",
      "          DE       0.00      0.00      0.00       234\n",
      "          ES       0.01      0.01      0.01       385\n",
      "          FR       0.02      0.03      0.02       971\n",
      "          GB       0.01      0.01      0.01       457\n",
      "          IT       0.01      0.01      0.01       553\n",
      "         NDF       0.58      0.58      0.58     23927\n",
      "          NL       0.00      0.00      0.00       143\n",
      "          PT       0.00      0.00      0.00        54\n",
      "          US       0.30      0.29      0.29     12249\n",
      "       other       0.05      0.05      0.05      1980\n",
      "\n",
      "    accuracy                           0.43     41319\n",
      "   macro avg       0.08      0.08      0.08     41319\n",
      "weighted avg       0.43      0.43      0.43     41319\n",
      "\n"
     ]
    },
    {
     "data": {
      "image/png": "[encoded data removed]",
      "text/plain": [
       "<Figure size 1296x504 with 2 Axes>"
      ]
     },
     "metadata": {},
     "output_type": "display_data"
    }
   ],
   "source": [
    "# balanced accuracy, accuracy, kappa score \n",
    "dic = {\n",
    "    'model': 'NN',\n",
    "    'Accuracy': accuracy_score( y_val_random, yhat_random ),\n",
    "    'BalancedAccuracy': balanced_accuracy_score( y_val_random, yhat_random ),\n",
    "    'KappaScore': cohen_kappa_score( y_val_random, yhat_random )\n",
    "}\n",
    "print( pd.DataFrame( dic, index=[0] ) )\n",
    "print( classification_report( y_val_random, yhat_random ) )\n",
    "\n",
    "# confusion matrix\n",
    "plot_confusion_matrix(y_val_random, yhat_random, figsize=(18,7) );"
   ]
  },
  {
   "cell_type": "markdown",
   "id": "78a6000a",
   "metadata": {
    "heading_collapsed": true,
    "hidden": true
   },
   "source": [
    "## 7.2. NN "
   ]
  },
  {
   "cell_type": "code",
   "execution_count": 152,
   "id": "bc00beae",
   "metadata": {
    "ExecuteTime": {
     "end_time": "2022-02-10T16:49:19.553562Z",
     "start_time": "2022-02-10T16:49:19.470566Z"
    },
    "hidden": true
   },
   "outputs": [],
   "source": [
    "on = OneHotEncoder()\n",
    "y_train_nn = on.fit_transform( y_train.values.reshape(-1,1) ).toarray()"
   ]
  },
  {
   "cell_type": "code",
   "execution_count": 156,
   "id": "f6369823",
   "metadata": {
    "ExecuteTime": {
     "end_time": "2022-02-10T16:50:43.286185Z",
     "start_time": "2022-02-10T16:50:43.262190Z"
    },
    "hidden": true
   },
   "outputs": [
    {
     "name": "stdout",
     "output_type": "stream",
     "text": [
      "Number of Rows: 165274\n",
      "Number of Features: 150\n",
      "Number of Classes: 12\n"
     ]
    }
   ],
   "source": [
    "print( 'Number of Rows: {}'.format( X_train.shape[0] ) )\n",
    "print( 'Number of Features: {}'.format( X_train.shape[1] ) )\n",
    "print( 'Number of Classes: {}'.format( y_train.nunique() ) )"
   ]
  },
  {
   "cell_type": "code",
   "execution_count": 157,
   "id": "484371e4",
   "metadata": {
    "ExecuteTime": {
     "end_time": "2022-02-10T17:03:58.430898Z",
     "start_time": "2022-02-10T16:51:05.750867Z"
    },
    "hidden": true
   },
   "outputs": [
    {
     "data": {
      "text/plain": [
       "<keras.callbacks.History at 0x1a49d84bca0>"
      ]
     },
     "execution_count": 157,
     "metadata": {},
     "output_type": "execute_result"
    }
   ],
   "source": [
    "# model definition\n",
    "model = models.Sequential()\n",
    "model.add( layers.Dense( 256, input_dim=X_train.shape[1], activation='relu' ) )\n",
    "model.add( layers.Dense( 12, activation='softmax' ) )\n",
    "\n",
    "# model compile\n",
    "model.compile( loss='categorical_crossentropy', optimizer='adam', metrics=['accuracy'] )\n",
    "\n",
    "# train model\n",
    "model.fit( X_train, y_train_nn, epochs=100, verbose=0 )"
   ]
  },
  {
   "cell_type": "markdown",
   "id": "9fdfce67",
   "metadata": {
    "heading_collapsed": true
   },
   "source": [
    "# 8.0. Model Performance "
   ]
  },
  {
   "cell_type": "code",
   "execution_count": 158,
   "id": "b506c570",
   "metadata": {
    "ExecuteTime": {
     "end_time": "2022-02-10T17:04:02.843634Z",
     "start_time": "2022-02-10T17:04:00.692633Z"
    },
    "hidden": true
   },
   "outputs": [],
   "source": [
    "# prediction\n",
    "pred_nn = model.predict( X_val )\n",
    "\n",
    "# invert prediction\n",
    "yhat_nn =  on.inverse_transform( pred_nn )\n",
    "\n",
    "# prediction prepare\n",
    "y_val_nn = y_val.to_numpy()\n",
    "yhat_nn = yhat_nn.reshape( 1,-1 )[0]"
   ]
  },
  {
   "cell_type": "code",
   "execution_count": 159,
   "id": "3f858d41",
   "metadata": {
    "ExecuteTime": {
     "end_time": "2022-02-10T17:04:08.166284Z",
     "start_time": "2022-02-10T17:04:05.529014Z"
    },
    "hidden": true
   },
   "outputs": [
    {
     "name": "stdout",
     "output_type": "stream",
     "text": [
      "  model  Accuracy  BalancedAccuracy  KappaScore\n",
      "0    NN     0.875             0.167       0.769\n"
     ]
    },
    {
     "name": "stderr",
     "output_type": "stream",
     "text": [
      "C:\\Users\\Marcos\\Projects\\airbnb_prediction\\venv\\lib\\site-packages\\sklearn\\metrics\\_classification.py:1318: UndefinedMetricWarning: Precision and F-score are ill-defined and being set to 0.0 in labels with no predicted samples. Use `zero_division` parameter to control this behavior.\n",
      "  _warn_prf(average, modifier, msg_start, len(result))\n",
      "C:\\Users\\Marcos\\Projects\\airbnb_prediction\\venv\\lib\\site-packages\\sklearn\\metrics\\_classification.py:1318: UndefinedMetricWarning: Precision and F-score are ill-defined and being set to 0.0 in labels with no predicted samples. Use `zero_division` parameter to control this behavior.\n",
      "  _warn_prf(average, modifier, msg_start, len(result))\n",
      "C:\\Users\\Marcos\\Projects\\airbnb_prediction\\venv\\lib\\site-packages\\sklearn\\metrics\\_classification.py:1318: UndefinedMetricWarning: Precision and F-score are ill-defined and being set to 0.0 in labels with no predicted samples. Use `zero_division` parameter to control this behavior.\n",
      "  _warn_prf(average, modifier, msg_start, len(result))\n"
     ]
    },
    {
     "name": "stdout",
     "output_type": "stream",
     "text": [
      "              precision    recall  f1-score   support\n",
      "\n",
      "          AU       0.00      0.00      0.00       101\n",
      "          CA       0.00      0.00      0.00       265\n",
      "          DE       0.00      0.00      0.00       234\n",
      "          ES       0.00      0.00      0.00       385\n",
      "          FR       0.00      0.00      0.00       971\n",
      "          GB       0.00      0.00      0.00       457\n",
      "          IT       0.00      0.00      0.00       553\n",
      "         NDF       1.00      1.00      1.00     23927\n",
      "          NL       0.00      0.00      0.00       143\n",
      "          PT       0.00      0.00      0.00        54\n",
      "          US       0.70      1.00      0.83     12249\n",
      "       other       0.00      0.00      0.00      1980\n",
      "\n",
      "    accuracy                           0.88     41319\n",
      "   macro avg       0.14      0.17      0.15     41319\n",
      "weighted avg       0.79      0.88      0.82     41319\n",
      "\n"
     ]
    },
    {
     "data": {
      "image/png": "[encoded data removed]",
      "text/plain": [
       "<Figure size 1296x504 with 2 Axes>"
      ]
     },
     "metadata": {},
     "output_type": "display_data"
    }
   ],
   "source": [
    "# balanced accuracy, accuracy, kappa score \n",
    "dic = {\n",
    "    'model': 'NN',\n",
    "    'Accuracy': accuracy_score( y_val_nn, yhat_nn ),\n",
    "    'BalancedAccuracy': balanced_accuracy_score( y_val_nn, yhat_nn ),\n",
    "    'KappaScore': cohen_kappa_score( y_val_nn, yhat_nn )\n",
    "}\n",
    "print( pd.DataFrame( dic, index=[0] ) )\n",
    "print( classification_report( y_val_nn, yhat_nn ) )\n",
    "\n",
    "# confusion matrix\n",
    "plot_confusion_matrix(y_val_nn, yhat_nn, figsize=(18,7) );"
   ]
  },
  {
   "cell_type": "markdown",
   "id": "6987d138",
   "metadata": {
    "heading_collapsed": true,
    "hidden": true
   },
   "source": [
    "## 8.1. Cross Validation "
   ]
  },
  {
   "cell_type": "code",
   "execution_count": null,
   "id": "aec63260",
   "metadata": {
    "ExecuteTime": {
     "end_time": "2022-02-05T16:34:23.289528Z",
     "start_time": "2022-02-05T16:17:43.604351Z"
    },
    "hidden": true
   },
   "outputs": [],
   "source": [
    "# generate k-fold\n",
    "num_folds = 5\n",
    "kfold = StratifiedKFold( n_splits=num_folds, shuffle=True, random_state=32 )\n",
    "\n",
    "balanced_acc_list = []\n",
    "kappa_acc_list = []\n",
    "\n",
    "i = 1\n",
    "\n",
    "for train_ix, val_ix in kfold.split( X_train, y_train ):\n",
    "    print( 'Fold Number: {}/{}'.format( i, num_folds ) )\n",
    "    \n",
    "    # get fold\n",
    "    X_train_fold = X_train.iloc[train_ix]\n",
    "    y_train_fold = y_train.iloc[train_ix]\n",
    "    \n",
    "    x_val_fold = X_train.iloc[val_ix]\n",
    "    y_val_fold = y_train.iloc[val_ix]\n",
    "    \n",
    "    # target hot-encoding\n",
    "    ohe = OneHotEncoder()\n",
    "    y_train_fold_nn = ohe.fit_transform( y_train_fold.values.reshape( -1, 1 ) ).toarray()\n",
    "\n",
    "    # model definition\n",
    "    model = models.Sequential()\n",
    "    model.add( layers.Dense( 256, input_dim=X_train.shape[1], activation='relu' ) )\n",
    "    model.add( layers.Dense( 11, activation='softmax') )\n",
    "\n",
    "    # compile model\n",
    "    model.compile( loss='categorical_crossentropy', optimizer='adam', metrics=['accuracy'] )\n",
    "\n",
    "    # training model\n",
    "    model.fit( X_train_fold, y_train_fold_nn, epochs=100, batch_size=32, verbose=0 )\n",
    "\n",
    "    # prediction\n",
    "    pred_nn = model.predict( x_val_fold )\n",
    "    yhat_nn = ohe.inverse_transform( pred_nn )\n",
    "    \n",
    "    # prepare data\n",
    "    y_test_nn = y_val_fold.to_numpy()\n",
    "    yhat_nn = yhat_nn.reshape( 1, -1 )[0]\n",
    "\n",
    "    # metrics\n",
    "    ## Balanced Accuracy \n",
    "    balanced_acc_nn = balanced_accuracy_score( y_test_nn, yhat_nn )\n",
    "    balanced_acc_list.append( balanced_acc_nn )\n",
    "    \n",
    "    ## Kappa Metrics\n",
    "    kappa_acc_nn = cohen_kappa_score( y_test_nn, yhat_nn )\n",
    "    kappa_acc_list.append( kappa_acc_nn )\n",
    "    \n",
    "    i += 1\n",
    "\n",
    "print(f'Avg Balanced Accuracy: {np.mean( balanced_acc_list )} +/- {np.std( balanced_acc_list )}' )\n",
    "print(f'Avg Kappa: {np.mean( kappa_acc_list )} +/- {np.std( kappa_acc_list )}' )"
   ]
  },
  {
   "cell_type": "code",
   "execution_count": null,
   "id": "848e4d2e",
   "metadata": {
    "hidden": true
   },
   "outputs": [],
   "source": []
  },
  {
   "cell_type": "code",
   "execution_count": null,
   "id": "35df6e8e",
   "metadata": {
    "hidden": true
   },
   "outputs": [],
   "source": []
  },
  {
   "cell_type": "code",
   "execution_count": null,
   "id": "3b3b0b50",
   "metadata": {
    "hidden": true
   },
   "outputs": [],
   "source": []
  },
  {
   "cell_type": "code",
   "execution_count": null,
   "id": "d6b63dd5",
   "metadata": {
    "hidden": true
   },
   "outputs": [],
   "source": []
  },
  {
   "cell_type": "code",
   "execution_count": null,
   "id": "d3dca05b",
   "metadata": {
    "hidden": true
   },
   "outputs": [],
   "source": []
  },
  {
   "cell_type": "code",
   "execution_count": null,
   "id": "62c8235e",
   "metadata": {
    "hidden": true
   },
   "outputs": [],
   "source": []
  },
  {
   "cell_type": "code",
   "execution_count": null,
   "id": "b00e1c55",
   "metadata": {
    "hidden": true
   },
   "outputs": [],
   "source": []
  },
  {
   "cell_type": "code",
   "execution_count": null,
   "id": "69c44ebe",
   "metadata": {
    "hidden": true
   },
   "outputs": [],
   "source": []
  },
  {
   "cell_type": "code",
   "execution_count": null,
   "id": "a22db6fb",
   "metadata": {
    "hidden": true
   },
   "outputs": [],
   "source": []
  },
  {
   "cell_type": "code",
   "execution_count": null,
   "id": "caadc9fa",
   "metadata": {
    "hidden": true
   },
   "outputs": [],
   "source": []
  }
 ],
 "metadata": {
  "kernelspec": {
   "display_name": "Python 3 (ipykernel)",
   "language": "python",
   "name": "python3"
  },
  "language_info": {
   "codemirror_mode": {
    "name": "ipython",
    "version": 3
   },
   "file_extension": ".py",
   "mimetype": "text/x-python",
   "name": "python",
   "nbconvert_exporter": "python",
   "pygments_lexer": "ipython3",
   "version": "3.9.6"
  },
  "varInspector": {
   "cols": {
    "lenName": 16,
    "lenType": 16,
    "lenVar": 40
   },
   "kernels_config": {
    "python": {
     "delete_cmd_postfix": "",
     "delete_cmd_prefix": "del ",
     "library": "var_list.py",
     "varRefreshCmd": "print(var_dic_list())"
    },
    "r": {
     "delete_cmd_postfix": ") ",
     "delete_cmd_prefix": "rm(",
     "library": "var_list.r",
     "varRefreshCmd": "cat(var_dic_list()) "
    }
   },
   "types_to_exclude": [
    "module",
    "function",
    "builtin_function_or_method",
    "instance",
    "_Feature"
   ],
   "window_display": false
  }
 },
 "nbformat": 4,
 "nbformat_minor": 5
}
